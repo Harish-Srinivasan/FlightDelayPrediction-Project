{
  "nbformat": 4,
  "nbformat_minor": 0,
  "metadata": {
    "colab": {
      "name": "Classification.ipynb",
      "provenance": []
    },
    "kernelspec": {
      "name": "python3",
      "display_name": "Python 3"
    }
  },
  "cells": [
    {
      "cell_type": "code",
      "metadata": {
        "id": "gPP7DvJK2xLR",
        "colab": {
          "base_uri": "https://localhost:8080/",
          "height": 122
        },
        "outputId": "d3363fd0-7816-4fd6-ed42-d005f6e4d219"
      },
      "source": [
        "import pandas as pd\n",
        "from pandas import np\n",
        "from google.colab import drive\n",
        "drive.mount('/content/gdrive')"
      ],
      "execution_count": null,
      "outputs": [
        {
          "output_type": "stream",
          "text": [
            "Go to this URL in a browser: https://accounts.google.com/o/oauth2/auth?client_id=947318989803-6bn6qk8qdgf4n4g3pfee6491hc0brc4i.apps.googleusercontent.com&redirect_uri=urn%3aietf%3awg%3aoauth%3a2.0%3aoob&response_type=code&scope=email%20https%3a%2f%2fwww.googleapis.com%2fauth%2fdocs.test%20https%3a%2f%2fwww.googleapis.com%2fauth%2fdrive%20https%3a%2f%2fwww.googleapis.com%2fauth%2fdrive.photos.readonly%20https%3a%2f%2fwww.googleapis.com%2fauth%2fpeopleapi.readonly\n",
            "\n",
            "Enter your authorization code:\n",
            "··········\n",
            "Mounted at /content/gdrive\n"
          ],
          "name": "stdout"
        }
      ]
    },
    {
      "cell_type": "code",
      "metadata": {
        "id": "SVEBR2sY2-xd",
        "colab": {
          "base_uri": "https://localhost:8080/",
          "height": 71
        },
        "outputId": "aa35f5b8-fd76-4aa7-c3bd-4986ab3847cc"
      },
      "source": [
        "dfmerge = pd.read_csv(\"/content/gdrive/My Drive/mergeddata.csv\",index_col=0)"
      ],
      "execution_count": null,
      "outputs": [
        {
          "output_type": "stream",
          "text": [
            "/usr/local/lib/python3.6/dist-packages/numpy/lib/arraysetops.py:568: FutureWarning: elementwise comparison failed; returning scalar instead, but in the future will perform elementwise comparison\n",
            "  mask |= (ar1 == a)\n"
          ],
          "name": "stderr"
        }
      ]
    },
    {
      "cell_type": "code",
      "metadata": {
        "id": "2y3DhysA-zEO",
        "colab": {
          "base_uri": "https://localhost:8080/",
          "height": 444
        },
        "outputId": "8c6221bb-78a7-4a14-d988-658cac8a14fe"
      },
      "source": [
        "dfmerge"
      ],
      "execution_count": null,
      "outputs": [
        {
          "output_type": "execute_result",
          "data": {
            "text/html": [
              "<div>\n",
              "<style scoped>\n",
              "    .dataframe tbody tr th:only-of-type {\n",
              "        vertical-align: middle;\n",
              "    }\n",
              "\n",
              "    .dataframe tbody tr th {\n",
              "        vertical-align: top;\n",
              "    }\n",
              "\n",
              "    .dataframe thead th {\n",
              "        text-align: right;\n",
              "    }\n",
              "</style>\n",
              "<table border=\"1\" class=\"dataframe\">\n",
              "  <thead>\n",
              "    <tr style=\"text-align: right;\">\n",
              "      <th></th>\n",
              "      <th>Year</th>\n",
              "      <th>Quarter</th>\n",
              "      <th>Month</th>\n",
              "      <th>DayofMonth</th>\n",
              "      <th>FlightDate</th>\n",
              "      <th>DepTime</th>\n",
              "      <th>DepDel15</th>\n",
              "      <th>CRSDepTime</th>\n",
              "      <th>DepDelayMinutes</th>\n",
              "      <th>OriginAirportID</th>\n",
              "      <th>DestAirportID</th>\n",
              "      <th>ArrTime</th>\n",
              "      <th>CRSArrTime</th>\n",
              "      <th>ArrDel15</th>\n",
              "      <th>ArrDelayMinutes</th>\n",
              "      <th>Dest</th>\n",
              "      <th>Origin</th>\n",
              "      <th>windspeedKmph_x</th>\n",
              "      <th>winddirDegree_x</th>\n",
              "      <th>weatherCode_x</th>\n",
              "      <th>precipMM_x</th>\n",
              "      <th>visibility_x</th>\n",
              "      <th>pressure_x</th>\n",
              "      <th>cloudcover_x</th>\n",
              "      <th>DewPointF_x</th>\n",
              "      <th>WindGustKmph_x</th>\n",
              "      <th>tempF_x</th>\n",
              "      <th>WindChillF_x</th>\n",
              "      <th>humidity_x</th>\n",
              "      <th>time_x</th>\n",
              "      <th>date_x</th>\n",
              "      <th>airport_x</th>\n",
              "      <th>windspeedKmph_y</th>\n",
              "      <th>winddirDegree_y</th>\n",
              "      <th>weatherCode_y</th>\n",
              "      <th>precipMM_y</th>\n",
              "      <th>visibility_y</th>\n",
              "      <th>pressure_y</th>\n",
              "      <th>cloudcover_y</th>\n",
              "      <th>DewPointF_y</th>\n",
              "      <th>WindGustKmph_y</th>\n",
              "      <th>tempF_y</th>\n",
              "      <th>WindChillF_y</th>\n",
              "      <th>humidity_y</th>\n",
              "      <th>time_y</th>\n",
              "      <th>date_y</th>\n",
              "      <th>airport_y</th>\n",
              "    </tr>\n",
              "  </thead>\n",
              "  <tbody>\n",
              "    <tr>\n",
              "      <th>0</th>\n",
              "      <td>2016</td>\n",
              "      <td>1</td>\n",
              "      <td>1</td>\n",
              "      <td>1</td>\n",
              "      <td>2016-01-01</td>\n",
              "      <td>1400.0</td>\n",
              "      <td>0.0</td>\n",
              "      <td>1354</td>\n",
              "      <td>0.0</td>\n",
              "      <td>10397</td>\n",
              "      <td>11057</td>\n",
              "      <td>1500.0</td>\n",
              "      <td>1505</td>\n",
              "      <td>0.0</td>\n",
              "      <td>0.0</td>\n",
              "      <td>CLT</td>\n",
              "      <td>ATL</td>\n",
              "      <td>17</td>\n",
              "      <td>317</td>\n",
              "      <td>122</td>\n",
              "      <td>0.0</td>\n",
              "      <td>10</td>\n",
              "      <td>1025</td>\n",
              "      <td>100</td>\n",
              "      <td>38</td>\n",
              "      <td>21</td>\n",
              "      <td>48</td>\n",
              "      <td>39</td>\n",
              "      <td>76</td>\n",
              "      <td>1400.0</td>\n",
              "      <td>2016-01-01</td>\n",
              "      <td>ATL</td>\n",
              "      <td>8</td>\n",
              "      <td>298</td>\n",
              "      <td>122</td>\n",
              "      <td>0.0</td>\n",
              "      <td>10</td>\n",
              "      <td>1022</td>\n",
              "      <td>100</td>\n",
              "      <td>42</td>\n",
              "      <td>10</td>\n",
              "      <td>51</td>\n",
              "      <td>49</td>\n",
              "      <td>73</td>\n",
              "      <td>1500.0</td>\n",
              "      <td>2016-01-01</td>\n",
              "      <td>CLT</td>\n",
              "    </tr>\n",
              "    <tr>\n",
              "      <th>1</th>\n",
              "      <td>2016</td>\n",
              "      <td>1</td>\n",
              "      <td>1</td>\n",
              "      <td>1</td>\n",
              "      <td>2016-01-01</td>\n",
              "      <td>1600.0</td>\n",
              "      <td>0.0</td>\n",
              "      <td>1535</td>\n",
              "      <td>1.0</td>\n",
              "      <td>10397</td>\n",
              "      <td>11057</td>\n",
              "      <td>1700.0</td>\n",
              "      <td>1648</td>\n",
              "      <td>0.0</td>\n",
              "      <td>0.0</td>\n",
              "      <td>CLT</td>\n",
              "      <td>ATL</td>\n",
              "      <td>17</td>\n",
              "      <td>318</td>\n",
              "      <td>122</td>\n",
              "      <td>0.0</td>\n",
              "      <td>10</td>\n",
              "      <td>1024</td>\n",
              "      <td>100</td>\n",
              "      <td>37</td>\n",
              "      <td>24</td>\n",
              "      <td>48</td>\n",
              "      <td>39</td>\n",
              "      <td>74</td>\n",
              "      <td>1600.0</td>\n",
              "      <td>2016-01-01</td>\n",
              "      <td>ATL</td>\n",
              "      <td>8</td>\n",
              "      <td>294</td>\n",
              "      <td>122</td>\n",
              "      <td>0.0</td>\n",
              "      <td>10</td>\n",
              "      <td>1022</td>\n",
              "      <td>100</td>\n",
              "      <td>42</td>\n",
              "      <td>11</td>\n",
              "      <td>50</td>\n",
              "      <td>48</td>\n",
              "      <td>75</td>\n",
              "      <td>1700.0</td>\n",
              "      <td>2016-01-01</td>\n",
              "      <td>CLT</td>\n",
              "    </tr>\n",
              "    <tr>\n",
              "      <th>2</th>\n",
              "      <td>2016</td>\n",
              "      <td>1</td>\n",
              "      <td>1</td>\n",
              "      <td>1</td>\n",
              "      <td>2016-01-01</td>\n",
              "      <td>1800.0</td>\n",
              "      <td>1.0</td>\n",
              "      <td>1740</td>\n",
              "      <td>48.0</td>\n",
              "      <td>10397</td>\n",
              "      <td>11057</td>\n",
              "      <td>1900.0</td>\n",
              "      <td>1852</td>\n",
              "      <td>1.0</td>\n",
              "      <td>36.0</td>\n",
              "      <td>CLT</td>\n",
              "      <td>ATL</td>\n",
              "      <td>17</td>\n",
              "      <td>319</td>\n",
              "      <td>122</td>\n",
              "      <td>0.0</td>\n",
              "      <td>10</td>\n",
              "      <td>1024</td>\n",
              "      <td>100</td>\n",
              "      <td>36</td>\n",
              "      <td>26</td>\n",
              "      <td>45</td>\n",
              "      <td>38</td>\n",
              "      <td>73</td>\n",
              "      <td>1800.0</td>\n",
              "      <td>2016-01-01</td>\n",
              "      <td>ATL</td>\n",
              "      <td>8</td>\n",
              "      <td>294</td>\n",
              "      <td>122</td>\n",
              "      <td>0.0</td>\n",
              "      <td>10</td>\n",
              "      <td>1022</td>\n",
              "      <td>100</td>\n",
              "      <td>41</td>\n",
              "      <td>12</td>\n",
              "      <td>49</td>\n",
              "      <td>47</td>\n",
              "      <td>74</td>\n",
              "      <td>1900.0</td>\n",
              "      <td>2016-01-01</td>\n",
              "      <td>CLT</td>\n",
              "    </tr>\n",
              "    <tr>\n",
              "      <th>3</th>\n",
              "      <td>2016</td>\n",
              "      <td>1</td>\n",
              "      <td>1</td>\n",
              "      <td>1</td>\n",
              "      <td>2016-01-01</td>\n",
              "      <td>1100.0</td>\n",
              "      <td>0.0</td>\n",
              "      <td>1040</td>\n",
              "      <td>0.0</td>\n",
              "      <td>10397</td>\n",
              "      <td>11057</td>\n",
              "      <td>1200.0</td>\n",
              "      <td>1157</td>\n",
              "      <td>0.0</td>\n",
              "      <td>0.0</td>\n",
              "      <td>CLT</td>\n",
              "      <td>ATL</td>\n",
              "      <td>17</td>\n",
              "      <td>317</td>\n",
              "      <td>122</td>\n",
              "      <td>0.0</td>\n",
              "      <td>10</td>\n",
              "      <td>1025</td>\n",
              "      <td>100</td>\n",
              "      <td>38</td>\n",
              "      <td>20</td>\n",
              "      <td>45</td>\n",
              "      <td>37</td>\n",
              "      <td>84</td>\n",
              "      <td>1100.0</td>\n",
              "      <td>2016-01-01</td>\n",
              "      <td>ATL</td>\n",
              "      <td>6</td>\n",
              "      <td>108</td>\n",
              "      <td>119</td>\n",
              "      <td>0.0</td>\n",
              "      <td>10</td>\n",
              "      <td>1023</td>\n",
              "      <td>86</td>\n",
              "      <td>41</td>\n",
              "      <td>8</td>\n",
              "      <td>48</td>\n",
              "      <td>46</td>\n",
              "      <td>78</td>\n",
              "      <td>1200.0</td>\n",
              "      <td>2016-01-01</td>\n",
              "      <td>CLT</td>\n",
              "    </tr>\n",
              "    <tr>\n",
              "      <th>4</th>\n",
              "      <td>2016</td>\n",
              "      <td>1</td>\n",
              "      <td>1</td>\n",
              "      <td>1</td>\n",
              "      <td>2016-01-01</td>\n",
              "      <td>900.0</td>\n",
              "      <td>0.0</td>\n",
              "      <td>850</td>\n",
              "      <td>2.0</td>\n",
              "      <td>10397</td>\n",
              "      <td>11057</td>\n",
              "      <td>1000.0</td>\n",
              "      <td>1009</td>\n",
              "      <td>0.0</td>\n",
              "      <td>0.0</td>\n",
              "      <td>CLT</td>\n",
              "      <td>ATL</td>\n",
              "      <td>17</td>\n",
              "      <td>319</td>\n",
              "      <td>122</td>\n",
              "      <td>0.0</td>\n",
              "      <td>10</td>\n",
              "      <td>1025</td>\n",
              "      <td>100</td>\n",
              "      <td>39</td>\n",
              "      <td>20</td>\n",
              "      <td>42</td>\n",
              "      <td>35</td>\n",
              "      <td>92</td>\n",
              "      <td>900.0</td>\n",
              "      <td>2016-01-01</td>\n",
              "      <td>ATL</td>\n",
              "      <td>7</td>\n",
              "      <td>48</td>\n",
              "      <td>143</td>\n",
              "      <td>0.0</td>\n",
              "      <td>6</td>\n",
              "      <td>1023</td>\n",
              "      <td>90</td>\n",
              "      <td>42</td>\n",
              "      <td>9</td>\n",
              "      <td>47</td>\n",
              "      <td>44</td>\n",
              "      <td>86</td>\n",
              "      <td>1000.0</td>\n",
              "      <td>2016-01-01</td>\n",
              "      <td>CLT</td>\n",
              "    </tr>\n",
              "    <tr>\n",
              "      <th>...</th>\n",
              "      <td>...</td>\n",
              "      <td>...</td>\n",
              "      <td>...</td>\n",
              "      <td>...</td>\n",
              "      <td>...</td>\n",
              "      <td>...</td>\n",
              "      <td>...</td>\n",
              "      <td>...</td>\n",
              "      <td>...</td>\n",
              "      <td>...</td>\n",
              "      <td>...</td>\n",
              "      <td>...</td>\n",
              "      <td>...</td>\n",
              "      <td>...</td>\n",
              "      <td>...</td>\n",
              "      <td>...</td>\n",
              "      <td>...</td>\n",
              "      <td>...</td>\n",
              "      <td>...</td>\n",
              "      <td>...</td>\n",
              "      <td>...</td>\n",
              "      <td>...</td>\n",
              "      <td>...</td>\n",
              "      <td>...</td>\n",
              "      <td>...</td>\n",
              "      <td>...</td>\n",
              "      <td>...</td>\n",
              "      <td>...</td>\n",
              "      <td>...</td>\n",
              "      <td>...</td>\n",
              "      <td>...</td>\n",
              "      <td>...</td>\n",
              "      <td>...</td>\n",
              "      <td>...</td>\n",
              "      <td>...</td>\n",
              "      <td>...</td>\n",
              "      <td>...</td>\n",
              "      <td>...</td>\n",
              "      <td>...</td>\n",
              "      <td>...</td>\n",
              "      <td>...</td>\n",
              "      <td>...</td>\n",
              "      <td>...</td>\n",
              "      <td>...</td>\n",
              "      <td>...</td>\n",
              "      <td>...</td>\n",
              "      <td>...</td>\n",
              "    </tr>\n",
              "    <tr>\n",
              "      <th>1851431</th>\n",
              "      <td>2017</td>\n",
              "      <td>4</td>\n",
              "      <td>12</td>\n",
              "      <td>17</td>\n",
              "      <td>2017-12-17</td>\n",
              "      <td>1900.0</td>\n",
              "      <td>0.0</td>\n",
              "      <td>1930</td>\n",
              "      <td>0.0</td>\n",
              "      <td>14771</td>\n",
              "      <td>14747</td>\n",
              "      <td>2200.0</td>\n",
              "      <td>2143</td>\n",
              "      <td>0.0</td>\n",
              "      <td>0.0</td>\n",
              "      <td>SEA</td>\n",
              "      <td>SFO</td>\n",
              "      <td>6</td>\n",
              "      <td>299</td>\n",
              "      <td>116</td>\n",
              "      <td>0.0</td>\n",
              "      <td>10</td>\n",
              "      <td>1018</td>\n",
              "      <td>1</td>\n",
              "      <td>44</td>\n",
              "      <td>8</td>\n",
              "      <td>64</td>\n",
              "      <td>64</td>\n",
              "      <td>48</td>\n",
              "      <td>1900.0</td>\n",
              "      <td>2017-12-17</td>\n",
              "      <td>SFO</td>\n",
              "      <td>15</td>\n",
              "      <td>205</td>\n",
              "      <td>122</td>\n",
              "      <td>0.0</td>\n",
              "      <td>9</td>\n",
              "      <td>1015</td>\n",
              "      <td>100</td>\n",
              "      <td>42</td>\n",
              "      <td>39</td>\n",
              "      <td>45</td>\n",
              "      <td>38</td>\n",
              "      <td>88</td>\n",
              "      <td>2200.0</td>\n",
              "      <td>2017-12-17</td>\n",
              "      <td>SEA</td>\n",
              "    </tr>\n",
              "    <tr>\n",
              "      <th>1851432</th>\n",
              "      <td>2017</td>\n",
              "      <td>4</td>\n",
              "      <td>12</td>\n",
              "      <td>17</td>\n",
              "      <td>2017-12-17</td>\n",
              "      <td>1600.0</td>\n",
              "      <td>0.0</td>\n",
              "      <td>1613</td>\n",
              "      <td>0.0</td>\n",
              "      <td>14771</td>\n",
              "      <td>14747</td>\n",
              "      <td>1800.0</td>\n",
              "      <td>1824</td>\n",
              "      <td>0.0</td>\n",
              "      <td>0.0</td>\n",
              "      <td>SEA</td>\n",
              "      <td>SFO</td>\n",
              "      <td>7</td>\n",
              "      <td>201</td>\n",
              "      <td>113</td>\n",
              "      <td>0.0</td>\n",
              "      <td>10</td>\n",
              "      <td>1017</td>\n",
              "      <td>0</td>\n",
              "      <td>35</td>\n",
              "      <td>10</td>\n",
              "      <td>61</td>\n",
              "      <td>61</td>\n",
              "      <td>38</td>\n",
              "      <td>1600.0</td>\n",
              "      <td>2017-12-17</td>\n",
              "      <td>SFO</td>\n",
              "      <td>12</td>\n",
              "      <td>204</td>\n",
              "      <td>122</td>\n",
              "      <td>0.0</td>\n",
              "      <td>10</td>\n",
              "      <td>1016</td>\n",
              "      <td>100</td>\n",
              "      <td>42</td>\n",
              "      <td>40</td>\n",
              "      <td>44</td>\n",
              "      <td>37</td>\n",
              "      <td>90</td>\n",
              "      <td>1800.0</td>\n",
              "      <td>2017-12-17</td>\n",
              "      <td>SEA</td>\n",
              "    </tr>\n",
              "    <tr>\n",
              "      <th>1851433</th>\n",
              "      <td>2017</td>\n",
              "      <td>4</td>\n",
              "      <td>12</td>\n",
              "      <td>17</td>\n",
              "      <td>2017-12-17</td>\n",
              "      <td>2000.0</td>\n",
              "      <td>0.0</td>\n",
              "      <td>2005</td>\n",
              "      <td>0.0</td>\n",
              "      <td>14771</td>\n",
              "      <td>14747</td>\n",
              "      <td>2200.0</td>\n",
              "      <td>2216</td>\n",
              "      <td>0.0</td>\n",
              "      <td>10.0</td>\n",
              "      <td>SEA</td>\n",
              "      <td>SFO</td>\n",
              "      <td>6</td>\n",
              "      <td>262</td>\n",
              "      <td>116</td>\n",
              "      <td>0.0</td>\n",
              "      <td>10</td>\n",
              "      <td>1018</td>\n",
              "      <td>1</td>\n",
              "      <td>47</td>\n",
              "      <td>8</td>\n",
              "      <td>64</td>\n",
              "      <td>64</td>\n",
              "      <td>54</td>\n",
              "      <td>2000.0</td>\n",
              "      <td>2017-12-17</td>\n",
              "      <td>SFO</td>\n",
              "      <td>15</td>\n",
              "      <td>205</td>\n",
              "      <td>122</td>\n",
              "      <td>0.0</td>\n",
              "      <td>9</td>\n",
              "      <td>1015</td>\n",
              "      <td>100</td>\n",
              "      <td>42</td>\n",
              "      <td>39</td>\n",
              "      <td>45</td>\n",
              "      <td>38</td>\n",
              "      <td>88</td>\n",
              "      <td>2200.0</td>\n",
              "      <td>2017-12-17</td>\n",
              "      <td>SEA</td>\n",
              "    </tr>\n",
              "    <tr>\n",
              "      <th>1851434</th>\n",
              "      <td>2017</td>\n",
              "      <td>4</td>\n",
              "      <td>12</td>\n",
              "      <td>17</td>\n",
              "      <td>2017-12-17</td>\n",
              "      <td>1800.0</td>\n",
              "      <td>0.0</td>\n",
              "      <td>1715</td>\n",
              "      <td>14.0</td>\n",
              "      <td>14771</td>\n",
              "      <td>14747</td>\n",
              "      <td>2000.0</td>\n",
              "      <td>1927</td>\n",
              "      <td>0.0</td>\n",
              "      <td>3.0</td>\n",
              "      <td>SEA</td>\n",
              "      <td>SFO</td>\n",
              "      <td>6</td>\n",
              "      <td>337</td>\n",
              "      <td>116</td>\n",
              "      <td>0.0</td>\n",
              "      <td>10</td>\n",
              "      <td>1017</td>\n",
              "      <td>1</td>\n",
              "      <td>42</td>\n",
              "      <td>7</td>\n",
              "      <td>65</td>\n",
              "      <td>65</td>\n",
              "      <td>43</td>\n",
              "      <td>1800.0</td>\n",
              "      <td>2017-12-17</td>\n",
              "      <td>SFO</td>\n",
              "      <td>14</td>\n",
              "      <td>204</td>\n",
              "      <td>122</td>\n",
              "      <td>0.0</td>\n",
              "      <td>9</td>\n",
              "      <td>1016</td>\n",
              "      <td>100</td>\n",
              "      <td>42</td>\n",
              "      <td>39</td>\n",
              "      <td>45</td>\n",
              "      <td>38</td>\n",
              "      <td>88</td>\n",
              "      <td>2000.0</td>\n",
              "      <td>2017-12-17</td>\n",
              "      <td>SEA</td>\n",
              "    </tr>\n",
              "    <tr>\n",
              "      <th>1851435</th>\n",
              "      <td>2017</td>\n",
              "      <td>4</td>\n",
              "      <td>12</td>\n",
              "      <td>17</td>\n",
              "      <td>2017-12-17</td>\n",
              "      <td>1500.0</td>\n",
              "      <td>0.0</td>\n",
              "      <td>1510</td>\n",
              "      <td>5.0</td>\n",
              "      <td>14771</td>\n",
              "      <td>14747</td>\n",
              "      <td>1700.0</td>\n",
              "      <td>1723</td>\n",
              "      <td>0.0</td>\n",
              "      <td>5.0</td>\n",
              "      <td>SEA</td>\n",
              "      <td>SFO</td>\n",
              "      <td>8</td>\n",
              "      <td>133</td>\n",
              "      <td>113</td>\n",
              "      <td>0.0</td>\n",
              "      <td>10</td>\n",
              "      <td>1017</td>\n",
              "      <td>0</td>\n",
              "      <td>32</td>\n",
              "      <td>11</td>\n",
              "      <td>60</td>\n",
              "      <td>59</td>\n",
              "      <td>35</td>\n",
              "      <td>1500.0</td>\n",
              "      <td>2017-12-17</td>\n",
              "      <td>SFO</td>\n",
              "      <td>12</td>\n",
              "      <td>204</td>\n",
              "      <td>122</td>\n",
              "      <td>0.0</td>\n",
              "      <td>9</td>\n",
              "      <td>1016</td>\n",
              "      <td>100</td>\n",
              "      <td>41</td>\n",
              "      <td>39</td>\n",
              "      <td>44</td>\n",
              "      <td>37</td>\n",
              "      <td>90</td>\n",
              "      <td>1700.0</td>\n",
              "      <td>2017-12-17</td>\n",
              "      <td>SEA</td>\n",
              "    </tr>\n",
              "  </tbody>\n",
              "</table>\n",
              "<p>1851436 rows × 47 columns</p>\n",
              "</div>"
            ],
            "text/plain": [
              "         Year  Quarter  Month  ...  time_y      date_y  airport_y\n",
              "0        2016        1      1  ...  1500.0  2016-01-01        CLT\n",
              "1        2016        1      1  ...  1700.0  2016-01-01        CLT\n",
              "2        2016        1      1  ...  1900.0  2016-01-01        CLT\n",
              "3        2016        1      1  ...  1200.0  2016-01-01        CLT\n",
              "4        2016        1      1  ...  1000.0  2016-01-01        CLT\n",
              "...       ...      ...    ...  ...     ...         ...        ...\n",
              "1851431  2017        4     12  ...  2200.0  2017-12-17        SEA\n",
              "1851432  2017        4     12  ...  1800.0  2017-12-17        SEA\n",
              "1851433  2017        4     12  ...  2200.0  2017-12-17        SEA\n",
              "1851434  2017        4     12  ...  2000.0  2017-12-17        SEA\n",
              "1851435  2017        4     12  ...  1700.0  2017-12-17        SEA\n",
              "\n",
              "[1851436 rows x 47 columns]"
            ]
          },
          "metadata": {
            "tags": []
          },
          "execution_count": 62
        }
      ]
    },
    {
      "cell_type": "code",
      "metadata": {
        "id": "p5GsgEocPVVR",
        "colab": {
          "base_uri": "https://localhost:8080/",
          "height": 320
        },
        "outputId": "c872c4c6-f70c-4c23-e8b1-cd5792e5eb88"
      },
      "source": [
        "dfmerge.describe()"
      ],
      "execution_count": null,
      "outputs": [
        {
          "output_type": "execute_result",
          "data": {
            "text/html": [
              "<div>\n",
              "<style scoped>\n",
              "    .dataframe tbody tr th:only-of-type {\n",
              "        vertical-align: middle;\n",
              "    }\n",
              "\n",
              "    .dataframe tbody tr th {\n",
              "        vertical-align: top;\n",
              "    }\n",
              "\n",
              "    .dataframe thead th {\n",
              "        text-align: right;\n",
              "    }\n",
              "</style>\n",
              "<table border=\"1\" class=\"dataframe\">\n",
              "  <thead>\n",
              "    <tr style=\"text-align: right;\">\n",
              "      <th></th>\n",
              "      <th>Year</th>\n",
              "      <th>Quarter</th>\n",
              "      <th>Month</th>\n",
              "      <th>DayofMonth</th>\n",
              "      <th>DepTime</th>\n",
              "      <th>DepDel15</th>\n",
              "      <th>CRSDepTime</th>\n",
              "      <th>DepDelayMinutes</th>\n",
              "      <th>OriginAirportID</th>\n",
              "      <th>DestAirportID</th>\n",
              "      <th>ArrTime</th>\n",
              "      <th>CRSArrTime</th>\n",
              "      <th>ArrDel15</th>\n",
              "      <th>ArrDelayMinutes</th>\n",
              "      <th>windspeedKmph_x</th>\n",
              "      <th>winddirDegree_x</th>\n",
              "      <th>weatherCode_x</th>\n",
              "      <th>precipMM_x</th>\n",
              "      <th>visibility_x</th>\n",
              "      <th>pressure_x</th>\n",
              "      <th>cloudcover_x</th>\n",
              "      <th>DewPointF_x</th>\n",
              "      <th>WindGustKmph_x</th>\n",
              "      <th>tempF_x</th>\n",
              "      <th>WindChillF_x</th>\n",
              "      <th>humidity_x</th>\n",
              "      <th>time_x</th>\n",
              "      <th>windspeedKmph_y</th>\n",
              "      <th>winddirDegree_y</th>\n",
              "      <th>weatherCode_y</th>\n",
              "      <th>precipMM_y</th>\n",
              "      <th>visibility_y</th>\n",
              "      <th>pressure_y</th>\n",
              "      <th>cloudcover_y</th>\n",
              "      <th>DewPointF_y</th>\n",
              "      <th>WindGustKmph_y</th>\n",
              "      <th>tempF_y</th>\n",
              "      <th>WindChillF_y</th>\n",
              "      <th>humidity_y</th>\n",
              "      <th>time_y</th>\n",
              "    </tr>\n",
              "  </thead>\n",
              "  <tbody>\n",
              "    <tr>\n",
              "      <th>count</th>\n",
              "      <td>1.851436e+06</td>\n",
              "      <td>1.851436e+06</td>\n",
              "      <td>1.851436e+06</td>\n",
              "      <td>1.851436e+06</td>\n",
              "      <td>1.851436e+06</td>\n",
              "      <td>1.851436e+06</td>\n",
              "      <td>1.851436e+06</td>\n",
              "      <td>1.851436e+06</td>\n",
              "      <td>1.851436e+06</td>\n",
              "      <td>1.851436e+06</td>\n",
              "      <td>1.851436e+06</td>\n",
              "      <td>1.851436e+06</td>\n",
              "      <td>1.851436e+06</td>\n",
              "      <td>1.851436e+06</td>\n",
              "      <td>1.851436e+06</td>\n",
              "      <td>1.851436e+06</td>\n",
              "      <td>1.851436e+06</td>\n",
              "      <td>1.851436e+06</td>\n",
              "      <td>1.851436e+06</td>\n",
              "      <td>1.851436e+06</td>\n",
              "      <td>1.851436e+06</td>\n",
              "      <td>1.851436e+06</td>\n",
              "      <td>1.851436e+06</td>\n",
              "      <td>1.851436e+06</td>\n",
              "      <td>1.851436e+06</td>\n",
              "      <td>1.851436e+06</td>\n",
              "      <td>1.851436e+06</td>\n",
              "      <td>1.851436e+06</td>\n",
              "      <td>1.851436e+06</td>\n",
              "      <td>1.851436e+06</td>\n",
              "      <td>1.851436e+06</td>\n",
              "      <td>1.851436e+06</td>\n",
              "      <td>1.851436e+06</td>\n",
              "      <td>1.851436e+06</td>\n",
              "      <td>1.851436e+06</td>\n",
              "      <td>1.851436e+06</td>\n",
              "      <td>1.851436e+06</td>\n",
              "      <td>1.851436e+06</td>\n",
              "      <td>1.851436e+06</td>\n",
              "      <td>1.851436e+06</td>\n",
              "    </tr>\n",
              "    <tr>\n",
              "      <th>mean</th>\n",
              "      <td>2.016494e+03</td>\n",
              "      <td>2.515180e+00</td>\n",
              "      <td>6.544073e+00</td>\n",
              "      <td>1.576746e+01</td>\n",
              "      <td>1.326890e+03</td>\n",
              "      <td>2.009678e-01</td>\n",
              "      <td>1.327428e+03</td>\n",
              "      <td>1.403783e+01</td>\n",
              "      <td>1.273775e+04</td>\n",
              "      <td>1.273823e+04</td>\n",
              "      <td>1.432453e+03</td>\n",
              "      <td>1.496641e+03</td>\n",
              "      <td>2.095984e-01</td>\n",
              "      <td>1.426119e+01</td>\n",
              "      <td>1.230701e+01</td>\n",
              "      <td>1.869324e+02</td>\n",
              "      <td>1.459305e+02</td>\n",
              "      <td>2.557603e-01</td>\n",
              "      <td>9.431139e+00</td>\n",
              "      <td>1.016144e+03</td>\n",
              "      <td>4.254253e+01</td>\n",
              "      <td>4.937289e+01</td>\n",
              "      <td>1.666337e+01</td>\n",
              "      <td>6.530033e+01</td>\n",
              "      <td>6.392989e+01</td>\n",
              "      <td>6.337441e+01</td>\n",
              "      <td>1.326890e+03</td>\n",
              "      <td>1.247606e+01</td>\n",
              "      <td>1.887261e+02</td>\n",
              "      <td>1.453985e+02</td>\n",
              "      <td>2.598770e-01</td>\n",
              "      <td>9.491199e+00</td>\n",
              "      <td>1.016027e+03</td>\n",
              "      <td>4.159901e+01</td>\n",
              "      <td>4.950566e+01</td>\n",
              "      <td>1.690334e+01</td>\n",
              "      <td>6.583746e+01</td>\n",
              "      <td>6.458144e+01</td>\n",
              "      <td>6.249598e+01</td>\n",
              "      <td>1.432453e+03</td>\n",
              "    </tr>\n",
              "    <tr>\n",
              "      <th>std</th>\n",
              "      <td>4.999633e-01</td>\n",
              "      <td>1.104736e+00</td>\n",
              "      <td>3.396908e+00</td>\n",
              "      <td>8.790680e+00</td>\n",
              "      <td>5.346987e+02</td>\n",
              "      <td>4.007241e-01</td>\n",
              "      <td>5.115290e+02</td>\n",
              "      <td>4.152727e+01</td>\n",
              "      <td>1.354932e+03</td>\n",
              "      <td>1.354563e+03</td>\n",
              "      <td>5.956147e+02</td>\n",
              "      <td>5.431142e+02</td>\n",
              "      <td>4.070221e-01</td>\n",
              "      <td>4.143587e+01</td>\n",
              "      <td>6.475690e+00</td>\n",
              "      <td>8.682291e+01</td>\n",
              "      <td>6.969844e+01</td>\n",
              "      <td>9.815135e-01</td>\n",
              "      <td>1.838825e+00</td>\n",
              "      <td>6.311455e+00</td>\n",
              "      <td>3.963131e+01</td>\n",
              "      <td>1.614131e+01</td>\n",
              "      <td>8.985794e+00</td>\n",
              "      <td>1.711287e+01</td>\n",
              "      <td>1.900170e+01</td>\n",
              "      <td>2.243274e+01</td>\n",
              "      <td>5.346987e+02</td>\n",
              "      <td>6.439820e+00</td>\n",
              "      <td>8.617213e+01</td>\n",
              "      <td>6.948374e+01</td>\n",
              "      <td>9.985014e-01</td>\n",
              "      <td>1.748177e+00</td>\n",
              "      <td>6.307915e+00</td>\n",
              "      <td>3.932960e+01</td>\n",
              "      <td>1.612049e+01</td>\n",
              "      <td>9.037298e+00</td>\n",
              "      <td>1.707904e+01</td>\n",
              "      <td>1.889954e+01</td>\n",
              "      <td>2.255514e+01</td>\n",
              "      <td>5.956147e+02</td>\n",
              "    </tr>\n",
              "    <tr>\n",
              "      <th>min</th>\n",
              "      <td>2.016000e+03</td>\n",
              "      <td>1.000000e+00</td>\n",
              "      <td>1.000000e+00</td>\n",
              "      <td>1.000000e+00</td>\n",
              "      <td>0.000000e+00</td>\n",
              "      <td>0.000000e+00</td>\n",
              "      <td>1.000000e+00</td>\n",
              "      <td>0.000000e+00</td>\n",
              "      <td>1.039700e+04</td>\n",
              "      <td>1.039700e+04</td>\n",
              "      <td>0.000000e+00</td>\n",
              "      <td>1.000000e+00</td>\n",
              "      <td>0.000000e+00</td>\n",
              "      <td>0.000000e+00</td>\n",
              "      <td>0.000000e+00</td>\n",
              "      <td>0.000000e+00</td>\n",
              "      <td>1.130000e+02</td>\n",
              "      <td>0.000000e+00</td>\n",
              "      <td>0.000000e+00</td>\n",
              "      <td>9.840000e+02</td>\n",
              "      <td>0.000000e+00</td>\n",
              "      <td>-1.500000e+01</td>\n",
              "      <td>1.000000e+00</td>\n",
              "      <td>-1.000000e+01</td>\n",
              "      <td>-2.500000e+01</td>\n",
              "      <td>3.000000e+00</td>\n",
              "      <td>0.000000e+00</td>\n",
              "      <td>0.000000e+00</td>\n",
              "      <td>0.000000e+00</td>\n",
              "      <td>1.130000e+02</td>\n",
              "      <td>0.000000e+00</td>\n",
              "      <td>0.000000e+00</td>\n",
              "      <td>9.810000e+02</td>\n",
              "      <td>0.000000e+00</td>\n",
              "      <td>-1.500000e+01</td>\n",
              "      <td>1.000000e+00</td>\n",
              "      <td>-1.000000e+01</td>\n",
              "      <td>-2.500000e+01</td>\n",
              "      <td>3.000000e+00</td>\n",
              "      <td>0.000000e+00</td>\n",
              "    </tr>\n",
              "    <tr>\n",
              "      <th>25%</th>\n",
              "      <td>2.016000e+03</td>\n",
              "      <td>2.000000e+00</td>\n",
              "      <td>4.000000e+00</td>\n",
              "      <td>8.000000e+00</td>\n",
              "      <td>9.000000e+02</td>\n",
              "      <td>0.000000e+00</td>\n",
              "      <td>9.050000e+02</td>\n",
              "      <td>0.000000e+00</td>\n",
              "      <td>1.129800e+04</td>\n",
              "      <td>1.129800e+04</td>\n",
              "      <td>1.000000e+03</td>\n",
              "      <td>1.110000e+03</td>\n",
              "      <td>0.000000e+00</td>\n",
              "      <td>0.000000e+00</td>\n",
              "      <td>7.000000e+00</td>\n",
              "      <td>1.210000e+02</td>\n",
              "      <td>1.130000e+02</td>\n",
              "      <td>0.000000e+00</td>\n",
              "      <td>1.000000e+01</td>\n",
              "      <td>1.012000e+03</td>\n",
              "      <td>0.000000e+00</td>\n",
              "      <td>3.800000e+01</td>\n",
              "      <td>1.000000e+01</td>\n",
              "      <td>5.500000e+01</td>\n",
              "      <td>5.300000e+01</td>\n",
              "      <td>4.800000e+01</td>\n",
              "      <td>9.000000e+02</td>\n",
              "      <td>8.000000e+00</td>\n",
              "      <td>1.240000e+02</td>\n",
              "      <td>1.130000e+02</td>\n",
              "      <td>0.000000e+00</td>\n",
              "      <td>1.000000e+01</td>\n",
              "      <td>1.012000e+03</td>\n",
              "      <td>0.000000e+00</td>\n",
              "      <td>3.800000e+01</td>\n",
              "      <td>1.000000e+01</td>\n",
              "      <td>5.500000e+01</td>\n",
              "      <td>5.400000e+01</td>\n",
              "      <td>4.700000e+01</td>\n",
              "      <td>1.000000e+03</td>\n",
              "    </tr>\n",
              "    <tr>\n",
              "      <th>50%</th>\n",
              "      <td>2.016000e+03</td>\n",
              "      <td>3.000000e+00</td>\n",
              "      <td>7.000000e+00</td>\n",
              "      <td>1.600000e+01</td>\n",
              "      <td>1.300000e+03</td>\n",
              "      <td>0.000000e+00</td>\n",
              "      <td>1.316000e+03</td>\n",
              "      <td>0.000000e+00</td>\n",
              "      <td>1.289200e+04</td>\n",
              "      <td>1.289200e+04</td>\n",
              "      <td>1.500000e+03</td>\n",
              "      <td>1.534000e+03</td>\n",
              "      <td>0.000000e+00</td>\n",
              "      <td>0.000000e+00</td>\n",
              "      <td>1.100000e+01</td>\n",
              "      <td>1.950000e+02</td>\n",
              "      <td>1.160000e+02</td>\n",
              "      <td>0.000000e+00</td>\n",
              "      <td>1.000000e+01</td>\n",
              "      <td>1.016000e+03</td>\n",
              "      <td>3.400000e+01</td>\n",
              "      <td>5.100000e+01</td>\n",
              "      <td>1.500000e+01</td>\n",
              "      <td>6.600000e+01</td>\n",
              "      <td>6.600000e+01</td>\n",
              "      <td>6.700000e+01</td>\n",
              "      <td>1.300000e+03</td>\n",
              "      <td>1.200000e+01</td>\n",
              "      <td>1.970000e+02</td>\n",
              "      <td>1.160000e+02</td>\n",
              "      <td>0.000000e+00</td>\n",
              "      <td>1.000000e+01</td>\n",
              "      <td>1.016000e+03</td>\n",
              "      <td>3.300000e+01</td>\n",
              "      <td>5.200000e+01</td>\n",
              "      <td>1.500000e+01</td>\n",
              "      <td>6.700000e+01</td>\n",
              "      <td>6.600000e+01</td>\n",
              "      <td>6.600000e+01</td>\n",
              "      <td>1.500000e+03</td>\n",
              "    </tr>\n",
              "    <tr>\n",
              "      <th>75%</th>\n",
              "      <td>2.017000e+03</td>\n",
              "      <td>3.000000e+00</td>\n",
              "      <td>9.000000e+00</td>\n",
              "      <td>2.300000e+01</td>\n",
              "      <td>1.800000e+03</td>\n",
              "      <td>0.000000e+00</td>\n",
              "      <td>1.737000e+03</td>\n",
              "      <td>9.000000e+00</td>\n",
              "      <td>1.393000e+04</td>\n",
              "      <td>1.393000e+04</td>\n",
              "      <td>1.900000e+03</td>\n",
              "      <td>1.938000e+03</td>\n",
              "      <td>0.000000e+00</td>\n",
              "      <td>1.000000e+01</td>\n",
              "      <td>1.600000e+01</td>\n",
              "      <td>2.540000e+02</td>\n",
              "      <td>1.220000e+02</td>\n",
              "      <td>0.000000e+00</td>\n",
              "      <td>1.000000e+01</td>\n",
              "      <td>1.020000e+03</td>\n",
              "      <td>8.400000e+01</td>\n",
              "      <td>6.200000e+01</td>\n",
              "      <td>2.100000e+01</td>\n",
              "      <td>7.800000e+01</td>\n",
              "      <td>7.800000e+01</td>\n",
              "      <td>8.200000e+01</td>\n",
              "      <td>1.800000e+03</td>\n",
              "      <td>1.600000e+01</td>\n",
              "      <td>2.560000e+02</td>\n",
              "      <td>1.220000e+02</td>\n",
              "      <td>0.000000e+00</td>\n",
              "      <td>1.000000e+01</td>\n",
              "      <td>1.020000e+03</td>\n",
              "      <td>8.200000e+01</td>\n",
              "      <td>6.200000e+01</td>\n",
              "      <td>2.200000e+01</td>\n",
              "      <td>7.800000e+01</td>\n",
              "      <td>7.800000e+01</td>\n",
              "      <td>8.100000e+01</td>\n",
              "      <td>1.900000e+03</td>\n",
              "    </tr>\n",
              "    <tr>\n",
              "      <th>max</th>\n",
              "      <td>2.017000e+03</td>\n",
              "      <td>4.000000e+00</td>\n",
              "      <td>1.200000e+01</td>\n",
              "      <td>3.100000e+01</td>\n",
              "      <td>2.300000e+03</td>\n",
              "      <td>1.000000e+00</td>\n",
              "      <td>2.359000e+03</td>\n",
              "      <td>2.149000e+03</td>\n",
              "      <td>1.477100e+04</td>\n",
              "      <td>1.477100e+04</td>\n",
              "      <td>2.300000e+03</td>\n",
              "      <td>2.400000e+03</td>\n",
              "      <td>1.000000e+00</td>\n",
              "      <td>2.142000e+03</td>\n",
              "      <td>5.900000e+01</td>\n",
              "      <td>3.600000e+02</td>\n",
              "      <td>3.950000e+02</td>\n",
              "      <td>3.050000e+01</td>\n",
              "      <td>2.000000e+01</td>\n",
              "      <td>1.046000e+03</td>\n",
              "      <td>1.000000e+02</td>\n",
              "      <td>8.200000e+01</td>\n",
              "      <td>8.200000e+01</td>\n",
              "      <td>1.210000e+02</td>\n",
              "      <td>1.210000e+02</td>\n",
              "      <td>1.000000e+02</td>\n",
              "      <td>2.300000e+03</td>\n",
              "      <td>7.500000e+01</td>\n",
              "      <td>3.600000e+02</td>\n",
              "      <td>3.950000e+02</td>\n",
              "      <td>3.790000e+01</td>\n",
              "      <td>2.000000e+01</td>\n",
              "      <td>1.046000e+03</td>\n",
              "      <td>1.000000e+02</td>\n",
              "      <td>8.300000e+01</td>\n",
              "      <td>1.110000e+02</td>\n",
              "      <td>1.210000e+02</td>\n",
              "      <td>1.210000e+02</td>\n",
              "      <td>1.000000e+02</td>\n",
              "      <td>2.300000e+03</td>\n",
              "    </tr>\n",
              "  </tbody>\n",
              "</table>\n",
              "</div>"
            ],
            "text/plain": [
              "               Year       Quarter  ...    humidity_y        time_y\n",
              "count  1.851436e+06  1.851436e+06  ...  1.851436e+06  1.851436e+06\n",
              "mean   2.016494e+03  2.515180e+00  ...  6.249598e+01  1.432453e+03\n",
              "std    4.999633e-01  1.104736e+00  ...  2.255514e+01  5.956147e+02\n",
              "min    2.016000e+03  1.000000e+00  ...  3.000000e+00  0.000000e+00\n",
              "25%    2.016000e+03  2.000000e+00  ...  4.700000e+01  1.000000e+03\n",
              "50%    2.016000e+03  3.000000e+00  ...  6.600000e+01  1.500000e+03\n",
              "75%    2.017000e+03  3.000000e+00  ...  8.100000e+01  1.900000e+03\n",
              "max    2.017000e+03  4.000000e+00  ...  1.000000e+02  2.300000e+03\n",
              "\n",
              "[8 rows x 40 columns]"
            ]
          },
          "metadata": {
            "tags": []
          },
          "execution_count": 4
        }
      ]
    },
    {
      "cell_type": "markdown",
      "metadata": {
        "id": "cbu6tltn_X8s"
      },
      "source": [
        "### **classification**"
      ]
    },
    {
      "cell_type": "code",
      "metadata": {
        "id": "Bf1evvdY-3w1"
      },
      "source": [
        "from sklearn.model_selection import train_test_split\n",
        "from sklearn.linear_model import LinearRegression\n",
        "from sklearn.linear_model import LogisticRegression\n",
        "from sklearn.tree import DecisionTreeClassifier\n",
        "from sklearn.metrics import classification_report\n",
        "from sklearn.metrics import accuracy_score\n",
        "from sklearn import metrics\n",
        "import matplotlib.pyplot as plt\n",
        "import seaborn as sns\n",
        "%matplotlib inline"
      ],
      "execution_count": null,
      "outputs": []
    },
    {
      "cell_type": "markdown",
      "metadata": {
        "id": "Rd60IfM9Pxvw"
      },
      "source": [
        "### **feature - weather data at origin**"
      ]
    },
    {
      "cell_type": "code",
      "metadata": {
        "id": "aFE0PBXUlsN7"
      },
      "source": [
        "#taking only the weather data at the origin airport as features\n",
        "feature_cols = ['windspeedKmph_x', 'winddirDegree_x', 'weatherCode_x', 'precipMM_x', 'visibility_x',\n",
        "           'pressure_x', 'cloudcover_x', 'DewPointF_x', 'WindGustKmph_x', 'tempF_x',\n",
        "           'WindChillF_x', 'humidity_x']\n",
        "X = dfmerge[feature_cols] #X value containing all data from feature columns\n",
        "y = dfmerge.ArrDel15 #y value containing target variable of arrival delay(0s and 1s)"
      ],
      "execution_count": null,
      "outputs": []
    },
    {
      "cell_type": "code",
      "metadata": {
        "id": "abgo0gupXOZc",
        "colab": {
          "base_uri": "https://localhost:8080/",
          "height": 156
        },
        "outputId": "db0d2a85-eddd-4cc3-f8f1-6491189b5a35"
      },
      "source": [
        "X_train,X_test,y_train,y_test=train_test_split(X,y,test_size=0.25,random_state=0)\n",
        "logreg = LogisticRegression()\n",
        "logreg.fit(X_train,y_train)\n",
        "y_pred=logreg.predict(X_test)"
      ],
      "execution_count": null,
      "outputs": [
        {
          "output_type": "stream",
          "text": [
            "/usr/local/lib/python3.6/dist-packages/sklearn/linear_model/_logistic.py:940: ConvergenceWarning: lbfgs failed to converge (status=1):\n",
            "STOP: TOTAL NO. of ITERATIONS REACHED LIMIT.\n",
            "\n",
            "Increase the number of iterations (max_iter) or scale the data as shown in:\n",
            "    https://scikit-learn.org/stable/modules/preprocessing.html\n",
            "Please also refer to the documentation for alternative solver options:\n",
            "    https://scikit-learn.org/stable/modules/linear_model.html#logistic-regression\n",
            "  extra_warning_msg=_LOGISTIC_SOLVER_CONVERGENCE_MSG)\n"
          ],
          "name": "stderr"
        }
      ]
    },
    {
      "cell_type": "code",
      "metadata": {
        "id": "UJpziJNFXhHk",
        "colab": {
          "base_uri": "https://localhost:8080/",
          "height": 206
        },
        "outputId": "998273cf-2814-4221-f615-23b6685588aa"
      },
      "source": [
        "report = classification_report(y_test, y_pred, output_dict=True)\n",
        "df = pd.DataFrame(report).transpose()\n",
        "df"
      ],
      "execution_count": null,
      "outputs": [
        {
          "output_type": "execute_result",
          "data": {
            "text/html": [
              "<div>\n",
              "<style scoped>\n",
              "    .dataframe tbody tr th:only-of-type {\n",
              "        vertical-align: middle;\n",
              "    }\n",
              "\n",
              "    .dataframe tbody tr th {\n",
              "        vertical-align: top;\n",
              "    }\n",
              "\n",
              "    .dataframe thead th {\n",
              "        text-align: right;\n",
              "    }\n",
              "</style>\n",
              "<table border=\"1\" class=\"dataframe\">\n",
              "  <thead>\n",
              "    <tr style=\"text-align: right;\">\n",
              "      <th></th>\n",
              "      <th>precision</th>\n",
              "      <th>recall</th>\n",
              "      <th>f1-score</th>\n",
              "      <th>support</th>\n",
              "    </tr>\n",
              "  </thead>\n",
              "  <tbody>\n",
              "    <tr>\n",
              "      <th>0.0</th>\n",
              "      <td>0.790786</td>\n",
              "      <td>0.999973</td>\n",
              "      <td>0.883161</td>\n",
              "      <td>366019.000000</td>\n",
              "    </tr>\n",
              "    <tr>\n",
              "      <th>1.0</th>\n",
              "      <td>0.411765</td>\n",
              "      <td>0.000072</td>\n",
              "      <td>0.000145</td>\n",
              "      <td>96840.000000</td>\n",
              "    </tr>\n",
              "    <tr>\n",
              "      <th>accuracy</th>\n",
              "      <td>0.790772</td>\n",
              "      <td>0.790772</td>\n",
              "      <td>0.790772</td>\n",
              "      <td>0.790772</td>\n",
              "    </tr>\n",
              "    <tr>\n",
              "      <th>macro avg</th>\n",
              "      <td>0.601275</td>\n",
              "      <td>0.500022</td>\n",
              "      <td>0.441653</td>\n",
              "      <td>462859.000000</td>\n",
              "    </tr>\n",
              "    <tr>\n",
              "      <th>weighted avg</th>\n",
              "      <td>0.711487</td>\n",
              "      <td>0.790772</td>\n",
              "      <td>0.698415</td>\n",
              "      <td>462859.000000</td>\n",
              "    </tr>\n",
              "  </tbody>\n",
              "</table>\n",
              "</div>"
            ],
            "text/plain": [
              "              precision    recall  f1-score        support\n",
              "0.0            0.790786  0.999973  0.883161  366019.000000\n",
              "1.0            0.411765  0.000072  0.000145   96840.000000\n",
              "accuracy       0.790772  0.790772  0.790772       0.790772\n",
              "macro avg      0.601275  0.500022  0.441653  462859.000000\n",
              "weighted avg   0.711487  0.790772  0.698415  462859.000000"
            ]
          },
          "metadata": {
            "tags": []
          },
          "execution_count": 8
        }
      ]
    },
    {
      "cell_type": "markdown",
      "metadata": {
        "id": "Kv4l0JNPQEiy"
      },
      "source": [
        "### **oversampling**"
      ]
    },
    {
      "cell_type": "code",
      "metadata": {
        "id": "UelnyBbv4pZn"
      },
      "source": [
        "from sklearn.utils import resample"
      ],
      "execution_count": null,
      "outputs": []
    },
    {
      "cell_type": "code",
      "metadata": {
        "id": "iPiLUbjgQDfR"
      },
      "source": [
        "X_train, X_test, y_train, y_test = train_test_split(X, y, test_size=0.25)\n",
        "X = pd.concat([X_train, y_train], axis=1)"
      ],
      "execution_count": null,
      "outputs": []
    },
    {
      "cell_type": "code",
      "metadata": {
        "id": "n878UoZPQe-H"
      },
      "source": [
        "not_delayed = X[X.ArrDel15==0]\n",
        "delayed = X[X.ArrDel15==1]"
      ],
      "execution_count": null,
      "outputs": []
    },
    {
      "cell_type": "code",
      "metadata": {
        "id": "VDZZyVBRQt4R"
      },
      "source": [
        "delayed_upsampled = resample(delayed,\n",
        "                          replace=True, # sample with replacement\n",
        "                          n_samples=len(not_delayed), # match number in majority class\n",
        "                          random_state=27)\n",
        "upsampled = pd.concat([not_delayed, delayed_upsampled])\n",
        "X = upsampled[feature_cols]\n",
        "y = upsampled.ArrDel15"
      ],
      "execution_count": null,
      "outputs": []
    },
    {
      "cell_type": "markdown",
      "metadata": {
        "id": "A3fk1x2gRSiK"
      },
      "source": [
        "### **logisitc reg**"
      ]
    },
    {
      "cell_type": "code",
      "metadata": {
        "id": "xExjUPpq2_ul",
        "colab": {
          "base_uri": "https://localhost:8080/",
          "height": 156
        },
        "outputId": "ba80472b-8f12-475e-a722-44cdd1dee4c3"
      },
      "source": [
        "#logistic regression model implementation\n",
        "X_train,X_test,y_train,y_test=train_test_split(X,y,test_size=0.25,random_state=0)\n",
        "logreg = LogisticRegression()\n",
        "logreg.fit(X_train,y_train)\n",
        "y_pred=logreg.predict(X_test)"
      ],
      "execution_count": null,
      "outputs": [
        {
          "output_type": "stream",
          "text": [
            "/usr/local/lib/python3.6/dist-packages/sklearn/linear_model/_logistic.py:940: ConvergenceWarning: lbfgs failed to converge (status=1):\n",
            "STOP: TOTAL NO. of ITERATIONS REACHED LIMIT.\n",
            "\n",
            "Increase the number of iterations (max_iter) or scale the data as shown in:\n",
            "    https://scikit-learn.org/stable/modules/preprocessing.html\n",
            "Please also refer to the documentation for alternative solver options:\n",
            "    https://scikit-learn.org/stable/modules/linear_model.html#logistic-regression\n",
            "  extra_warning_msg=_LOGISTIC_SOLVER_CONVERGENCE_MSG)\n"
          ],
          "name": "stderr"
        }
      ]
    },
    {
      "cell_type": "code",
      "metadata": {
        "id": "YZpsijbZ3BFG",
        "colab": {
          "base_uri": "https://localhost:8080/",
          "height": 112
        },
        "outputId": "e3eb9ee6-671c-4e0e-a665-c485759aea9b"
      },
      "source": [
        "cnf_matrix = metrics.confusion_matrix(y_test, y_pred)\n",
        "pd.DataFrame(cnf_matrix)"
      ],
      "execution_count": null,
      "outputs": [
        {
          "output_type": "execute_result",
          "data": {
            "text/html": [
              "<div>\n",
              "<style scoped>\n",
              "    .dataframe tbody tr th:only-of-type {\n",
              "        vertical-align: middle;\n",
              "    }\n",
              "\n",
              "    .dataframe tbody tr th {\n",
              "        vertical-align: top;\n",
              "    }\n",
              "\n",
              "    .dataframe thead th {\n",
              "        text-align: right;\n",
              "    }\n",
              "</style>\n",
              "<table border=\"1\" class=\"dataframe\">\n",
              "  <thead>\n",
              "    <tr style=\"text-align: right;\">\n",
              "      <th></th>\n",
              "      <th>0</th>\n",
              "      <th>1</th>\n",
              "    </tr>\n",
              "  </thead>\n",
              "  <tbody>\n",
              "    <tr>\n",
              "      <th>0</th>\n",
              "      <td>172290</td>\n",
              "      <td>101969</td>\n",
              "    </tr>\n",
              "    <tr>\n",
              "      <th>1</th>\n",
              "      <td>139192</td>\n",
              "      <td>135423</td>\n",
              "    </tr>\n",
              "  </tbody>\n",
              "</table>\n",
              "</div>"
            ],
            "text/plain": [
              "        0       1\n",
              "0  172290  101969\n",
              "1  139192  135423"
            ]
          },
          "metadata": {
            "tags": []
          },
          "execution_count": 14
        }
      ]
    },
    {
      "cell_type": "code",
      "metadata": {
        "id": "esabc7Sm3Fl9",
        "colab": {
          "base_uri": "https://localhost:8080/",
          "height": 173
        },
        "outputId": "81951733-2c21-4df6-c611-89ef247afb21"
      },
      "source": [
        "#logistic reg report for taking only the weather data at the origin airport as features\n",
        "print(classification_report(y_test, y_pred))"
      ],
      "execution_count": null,
      "outputs": [
        {
          "output_type": "stream",
          "text": [
            "              precision    recall  f1-score   support\n",
            "\n",
            "         0.0       0.55      0.63      0.59    274259\n",
            "         1.0       0.57      0.49      0.53    274615\n",
            "\n",
            "    accuracy                           0.56    548874\n",
            "   macro avg       0.56      0.56      0.56    548874\n",
            "weighted avg       0.56      0.56      0.56    548874\n",
            "\n"
          ],
          "name": "stdout"
        }
      ]
    },
    {
      "cell_type": "code",
      "metadata": {
        "id": "vlVfwqInYLbB",
        "colab": {
          "base_uri": "https://localhost:8080/",
          "height": 206
        },
        "outputId": "32e2bd9b-686f-417d-f367-6dfc10d854c0"
      },
      "source": [
        "report = classification_report(y_test, y_pred, output_dict=True)\n",
        "df = pd.DataFrame(report).transpose()\n",
        "df"
      ],
      "execution_count": null,
      "outputs": [
        {
          "output_type": "execute_result",
          "data": {
            "text/html": [
              "<div>\n",
              "<style scoped>\n",
              "    .dataframe tbody tr th:only-of-type {\n",
              "        vertical-align: middle;\n",
              "    }\n",
              "\n",
              "    .dataframe tbody tr th {\n",
              "        vertical-align: top;\n",
              "    }\n",
              "\n",
              "    .dataframe thead th {\n",
              "        text-align: right;\n",
              "    }\n",
              "</style>\n",
              "<table border=\"1\" class=\"dataframe\">\n",
              "  <thead>\n",
              "    <tr style=\"text-align: right;\">\n",
              "      <th></th>\n",
              "      <th>precision</th>\n",
              "      <th>recall</th>\n",
              "      <th>f1-score</th>\n",
              "      <th>support</th>\n",
              "    </tr>\n",
              "  </thead>\n",
              "  <tbody>\n",
              "    <tr>\n",
              "      <th>0.0</th>\n",
              "      <td>0.553130</td>\n",
              "      <td>0.628202</td>\n",
              "      <td>0.588280</td>\n",
              "      <td>274259.000000</td>\n",
              "    </tr>\n",
              "    <tr>\n",
              "      <th>1.0</th>\n",
              "      <td>0.570462</td>\n",
              "      <td>0.493138</td>\n",
              "      <td>0.528989</td>\n",
              "      <td>274615.000000</td>\n",
              "    </tr>\n",
              "    <tr>\n",
              "      <th>accuracy</th>\n",
              "      <td>0.560626</td>\n",
              "      <td>0.560626</td>\n",
              "      <td>0.560626</td>\n",
              "      <td>0.560626</td>\n",
              "    </tr>\n",
              "    <tr>\n",
              "      <th>macro avg</th>\n",
              "      <td>0.561796</td>\n",
              "      <td>0.560670</td>\n",
              "      <td>0.558635</td>\n",
              "      <td>548874.000000</td>\n",
              "    </tr>\n",
              "    <tr>\n",
              "      <th>weighted avg</th>\n",
              "      <td>0.561801</td>\n",
              "      <td>0.560626</td>\n",
              "      <td>0.558615</td>\n",
              "      <td>548874.000000</td>\n",
              "    </tr>\n",
              "  </tbody>\n",
              "</table>\n",
              "</div>"
            ],
            "text/plain": [
              "              precision    recall  f1-score        support\n",
              "0.0            0.553130  0.628202  0.588280  274259.000000\n",
              "1.0            0.570462  0.493138  0.528989  274615.000000\n",
              "accuracy       0.560626  0.560626  0.560626       0.560626\n",
              "macro avg      0.561796  0.560670  0.558635  548874.000000\n",
              "weighted avg   0.561801  0.560626  0.558615  548874.000000"
            ]
          },
          "metadata": {
            "tags": []
          },
          "execution_count": 16
        }
      ]
    },
    {
      "cell_type": "markdown",
      "metadata": {
        "id": "11n2FrsMR1lP"
      },
      "source": [
        "### **decision tree**"
      ]
    },
    {
      "cell_type": "code",
      "metadata": {
        "id": "gvquTM89Q_h3"
      },
      "source": [
        "clf = DecisionTreeClassifier()\n",
        "clf.fit(X_train, y_train)\n",
        "y_pred =  clf.predict(X_test)"
      ],
      "execution_count": null,
      "outputs": []
    },
    {
      "cell_type": "code",
      "metadata": {
        "id": "5GksgNDTT3Cg",
        "colab": {
          "base_uri": "https://localhost:8080/",
          "height": 173
        },
        "outputId": "8550193a-014a-413c-f01d-22fe91a32103"
      },
      "source": [
        "print(classification_report(y_test, y_pred))"
      ],
      "execution_count": null,
      "outputs": [
        {
          "output_type": "stream",
          "text": [
            "              precision    recall  f1-score   support\n",
            "\n",
            "         0.0       0.73      0.69      0.71    274259\n",
            "         1.0       0.71      0.74      0.72    274615\n",
            "\n",
            "    accuracy                           0.72    548874\n",
            "   macro avg       0.72      0.72      0.72    548874\n",
            "weighted avg       0.72      0.72      0.72    548874\n",
            "\n"
          ],
          "name": "stdout"
        }
      ]
    },
    {
      "cell_type": "markdown",
      "metadata": {
        "id": "sWQkaw4GbCY6"
      },
      "source": [
        "### **extra trees**"
      ]
    },
    {
      "cell_type": "code",
      "metadata": {
        "id": "gfItfDbLbJ9m"
      },
      "source": [
        "from sklearn.ensemble import ExtraTreesClassifier \n"
      ],
      "execution_count": null,
      "outputs": []
    },
    {
      "cell_type": "code",
      "metadata": {
        "id": "Q6uQlSifvkSo"
      },
      "source": [
        "extra_tree_forest = ExtraTreesClassifier(n_estimators = 5, \n",
        "                                        criterion ='entropy', max_features = 2)\n",
        "extra_tree_forest.fit(X_train, y_train)\n",
        "feature_importance = extra_tree_forest.feature_importances_\n",
        "feature_importance_normalized = np.std([tree.feature_importances_ for tree in \n",
        "                                        extra_tree_forest.estimators_], \n",
        "                                        axis = 0) "
      ],
      "execution_count": null,
      "outputs": []
    },
    {
      "cell_type": "code",
      "metadata": {
        "id": "BBMPcyruB2ms",
        "colab": {
          "base_uri": "https://localhost:8080/",
          "height": 320
        },
        "outputId": "51d23af5-bab4-490a-9228-0259e454e2a0"
      },
      "source": [
        "X_train.describe()"
      ],
      "execution_count": null,
      "outputs": [
        {
          "output_type": "execute_result",
          "data": {
            "text/html": [
              "<div>\n",
              "<style scoped>\n",
              "    .dataframe tbody tr th:only-of-type {\n",
              "        vertical-align: middle;\n",
              "    }\n",
              "\n",
              "    .dataframe tbody tr th {\n",
              "        vertical-align: top;\n",
              "    }\n",
              "\n",
              "    .dataframe thead th {\n",
              "        text-align: right;\n",
              "    }\n",
              "</style>\n",
              "<table border=\"1\" class=\"dataframe\">\n",
              "  <thead>\n",
              "    <tr style=\"text-align: right;\">\n",
              "      <th></th>\n",
              "      <th>windspeedKmph_x</th>\n",
              "      <th>winddirDegree_x</th>\n",
              "      <th>weatherCode_x</th>\n",
              "      <th>precipMM_x</th>\n",
              "      <th>visibility_x</th>\n",
              "      <th>pressure_x</th>\n",
              "      <th>cloudcover_x</th>\n",
              "      <th>DewPointF_x</th>\n",
              "      <th>WindGustKmph_x</th>\n",
              "      <th>tempF_x</th>\n",
              "      <th>WindChillF_x</th>\n",
              "      <th>humidity_x</th>\n",
              "    </tr>\n",
              "  </thead>\n",
              "  <tbody>\n",
              "    <tr>\n",
              "      <th>count</th>\n",
              "      <td>1.646622e+06</td>\n",
              "      <td>1.646622e+06</td>\n",
              "      <td>1.646622e+06</td>\n",
              "      <td>1.646622e+06</td>\n",
              "      <td>1.646622e+06</td>\n",
              "      <td>1.646622e+06</td>\n",
              "      <td>1.646622e+06</td>\n",
              "      <td>1.646622e+06</td>\n",
              "      <td>1.646622e+06</td>\n",
              "      <td>1.646622e+06</td>\n",
              "      <td>1.646622e+06</td>\n",
              "      <td>1.646622e+06</td>\n",
              "    </tr>\n",
              "    <tr>\n",
              "      <th>mean</th>\n",
              "      <td>1.268369e+01</td>\n",
              "      <td>1.883606e+02</td>\n",
              "      <td>1.502848e+02</td>\n",
              "      <td>3.175505e-01</td>\n",
              "      <td>9.404219e+00</td>\n",
              "      <td>1.015811e+03</td>\n",
              "      <td>4.347410e+01</td>\n",
              "      <td>4.980829e+01</td>\n",
              "      <td>1.719331e+01</td>\n",
              "      <td>6.568326e+01</td>\n",
              "      <td>6.432844e+01</td>\n",
              "      <td>6.342468e+01</td>\n",
              "    </tr>\n",
              "    <tr>\n",
              "      <th>std</th>\n",
              "      <td>6.616331e+00</td>\n",
              "      <td>8.558570e+01</td>\n",
              "      <td>7.450428e+01</td>\n",
              "      <td>1.123572e+00</td>\n",
              "      <td>1.824445e+00</td>\n",
              "      <td>6.378588e+00</td>\n",
              "      <td>3.966622e+01</td>\n",
              "      <td>1.629421e+01</td>\n",
              "      <td>9.277298e+00</td>\n",
              "      <td>1.743152e+01</td>\n",
              "      <td>1.938865e+01</td>\n",
              "      <td>2.242361e+01</td>\n",
              "    </tr>\n",
              "    <tr>\n",
              "      <th>min</th>\n",
              "      <td>0.000000e+00</td>\n",
              "      <td>0.000000e+00</td>\n",
              "      <td>1.130000e+02</td>\n",
              "      <td>0.000000e+00</td>\n",
              "      <td>0.000000e+00</td>\n",
              "      <td>9.840000e+02</td>\n",
              "      <td>0.000000e+00</td>\n",
              "      <td>-1.500000e+01</td>\n",
              "      <td>1.000000e+00</td>\n",
              "      <td>-1.000000e+01</td>\n",
              "      <td>-2.500000e+01</td>\n",
              "      <td>3.000000e+00</td>\n",
              "    </tr>\n",
              "    <tr>\n",
              "      <th>25%</th>\n",
              "      <td>8.000000e+00</td>\n",
              "      <td>1.250000e+02</td>\n",
              "      <td>1.130000e+02</td>\n",
              "      <td>0.000000e+00</td>\n",
              "      <td>1.000000e+01</td>\n",
              "      <td>1.012000e+03</td>\n",
              "      <td>0.000000e+00</td>\n",
              "      <td>3.900000e+01</td>\n",
              "      <td>1.000000e+01</td>\n",
              "      <td>5.500000e+01</td>\n",
              "      <td>5.400000e+01</td>\n",
              "      <td>4.800000e+01</td>\n",
              "    </tr>\n",
              "    <tr>\n",
              "      <th>50%</th>\n",
              "      <td>1.200000e+01</td>\n",
              "      <td>1.970000e+02</td>\n",
              "      <td>1.160000e+02</td>\n",
              "      <td>0.000000e+00</td>\n",
              "      <td>1.000000e+01</td>\n",
              "      <td>1.016000e+03</td>\n",
              "      <td>3.600000e+01</td>\n",
              "      <td>5.200000e+01</td>\n",
              "      <td>1.500000e+01</td>\n",
              "      <td>6.700000e+01</td>\n",
              "      <td>6.600000e+01</td>\n",
              "      <td>6.700000e+01</td>\n",
              "    </tr>\n",
              "    <tr>\n",
              "      <th>75%</th>\n",
              "      <td>1.600000e+01</td>\n",
              "      <td>2.540000e+02</td>\n",
              "      <td>1.220000e+02</td>\n",
              "      <td>1.000000e-01</td>\n",
              "      <td>1.000000e+01</td>\n",
              "      <td>1.019000e+03</td>\n",
              "      <td>8.500000e+01</td>\n",
              "      <td>6.200000e+01</td>\n",
              "      <td>2.200000e+01</td>\n",
              "      <td>7.800000e+01</td>\n",
              "      <td>7.800000e+01</td>\n",
              "      <td>8.200000e+01</td>\n",
              "    </tr>\n",
              "    <tr>\n",
              "      <th>max</th>\n",
              "      <td>5.900000e+01</td>\n",
              "      <td>3.600000e+02</td>\n",
              "      <td>3.950000e+02</td>\n",
              "      <td>3.050000e+01</td>\n",
              "      <td>2.000000e+01</td>\n",
              "      <td>1.046000e+03</td>\n",
              "      <td>1.000000e+02</td>\n",
              "      <td>8.200000e+01</td>\n",
              "      <td>8.200000e+01</td>\n",
              "      <td>1.210000e+02</td>\n",
              "      <td>1.210000e+02</td>\n",
              "      <td>1.000000e+02</td>\n",
              "    </tr>\n",
              "  </tbody>\n",
              "</table>\n",
              "</div>"
            ],
            "text/plain": [
              "       windspeedKmph_x  winddirDegree_x  ...  WindChillF_x    humidity_x\n",
              "count     1.646622e+06     1.646622e+06  ...  1.646622e+06  1.646622e+06\n",
              "mean      1.268369e+01     1.883606e+02  ...  6.432844e+01  6.342468e+01\n",
              "std       6.616331e+00     8.558570e+01  ...  1.938865e+01  2.242361e+01\n",
              "min       0.000000e+00     0.000000e+00  ... -2.500000e+01  3.000000e+00\n",
              "25%       8.000000e+00     1.250000e+02  ...  5.400000e+01  4.800000e+01\n",
              "50%       1.200000e+01     1.970000e+02  ...  6.600000e+01  6.700000e+01\n",
              "75%       1.600000e+01     2.540000e+02  ...  7.800000e+01  8.200000e+01\n",
              "max       5.900000e+01     3.600000e+02  ...  1.210000e+02  1.000000e+02\n",
              "\n",
              "[8 rows x 12 columns]"
            ]
          },
          "metadata": {
            "tags": []
          },
          "execution_count": 21
        }
      ]
    },
    {
      "cell_type": "code",
      "metadata": {
        "id": "LbcPpWSVBEpf",
        "colab": {
          "base_uri": "https://localhost:8080/",
          "height": 69
        },
        "outputId": "d4850d64-e8b9-4b46-8620-18c4524e1c30"
      },
      "source": [
        "feature_importance"
      ],
      "execution_count": null,
      "outputs": [
        {
          "output_type": "execute_result",
          "data": {
            "text/plain": [
              "array([0.08984987, 0.11569714, 0.05305462, 0.04243547, 0.03040917,\n",
              "       0.09986704, 0.07875989, 0.1007968 , 0.09573017, 0.09448194,\n",
              "       0.09500984, 0.10390805])"
            ]
          },
          "metadata": {
            "tags": []
          },
          "execution_count": 22
        }
      ]
    },
    {
      "cell_type": "code",
      "metadata": {
        "id": "4_kD7JEA3O0R",
        "colab": {
          "base_uri": "https://localhost:8080/",
          "height": 173
        },
        "outputId": "860ee31a-2e9d-4d4f-e615-ed367a4d089a"
      },
      "source": [
        "y_pred = extra_tree_forest.predict(X_test)\n",
        "print(classification_report(y_test, y_pred))"
      ],
      "execution_count": null,
      "outputs": [
        {
          "output_type": "stream",
          "text": [
            "              precision    recall  f1-score   support\n",
            "\n",
            "         0.0       0.73      0.69      0.71    274259\n",
            "         1.0       0.71      0.74      0.73    274615\n",
            "\n",
            "    accuracy                           0.72    548874\n",
            "   macro avg       0.72      0.72      0.72    548874\n",
            "weighted avg       0.72      0.72      0.72    548874\n",
            "\n"
          ],
          "name": "stdout"
        }
      ]
    },
    {
      "cell_type": "code",
      "metadata": {
        "id": "VaPt0HE3vkve",
        "colab": {
          "base_uri": "https://localhost:8080/",
          "height": 425
        },
        "outputId": "19088ba9-8d71-41d8-9f1b-f923a9774002"
      },
      "source": [
        "plt.figure(figsize=(20,6))\n",
        "plt.bar(X.columns, feature_importance_normalized) \n",
        "plt.xlabel('Feature Labels') \n",
        "plt.ylabel('Feature Importances') \n",
        "plt.title('Comparison of different Feature Importances') \n",
        "plt.show()"
      ],
      "execution_count": null,
      "outputs": [
        {
          "output_type": "display_data",
          "data": {
            "image/png": "[encoded data removed]",
            "text/plain": [
              "<Figure size 1440x432 with 1 Axes>"
            ]
          },
          "metadata": {
            "tags": []
          }
        }
      ]
    },
    {
      "cell_type": "markdown",
      "metadata": {
        "id": "LRWjcp_9xpus"
      },
      "source": [
        "## **xgboost**"
      ]
    },
    {
      "cell_type": "code",
      "metadata": {
        "id": "BWEl1Cdfxo2f"
      },
      "source": [
        "from xgboost import XGBClassifier"
      ],
      "execution_count": null,
      "outputs": []
    },
    {
      "cell_type": "code",
      "metadata": {
        "id": "ty9X8nGUxwFb",
        "colab": {
          "base_uri": "https://localhost:8080/",
          "height": 139
        },
        "outputId": "e3949fba-b34d-4754-a560-f1025b7bbcda"
      },
      "source": [
        "model = XGBClassifier()\n",
        "model.fit(X_train, y_train)"
      ],
      "execution_count": null,
      "outputs": [
        {
          "output_type": "execute_result",
          "data": {
            "text/plain": [
              "XGBClassifier(base_score=0.5, booster='gbtree', colsample_bylevel=1,\n",
              "              colsample_bynode=1, colsample_bytree=1, gamma=0,\n",
              "              learning_rate=0.1, max_delta_step=0, max_depth=3,\n",
              "              min_child_weight=1, missing=None, n_estimators=100, n_jobs=1,\n",
              "              nthread=None, objective='binary:logistic', random_state=0,\n",
              "              reg_alpha=0, reg_lambda=1, scale_pos_weight=1, seed=None,\n",
              "              silent=None, subsample=1, verbosity=1)"
            ]
          },
          "metadata": {
            "tags": []
          },
          "execution_count": 26
        }
      ]
    },
    {
      "cell_type": "code",
      "metadata": {
        "id": "Gnrt5cm8xvva",
        "colab": {
          "base_uri": "https://localhost:8080/",
          "height": 34
        },
        "outputId": "6c613b51-aa32-4ae0-c909-897c18cd0ac9"
      },
      "source": [
        "y_pred = model.predict(X_test)\n",
        "print(y_pred)"
      ],
      "execution_count": null,
      "outputs": [
        {
          "output_type": "stream",
          "text": [
            "[0. 1. 1. ... 0. 1. 0.]\n"
          ],
          "name": "stdout"
        }
      ]
    },
    {
      "cell_type": "code",
      "metadata": {
        "id": "iJa6Jrg80Ezj",
        "colab": {
          "base_uri": "https://localhost:8080/",
          "height": 173
        },
        "outputId": "a2e22033-f4fd-4a56-c310-1199115adbc9"
      },
      "source": [
        "print(classification_report(y_test, y_pred))"
      ],
      "execution_count": null,
      "outputs": [
        {
          "output_type": "stream",
          "text": [
            "              precision    recall  f1-score   support\n",
            "\n",
            "         0.0       0.57      0.62      0.60    274259\n",
            "         1.0       0.59      0.54      0.56    274615\n",
            "\n",
            "    accuracy                           0.58    548874\n",
            "   macro avg       0.58      0.58      0.58    548874\n",
            "weighted avg       0.58      0.58      0.58    548874\n",
            "\n"
          ],
          "name": "stdout"
        }
      ]
    },
    {
      "cell_type": "markdown",
      "metadata": {
        "id": "duQI_JwnaxZH"
      },
      "source": [
        "### **feature col - weather and flight data during departure**"
      ]
    },
    {
      "cell_type": "code",
      "metadata": {
        "id": "LvuLO0dX_cmJ"
      },
      "source": [
        "#classification using selected columns\n",
        "feature_cols = ['windspeedKmph_x', 'winddirDegree_x', 'weatherCode_x', 'precipMM_x', 'visibility_x',\n",
        "           'pressure_x', 'cloudcover_x', 'DewPointF_x', 'WindGustKmph_x', 'tempF_x',\n",
        "           'WindChillF_x', 'humidity_x', \"DepTime\", \"DepDel15\", \"CRSDepTime\",\"DepDelayMinutes\", \n",
        "       \"OriginAirportID\", \"DestAirportID\"]\n",
        "X = dfmerge[feature_cols] #X value containing all data from feature columns\n",
        "y = dfmerge.ArrDel15 #y value containing target variable of arrival delay(0s and 1s)"
      ],
      "execution_count": null,
      "outputs": []
    },
    {
      "cell_type": "code",
      "metadata": {
        "id": "5qFJh8Bn_hf-",
        "colab": {
          "base_uri": "https://localhost:8080/",
          "height": 156
        },
        "outputId": "0476166e-0782-49b7-96ea-dd882270db3f"
      },
      "source": [
        "#logistic regression model implementation\n",
        "X_train,X_test,y_train,y_test=train_test_split(X,y,test_size=0.25,random_state=0)\n",
        "logreg = LogisticRegression()\n",
        "logreg.fit(X_train,y_train)\n",
        "y_pred=logreg.predict(X_test)"
      ],
      "execution_count": null,
      "outputs": [
        {
          "output_type": "stream",
          "text": [
            "/usr/local/lib/python3.6/dist-packages/sklearn/linear_model/_logistic.py:940: ConvergenceWarning: lbfgs failed to converge (status=1):\n",
            "STOP: TOTAL NO. of ITERATIONS REACHED LIMIT.\n",
            "\n",
            "Increase the number of iterations (max_iter) or scale the data as shown in:\n",
            "    https://scikit-learn.org/stable/modules/preprocessing.html\n",
            "Please also refer to the documentation for alternative solver options:\n",
            "    https://scikit-learn.org/stable/modules/linear_model.html#logistic-regression\n",
            "  extra_warning_msg=_LOGISTIC_SOLVER_CONVERGENCE_MSG)\n"
          ],
          "name": "stderr"
        }
      ]
    },
    {
      "cell_type": "code",
      "metadata": {
        "id": "vOzT6yqdjZ0U",
        "colab": {
          "base_uri": "https://localhost:8080/",
          "height": 34
        },
        "outputId": "a3ab6153-2fbc-4537-ab56-07877b9585d3"
      },
      "source": [
        "y_test.count()"
      ],
      "execution_count": null,
      "outputs": [
        {
          "output_type": "execute_result",
          "data": {
            "text/plain": [
              "462859"
            ]
          },
          "metadata": {
            "tags": []
          },
          "execution_count": 31
        }
      ]
    },
    {
      "cell_type": "code",
      "metadata": {
        "id": "Fd9tpEcY_mAv",
        "colab": {
          "base_uri": "https://localhost:8080/",
          "height": 296
        },
        "outputId": "54db7f97-0df8-409e-d241-4559d370385b"
      },
      "source": [
        "sns.countplot(x='ArrDel15',data=dfmerge)"
      ],
      "execution_count": null,
      "outputs": [
        {
          "output_type": "execute_result",
          "data": {
            "text/plain": [
              "<matplotlib.axes._subplots.AxesSubplot at 0x7f960c9d23c8>"
            ]
          },
          "metadata": {
            "tags": []
          },
          "execution_count": 32
        },
        {
          "output_type": "display_data",
          "data": {
            "image/png": "[encoded data removed]",
            "text/plain": [
              "<Figure size 432x288 with 1 Axes>"
            ]
          },
          "metadata": {
            "tags": []
          }
        }
      ]
    },
    {
      "cell_type": "code",
      "metadata": {
        "id": "eOKbFRXHABcW",
        "colab": {
          "base_uri": "https://localhost:8080/",
          "height": 296
        },
        "outputId": "16ab58c3-6caa-46cc-a84d-977a07565b6f"
      },
      "source": [
        "sns.countplot(x='ArrDel15',data=dfmerge,hue='Year')"
      ],
      "execution_count": null,
      "outputs": [
        {
          "output_type": "execute_result",
          "data": {
            "text/plain": [
              "<matplotlib.axes._subplots.AxesSubplot at 0x7f9603bf2a90>"
            ]
          },
          "metadata": {
            "tags": []
          },
          "execution_count": 33
        },
        {
          "output_type": "display_data",
          "data": {
            "image/png": "[encoded data removed]",
            "text/plain": [
              "<Figure size 432x288 with 1 Axes>"
            ]
          },
          "metadata": {
            "tags": []
          }
        }
      ]
    },
    {
      "cell_type": "code",
      "metadata": {
        "id": "F-mCjK6eAGwz",
        "colab": {
          "base_uri": "https://localhost:8080/",
          "height": 296
        },
        "outputId": "1a48d858-1280-4d7a-9c85-be4a7e9203d0"
      },
      "source": [
        "sns.countplot(x='ArrDel15',data=dfmerge,hue='Month')"
      ],
      "execution_count": null,
      "outputs": [
        {
          "output_type": "execute_result",
          "data": {
            "text/plain": [
              "<matplotlib.axes._subplots.AxesSubplot at 0x7f9603bd03c8>"
            ]
          },
          "metadata": {
            "tags": []
          },
          "execution_count": 34
        },
        {
          "output_type": "display_data",
          "data": {
            "image/png": "[encoded data removed]",
            "text/plain": [
              "<Figure size 432x288 with 1 Axes>"
            ]
          },
          "metadata": {
            "tags": []
          }
        }
      ]
    },
    {
      "cell_type": "code",
      "metadata": {
        "id": "P40mUn8LAKXs",
        "colab": {
          "base_uri": "https://localhost:8080/",
          "height": 112
        },
        "outputId": "703ce716-94bb-4dc5-99a4-fbd8b414a8a4"
      },
      "source": [
        "cnf_matrix = metrics.confusion_matrix(y_test, y_pred)\n",
        "pd.DataFrame(cnf_matrix)"
      ],
      "execution_count": null,
      "outputs": [
        {
          "output_type": "execute_result",
          "data": {
            "text/html": [
              "<div>\n",
              "<style scoped>\n",
              "    .dataframe tbody tr th:only-of-type {\n",
              "        vertical-align: middle;\n",
              "    }\n",
              "\n",
              "    .dataframe tbody tr th {\n",
              "        vertical-align: top;\n",
              "    }\n",
              "\n",
              "    .dataframe thead th {\n",
              "        text-align: right;\n",
              "    }\n",
              "</style>\n",
              "<table border=\"1\" class=\"dataframe\">\n",
              "  <thead>\n",
              "    <tr style=\"text-align: right;\">\n",
              "      <th></th>\n",
              "      <th>0</th>\n",
              "      <th>1</th>\n",
              "    </tr>\n",
              "  </thead>\n",
              "  <tbody>\n",
              "    <tr>\n",
              "      <th>0</th>\n",
              "      <td>357848</td>\n",
              "      <td>8171</td>\n",
              "    </tr>\n",
              "    <tr>\n",
              "      <th>1</th>\n",
              "      <td>30762</td>\n",
              "      <td>66078</td>\n",
              "    </tr>\n",
              "  </tbody>\n",
              "</table>\n",
              "</div>"
            ],
            "text/plain": [
              "        0      1\n",
              "0  357848   8171\n",
              "1   30762  66078"
            ]
          },
          "metadata": {
            "tags": []
          },
          "execution_count": 35
        }
      ]
    },
    {
      "cell_type": "code",
      "metadata": {
        "id": "odZZJ4MNANMu",
        "colab": {
          "base_uri": "https://localhost:8080/",
          "height": 312
        },
        "outputId": "88f8a82d-3da2-4065-a55b-a2282d48a430"
      },
      "source": [
        "sns.heatmap(cnf_matrix)\n",
        "plt.title('Confusion matrix')\n",
        "plt.ylabel('Actual label')\n",
        "plt.xlabel('Predicted label')"
      ],
      "execution_count": null,
      "outputs": [
        {
          "output_type": "execute_result",
          "data": {
            "text/plain": [
              "Text(0.5, 15.0, 'Predicted label')"
            ]
          },
          "metadata": {
            "tags": []
          },
          "execution_count": 36
        },
        {
          "output_type": "display_data",
          "data": {
            "image/png": "[encoded data removed]",
            "text/plain": [
              "<Figure size 432x288 with 2 Axes>"
            ]
          },
          "metadata": {
            "tags": []
          }
        }
      ]
    },
    {
      "cell_type": "code",
      "metadata": {
        "id": "kCWwvDGdASqa",
        "colab": {
          "base_uri": "https://localhost:8080/",
          "height": 173
        },
        "outputId": "310bd65d-d903-434f-d125-79d24f6bdc43"
      },
      "source": [
        "print(classification_report(y_test, y_pred))"
      ],
      "execution_count": null,
      "outputs": [
        {
          "output_type": "stream",
          "text": [
            "              precision    recall  f1-score   support\n",
            "\n",
            "         0.0       0.92      0.98      0.95    366019\n",
            "         1.0       0.89      0.68      0.77     96840\n",
            "\n",
            "    accuracy                           0.92    462859\n",
            "   macro avg       0.91      0.83      0.86    462859\n",
            "weighted avg       0.91      0.92      0.91    462859\n",
            "\n"
          ],
          "name": "stdout"
        }
      ]
    },
    {
      "cell_type": "markdown",
      "metadata": {
        "id": "8gO2iT0yAXzx"
      },
      "source": [
        "### **Decision tree**"
      ]
    },
    {
      "cell_type": "code",
      "metadata": {
        "id": "yi-HqspDAU75"
      },
      "source": [
        "# X_train, X_test, y_train, y_test = train_test_split(X, y, random_state = 0, test_size = 0.25)\n",
        "clf = DecisionTreeClassifier()"
      ],
      "execution_count": null,
      "outputs": []
    },
    {
      "cell_type": "code",
      "metadata": {
        "id": "piLfVF7-BL-Y"
      },
      "source": [
        "clf.fit(X_train, y_train)\n",
        "y_pred =  clf.predict(X_test)"
      ],
      "execution_count": null,
      "outputs": []
    },
    {
      "cell_type": "code",
      "metadata": {
        "id": "Gi9Eluc1BRw1",
        "colab": {
          "base_uri": "https://localhost:8080/",
          "height": 52
        },
        "outputId": "a3269d3a-3e99-4e37-d6b7-c1d8323f27f5"
      },
      "source": [
        "print('Accuracy Score on train data: ', accuracy_score(y_true=y_train, y_pred=clf.predict(X_train)))\n",
        "print('Accuracy Score on test data: ', accuracy_score(y_true=y_test, y_pred=y_pred))"
      ],
      "execution_count": null,
      "outputs": [
        {
          "output_type": "stream",
          "text": [
            "Accuracy Score on train data:  0.9995347755291928\n",
            "Accuracy Score on test data:  0.8677523824750086\n"
          ],
          "name": "stdout"
        }
      ]
    },
    {
      "cell_type": "code",
      "metadata": {
        "id": "rXqwOzpdBhsM",
        "colab": {
          "base_uri": "https://localhost:8080/",
          "height": 173
        },
        "outputId": "86fda1e7-e48e-4aa3-d73d-95428ee243b5"
      },
      "source": [
        "print(classification_report(y_test, y_pred))"
      ],
      "execution_count": null,
      "outputs": [
        {
          "output_type": "stream",
          "text": [
            "              precision    recall  f1-score   support\n",
            "\n",
            "         0.0       0.92      0.91      0.92    366019\n",
            "         1.0       0.68      0.70      0.69     96840\n",
            "\n",
            "    accuracy                           0.87    462859\n",
            "   macro avg       0.80      0.81      0.80    462859\n",
            "weighted avg       0.87      0.87      0.87    462859\n",
            "\n"
          ],
          "name": "stdout"
        }
      ]
    },
    {
      "cell_type": "code",
      "metadata": {
        "id": "jVlx1t-tEgDN",
        "colab": {
          "base_uri": "https://localhost:8080/",
          "height": 52
        },
        "outputId": "594981af-7604-4128-a2b7-09e7f5bbcd16"
      },
      "source": [
        "print(metrics.confusion_matrix(y_test, y_pred))"
      ],
      "execution_count": null,
      "outputs": [
        {
          "output_type": "stream",
          "text": [
            "[[333486  32533]\n",
            " [ 28679  68161]]\n"
          ],
          "name": "stdout"
        }
      ]
    },
    {
      "cell_type": "code",
      "metadata": {
        "id": "_MJyw4jiQu7c"
      },
      "source": [
        ""
      ],
      "execution_count": null,
      "outputs": []
    },
    {
      "cell_type": "markdown",
      "metadata": {
        "id": "7zy3SlS24jD6"
      },
      "source": [
        "### **oversample - trial**"
      ]
    },
    {
      "cell_type": "code",
      "metadata": {
        "id": "4MZElxrM40ed"
      },
      "source": [
        "X_train, X_test, y_train, y_test = train_test_split(X, y, test_size=0.25)\n",
        "X = pd.concat([X_train, y_train], axis=1)"
      ],
      "execution_count": null,
      "outputs": []
    },
    {
      "cell_type": "code",
      "metadata": {
        "id": "QOPvhiev83R8",
        "colab": {
          "base_uri": "https://localhost:8080/",
          "height": 439
        },
        "outputId": "408b3baa-f81f-41c0-d726-40bec0c42df0"
      },
      "source": [
        "X"
      ],
      "execution_count": null,
      "outputs": [
        {
          "output_type": "execute_result",
          "data": {
            "text/html": [
              "<div>\n",
              "<style scoped>\n",
              "    .dataframe tbody tr th:only-of-type {\n",
              "        vertical-align: middle;\n",
              "    }\n",
              "\n",
              "    .dataframe tbody tr th {\n",
              "        vertical-align: top;\n",
              "    }\n",
              "\n",
              "    .dataframe thead th {\n",
              "        text-align: right;\n",
              "    }\n",
              "</style>\n",
              "<table border=\"1\" class=\"dataframe\">\n",
              "  <thead>\n",
              "    <tr style=\"text-align: right;\">\n",
              "      <th></th>\n",
              "      <th>windspeedKmph_x</th>\n",
              "      <th>winddirDegree_x</th>\n",
              "      <th>weatherCode_x</th>\n",
              "      <th>precipMM_x</th>\n",
              "      <th>visibility_x</th>\n",
              "      <th>pressure_x</th>\n",
              "      <th>cloudcover_x</th>\n",
              "      <th>DewPointF_x</th>\n",
              "      <th>WindGustKmph_x</th>\n",
              "      <th>tempF_x</th>\n",
              "      <th>WindChillF_x</th>\n",
              "      <th>humidity_x</th>\n",
              "      <th>DepTime</th>\n",
              "      <th>DepDel15</th>\n",
              "      <th>CRSDepTime</th>\n",
              "      <th>DepDelayMinutes</th>\n",
              "      <th>OriginAirportID</th>\n",
              "      <th>DestAirportID</th>\n",
              "      <th>ArrDel15</th>\n",
              "    </tr>\n",
              "  </thead>\n",
              "  <tbody>\n",
              "    <tr>\n",
              "      <th>358523</th>\n",
              "      <td>21</td>\n",
              "      <td>15</td>\n",
              "      <td>332</td>\n",
              "      <td>1.6</td>\n",
              "      <td>5</td>\n",
              "      <td>1026</td>\n",
              "      <td>100</td>\n",
              "      <td>31</td>\n",
              "      <td>34</td>\n",
              "      <td>33</td>\n",
              "      <td>24</td>\n",
              "      <td>94</td>\n",
              "      <td>800.0</td>\n",
              "      <td>0.0</td>\n",
              "      <td>805</td>\n",
              "      <td>5.0</td>\n",
              "      <td>11292</td>\n",
              "      <td>14747</td>\n",
              "      <td>1.0</td>\n",
              "    </tr>\n",
              "    <tr>\n",
              "      <th>939961</th>\n",
              "      <td>12</td>\n",
              "      <td>31</td>\n",
              "      <td>113</td>\n",
              "      <td>0.0</td>\n",
              "      <td>10</td>\n",
              "      <td>1025</td>\n",
              "      <td>0</td>\n",
              "      <td>30</td>\n",
              "      <td>14</td>\n",
              "      <td>59</td>\n",
              "      <td>56</td>\n",
              "      <td>34</td>\n",
              "      <td>1100.0</td>\n",
              "      <td>1.0</td>\n",
              "      <td>922</td>\n",
              "      <td>103.0</td>\n",
              "      <td>12892</td>\n",
              "      <td>11292</td>\n",
              "      <td>1.0</td>\n",
              "    </tr>\n",
              "    <tr>\n",
              "      <th>278828</th>\n",
              "      <td>12</td>\n",
              "      <td>223</td>\n",
              "      <td>113</td>\n",
              "      <td>0.0</td>\n",
              "      <td>10</td>\n",
              "      <td>1031</td>\n",
              "      <td>1</td>\n",
              "      <td>8</td>\n",
              "      <td>14</td>\n",
              "      <td>28</td>\n",
              "      <td>20</td>\n",
              "      <td>42</td>\n",
              "      <td>700.0</td>\n",
              "      <td>0.0</td>\n",
              "      <td>704</td>\n",
              "      <td>0.0</td>\n",
              "      <td>11292</td>\n",
              "      <td>12478</td>\n",
              "      <td>0.0</td>\n",
              "    </tr>\n",
              "    <tr>\n",
              "      <th>151271</th>\n",
              "      <td>14</td>\n",
              "      <td>130</td>\n",
              "      <td>113</td>\n",
              "      <td>0.0</td>\n",
              "      <td>10</td>\n",
              "      <td>1011</td>\n",
              "      <td>0</td>\n",
              "      <td>68</td>\n",
              "      <td>18</td>\n",
              "      <td>86</td>\n",
              "      <td>85</td>\n",
              "      <td>59</td>\n",
              "      <td>2000.0</td>\n",
              "      <td>0.0</td>\n",
              "      <td>2000</td>\n",
              "      <td>0.0</td>\n",
              "      <td>11057</td>\n",
              "      <td>10397</td>\n",
              "      <td>0.0</td>\n",
              "    </tr>\n",
              "    <tr>\n",
              "      <th>647241</th>\n",
              "      <td>7</td>\n",
              "      <td>39</td>\n",
              "      <td>119</td>\n",
              "      <td>0.0</td>\n",
              "      <td>10</td>\n",
              "      <td>1021</td>\n",
              "      <td>28</td>\n",
              "      <td>53</td>\n",
              "      <td>9</td>\n",
              "      <td>73</td>\n",
              "      <td>72</td>\n",
              "      <td>49</td>\n",
              "      <td>1100.0</td>\n",
              "      <td>0.0</td>\n",
              "      <td>1050</td>\n",
              "      <td>1.0</td>\n",
              "      <td>12266</td>\n",
              "      <td>12892</td>\n",
              "      <td>0.0</td>\n",
              "    </tr>\n",
              "    <tr>\n",
              "      <th>...</th>\n",
              "      <td>...</td>\n",
              "      <td>...</td>\n",
              "      <td>...</td>\n",
              "      <td>...</td>\n",
              "      <td>...</td>\n",
              "      <td>...</td>\n",
              "      <td>...</td>\n",
              "      <td>...</td>\n",
              "      <td>...</td>\n",
              "      <td>...</td>\n",
              "      <td>...</td>\n",
              "      <td>...</td>\n",
              "      <td>...</td>\n",
              "      <td>...</td>\n",
              "      <td>...</td>\n",
              "      <td>...</td>\n",
              "      <td>...</td>\n",
              "      <td>...</td>\n",
              "      <td>...</td>\n",
              "    </tr>\n",
              "    <tr>\n",
              "      <th>1442505</th>\n",
              "      <td>23</td>\n",
              "      <td>109</td>\n",
              "      <td>176</td>\n",
              "      <td>1.8</td>\n",
              "      <td>8</td>\n",
              "      <td>1011</td>\n",
              "      <td>100</td>\n",
              "      <td>52</td>\n",
              "      <td>33</td>\n",
              "      <td>55</td>\n",
              "      <td>53</td>\n",
              "      <td>92</td>\n",
              "      <td>800.0</td>\n",
              "      <td>0.0</td>\n",
              "      <td>811</td>\n",
              "      <td>0.0</td>\n",
              "      <td>13930</td>\n",
              "      <td>14771</td>\n",
              "      <td>0.0</td>\n",
              "    </tr>\n",
              "    <tr>\n",
              "      <th>1846243</th>\n",
              "      <td>19</td>\n",
              "      <td>257</td>\n",
              "      <td>113</td>\n",
              "      <td>0.0</td>\n",
              "      <td>10</td>\n",
              "      <td>1014</td>\n",
              "      <td>12</td>\n",
              "      <td>53</td>\n",
              "      <td>21</td>\n",
              "      <td>62</td>\n",
              "      <td>63</td>\n",
              "      <td>70</td>\n",
              "      <td>1100.0</td>\n",
              "      <td>0.0</td>\n",
              "      <td>1105</td>\n",
              "      <td>0.0</td>\n",
              "      <td>14771</td>\n",
              "      <td>14747</td>\n",
              "      <td>0.0</td>\n",
              "    </tr>\n",
              "    <tr>\n",
              "      <th>1078673</th>\n",
              "      <td>16</td>\n",
              "      <td>241</td>\n",
              "      <td>176</td>\n",
              "      <td>0.1</td>\n",
              "      <td>10</td>\n",
              "      <td>1012</td>\n",
              "      <td>62</td>\n",
              "      <td>68</td>\n",
              "      <td>18</td>\n",
              "      <td>78</td>\n",
              "      <td>74</td>\n",
              "      <td>82</td>\n",
              "      <td>1500.0</td>\n",
              "      <td>0.0</td>\n",
              "      <td>1435</td>\n",
              "      <td>7.0</td>\n",
              "      <td>12892</td>\n",
              "      <td>14747</td>\n",
              "      <td>0.0</td>\n",
              "    </tr>\n",
              "    <tr>\n",
              "      <th>1619661</th>\n",
              "      <td>12</td>\n",
              "      <td>156</td>\n",
              "      <td>293</td>\n",
              "      <td>1.0</td>\n",
              "      <td>7</td>\n",
              "      <td>1013</td>\n",
              "      <td>100</td>\n",
              "      <td>46</td>\n",
              "      <td>14</td>\n",
              "      <td>51</td>\n",
              "      <td>52</td>\n",
              "      <td>78</td>\n",
              "      <td>1100.0</td>\n",
              "      <td>0.0</td>\n",
              "      <td>1120</td>\n",
              "      <td>0.0</td>\n",
              "      <td>14747</td>\n",
              "      <td>12889</td>\n",
              "      <td>0.0</td>\n",
              "    </tr>\n",
              "    <tr>\n",
              "      <th>324498</th>\n",
              "      <td>11</td>\n",
              "      <td>228</td>\n",
              "      <td>113</td>\n",
              "      <td>0.0</td>\n",
              "      <td>10</td>\n",
              "      <td>1036</td>\n",
              "      <td>21</td>\n",
              "      <td>2</td>\n",
              "      <td>23</td>\n",
              "      <td>23</td>\n",
              "      <td>15</td>\n",
              "      <td>40</td>\n",
              "      <td>600.0</td>\n",
              "      <td>0.0</td>\n",
              "      <td>630</td>\n",
              "      <td>0.0</td>\n",
              "      <td>11292</td>\n",
              "      <td>13930</td>\n",
              "      <td>0.0</td>\n",
              "    </tr>\n",
              "  </tbody>\n",
              "</table>\n",
              "<p>1388577 rows × 19 columns</p>\n",
              "</div>"
            ],
            "text/plain": [
              "         windspeedKmph_x  winddirDegree_x  ...  DestAirportID  ArrDel15\n",
              "358523                21               15  ...          14747       1.0\n",
              "939961                12               31  ...          11292       1.0\n",
              "278828                12              223  ...          12478       0.0\n",
              "151271                14              130  ...          10397       0.0\n",
              "647241                 7               39  ...          12892       0.0\n",
              "...                  ...              ...  ...            ...       ...\n",
              "1442505               23              109  ...          14771       0.0\n",
              "1846243               19              257  ...          14747       0.0\n",
              "1078673               16              241  ...          14747       0.0\n",
              "1619661               12              156  ...          12889       0.0\n",
              "324498                11              228  ...          13930       0.0\n",
              "\n",
              "[1388577 rows x 19 columns]"
            ]
          },
          "metadata": {
            "tags": []
          },
          "execution_count": 6
        }
      ]
    },
    {
      "cell_type": "code",
      "metadata": {
        "id": "dL9myQf7-UiS"
      },
      "source": [
        "not_delayed = X[X.ArrDel15==0]\n",
        "delayed = X[X.ArrDel15==1]"
      ],
      "execution_count": null,
      "outputs": []
    },
    {
      "cell_type": "code",
      "metadata": {
        "id": "YQ5hCntw-qUz"
      },
      "source": [
        "delayed_upsampled = resample(delayed,\n",
        "                          replace=True, # sample with replacement\n",
        "                          n_samples=len(not_delayed), # match number in majority class\n",
        "                          random_state=27)"
      ],
      "execution_count": null,
      "outputs": []
    },
    {
      "cell_type": "code",
      "metadata": {
        "id": "geGchtw1-3uH"
      },
      "source": [
        "upsampled = pd.concat([not_delayed, delayed_upsampled])"
      ],
      "execution_count": null,
      "outputs": []
    },
    {
      "cell_type": "code",
      "metadata": {
        "id": "T_w9Scm__Fzl",
        "colab": {
          "base_uri": "https://localhost:8080/",
          "height": 69
        },
        "outputId": "0dd3aa3b-4353-4527-a6b5-694bc734cf04"
      },
      "source": [
        "upsampled.ArrDel15.value_counts()"
      ],
      "execution_count": null,
      "outputs": [
        {
          "output_type": "execute_result",
          "data": {
            "text/plain": [
              "1.0    1097136\n",
              "0.0    1097136\n",
              "Name: ArrDel15, dtype: int64"
            ]
          },
          "metadata": {
            "tags": []
          },
          "execution_count": 48
        }
      ]
    },
    {
      "cell_type": "code",
      "metadata": {
        "id": "7xk4qlO9_ISK",
        "colab": {
          "base_uri": "https://localhost:8080/",
          "height": 444
        },
        "outputId": "b6172394-f553-4c52-8d12-5453f0f0ee48"
      },
      "source": [
        "X"
      ],
      "execution_count": null,
      "outputs": [
        {
          "output_type": "execute_result",
          "data": {
            "text/html": [
              "<div>\n",
              "<style scoped>\n",
              "    .dataframe tbody tr th:only-of-type {\n",
              "        vertical-align: middle;\n",
              "    }\n",
              "\n",
              "    .dataframe tbody tr th {\n",
              "        vertical-align: top;\n",
              "    }\n",
              "\n",
              "    .dataframe thead th {\n",
              "        text-align: right;\n",
              "    }\n",
              "</style>\n",
              "<table border=\"1\" class=\"dataframe\">\n",
              "  <thead>\n",
              "    <tr style=\"text-align: right;\">\n",
              "      <th></th>\n",
              "      <th>windspeedKmph_x</th>\n",
              "      <th>winddirDegree_x</th>\n",
              "      <th>weatherCode_x</th>\n",
              "      <th>precipMM_x</th>\n",
              "      <th>visibility_x</th>\n",
              "      <th>pressure_x</th>\n",
              "      <th>cloudcover_x</th>\n",
              "      <th>DewPointF_x</th>\n",
              "      <th>WindGustKmph_x</th>\n",
              "      <th>tempF_x</th>\n",
              "      <th>WindChillF_x</th>\n",
              "      <th>humidity_x</th>\n",
              "      <th>DepTime</th>\n",
              "      <th>DepDel15</th>\n",
              "      <th>CRSDepTime</th>\n",
              "      <th>DepDelayMinutes</th>\n",
              "      <th>OriginAirportID</th>\n",
              "      <th>DestAirportID</th>\n",
              "      <th>ArrDel15</th>\n",
              "    </tr>\n",
              "  </thead>\n",
              "  <tbody>\n",
              "    <tr>\n",
              "      <th>381064</th>\n",
              "      <td>13</td>\n",
              "      <td>35</td>\n",
              "      <td>122</td>\n",
              "      <td>0.0</td>\n",
              "      <td>10</td>\n",
              "      <td>1026</td>\n",
              "      <td>69</td>\n",
              "      <td>48</td>\n",
              "      <td>15</td>\n",
              "      <td>61</td>\n",
              "      <td>59</td>\n",
              "      <td>65</td>\n",
              "      <td>1300.0</td>\n",
              "      <td>0.0</td>\n",
              "      <td>1250</td>\n",
              "      <td>0.0</td>\n",
              "      <td>11298</td>\n",
              "      <td>10397</td>\n",
              "      <td>0.0</td>\n",
              "    </tr>\n",
              "    <tr>\n",
              "      <th>790095</th>\n",
              "      <td>15</td>\n",
              "      <td>241</td>\n",
              "      <td>113</td>\n",
              "      <td>0.0</td>\n",
              "      <td>10</td>\n",
              "      <td>1001</td>\n",
              "      <td>0</td>\n",
              "      <td>28</td>\n",
              "      <td>22</td>\n",
              "      <td>80</td>\n",
              "      <td>82</td>\n",
              "      <td>14</td>\n",
              "      <td>700.0</td>\n",
              "      <td>0.0</td>\n",
              "      <td>710</td>\n",
              "      <td>0.0</td>\n",
              "      <td>12889</td>\n",
              "      <td>10397</td>\n",
              "      <td>0.0</td>\n",
              "    </tr>\n",
              "    <tr>\n",
              "      <th>668181</th>\n",
              "      <td>18</td>\n",
              "      <td>101</td>\n",
              "      <td>122</td>\n",
              "      <td>0.0</td>\n",
              "      <td>10</td>\n",
              "      <td>1018</td>\n",
              "      <td>100</td>\n",
              "      <td>49</td>\n",
              "      <td>21</td>\n",
              "      <td>68</td>\n",
              "      <td>68</td>\n",
              "      <td>52</td>\n",
              "      <td>1500.0</td>\n",
              "      <td>0.0</td>\n",
              "      <td>1430</td>\n",
              "      <td>8.0</td>\n",
              "      <td>12266</td>\n",
              "      <td>13930</td>\n",
              "      <td>0.0</td>\n",
              "    </tr>\n",
              "    <tr>\n",
              "      <th>733335</th>\n",
              "      <td>12</td>\n",
              "      <td>14</td>\n",
              "      <td>113</td>\n",
              "      <td>0.0</td>\n",
              "      <td>10</td>\n",
              "      <td>1018</td>\n",
              "      <td>0</td>\n",
              "      <td>66</td>\n",
              "      <td>14</td>\n",
              "      <td>74</td>\n",
              "      <td>74</td>\n",
              "      <td>75</td>\n",
              "      <td>800.0</td>\n",
              "      <td>0.0</td>\n",
              "      <td>805</td>\n",
              "      <td>0.0</td>\n",
              "      <td>12478</td>\n",
              "      <td>12892</td>\n",
              "      <td>0.0</td>\n",
              "    </tr>\n",
              "    <tr>\n",
              "      <th>1665843</th>\n",
              "      <td>3</td>\n",
              "      <td>162</td>\n",
              "      <td>119</td>\n",
              "      <td>0.1</td>\n",
              "      <td>10</td>\n",
              "      <td>1020</td>\n",
              "      <td>88</td>\n",
              "      <td>59</td>\n",
              "      <td>3</td>\n",
              "      <td>65</td>\n",
              "      <td>64</td>\n",
              "      <td>85</td>\n",
              "      <td>600.0</td>\n",
              "      <td>0.0</td>\n",
              "      <td>605</td>\n",
              "      <td>0.0</td>\n",
              "      <td>14747</td>\n",
              "      <td>14107</td>\n",
              "      <td>0.0</td>\n",
              "    </tr>\n",
              "    <tr>\n",
              "      <th>...</th>\n",
              "      <td>...</td>\n",
              "      <td>...</td>\n",
              "      <td>...</td>\n",
              "      <td>...</td>\n",
              "      <td>...</td>\n",
              "      <td>...</td>\n",
              "      <td>...</td>\n",
              "      <td>...</td>\n",
              "      <td>...</td>\n",
              "      <td>...</td>\n",
              "      <td>...</td>\n",
              "      <td>...</td>\n",
              "      <td>...</td>\n",
              "      <td>...</td>\n",
              "      <td>...</td>\n",
              "      <td>...</td>\n",
              "      <td>...</td>\n",
              "      <td>...</td>\n",
              "      <td>...</td>\n",
              "    </tr>\n",
              "    <tr>\n",
              "      <th>1838872</th>\n",
              "      <td>17</td>\n",
              "      <td>272</td>\n",
              "      <td>122</td>\n",
              "      <td>0.0</td>\n",
              "      <td>10</td>\n",
              "      <td>1015</td>\n",
              "      <td>57</td>\n",
              "      <td>54</td>\n",
              "      <td>19</td>\n",
              "      <td>64</td>\n",
              "      <td>62</td>\n",
              "      <td>75</td>\n",
              "      <td>1300.0</td>\n",
              "      <td>0.0</td>\n",
              "      <td>1310</td>\n",
              "      <td>8.0</td>\n",
              "      <td>14771</td>\n",
              "      <td>14747</td>\n",
              "      <td>0.0</td>\n",
              "    </tr>\n",
              "    <tr>\n",
              "      <th>1743768</th>\n",
              "      <td>15</td>\n",
              "      <td>263</td>\n",
              "      <td>113</td>\n",
              "      <td>0.1</td>\n",
              "      <td>10</td>\n",
              "      <td>1013</td>\n",
              "      <td>16</td>\n",
              "      <td>56</td>\n",
              "      <td>18</td>\n",
              "      <td>67</td>\n",
              "      <td>65</td>\n",
              "      <td>72</td>\n",
              "      <td>1600.0</td>\n",
              "      <td>0.0</td>\n",
              "      <td>1625</td>\n",
              "      <td>2.0</td>\n",
              "      <td>14771</td>\n",
              "      <td>12478</td>\n",
              "      <td>0.0</td>\n",
              "    </tr>\n",
              "    <tr>\n",
              "      <th>1555992</th>\n",
              "      <td>9</td>\n",
              "      <td>241</td>\n",
              "      <td>113</td>\n",
              "      <td>0.0</td>\n",
              "      <td>10</td>\n",
              "      <td>1010</td>\n",
              "      <td>0</td>\n",
              "      <td>27</td>\n",
              "      <td>12</td>\n",
              "      <td>88</td>\n",
              "      <td>90</td>\n",
              "      <td>10</td>\n",
              "      <td>1300.0</td>\n",
              "      <td>0.0</td>\n",
              "      <td>1330</td>\n",
              "      <td>0.0</td>\n",
              "      <td>14107</td>\n",
              "      <td>14747</td>\n",
              "      <td>0.0</td>\n",
              "    </tr>\n",
              "    <tr>\n",
              "      <th>782659</th>\n",
              "      <td>26</td>\n",
              "      <td>218</td>\n",
              "      <td>113</td>\n",
              "      <td>0.0</td>\n",
              "      <td>10</td>\n",
              "      <td>1019</td>\n",
              "      <td>5</td>\n",
              "      <td>37</td>\n",
              "      <td>37</td>\n",
              "      <td>52</td>\n",
              "      <td>46</td>\n",
              "      <td>58</td>\n",
              "      <td>1300.0</td>\n",
              "      <td>0.0</td>\n",
              "      <td>1255</td>\n",
              "      <td>0.0</td>\n",
              "      <td>12478</td>\n",
              "      <td>14771</td>\n",
              "      <td>0.0</td>\n",
              "    </tr>\n",
              "    <tr>\n",
              "      <th>339221</th>\n",
              "      <td>10</td>\n",
              "      <td>269</td>\n",
              "      <td>113</td>\n",
              "      <td>0.0</td>\n",
              "      <td>10</td>\n",
              "      <td>1015</td>\n",
              "      <td>7</td>\n",
              "      <td>23</td>\n",
              "      <td>21</td>\n",
              "      <td>45</td>\n",
              "      <td>42</td>\n",
              "      <td>41</td>\n",
              "      <td>1800.0</td>\n",
              "      <td>0.0</td>\n",
              "      <td>1748</td>\n",
              "      <td>0.0</td>\n",
              "      <td>11292</td>\n",
              "      <td>14107</td>\n",
              "      <td>0.0</td>\n",
              "    </tr>\n",
              "  </tbody>\n",
              "</table>\n",
              "<p>1388577 rows × 19 columns</p>\n",
              "</div>"
            ],
            "text/plain": [
              "         windspeedKmph_x  winddirDegree_x  ...  DestAirportID  ArrDel15\n",
              "381064                13               35  ...          10397       0.0\n",
              "790095                15              241  ...          10397       0.0\n",
              "668181                18              101  ...          13930       0.0\n",
              "733335                12               14  ...          12892       0.0\n",
              "1665843                3              162  ...          14107       0.0\n",
              "...                  ...              ...  ...            ...       ...\n",
              "1838872               17              272  ...          14747       0.0\n",
              "1743768               15              263  ...          12478       0.0\n",
              "1555992                9              241  ...          14747       0.0\n",
              "782659                26              218  ...          14771       0.0\n",
              "339221                10              269  ...          14107       0.0\n",
              "\n",
              "[1388577 rows x 19 columns]"
            ]
          },
          "metadata": {
            "tags": []
          },
          "execution_count": 49
        }
      ]
    },
    {
      "cell_type": "code",
      "metadata": {
        "id": "0pAjJuSp_jwf",
        "colab": {
          "base_uri": "https://localhost:8080/",
          "height": 444
        },
        "outputId": "8fd18747-f8bd-4ba0-b029-7372a9dd1fe4"
      },
      "source": [
        "upsampled"
      ],
      "execution_count": null,
      "outputs": [
        {
          "output_type": "execute_result",
          "data": {
            "text/html": [
              "<div>\n",
              "<style scoped>\n",
              "    .dataframe tbody tr th:only-of-type {\n",
              "        vertical-align: middle;\n",
              "    }\n",
              "\n",
              "    .dataframe tbody tr th {\n",
              "        vertical-align: top;\n",
              "    }\n",
              "\n",
              "    .dataframe thead th {\n",
              "        text-align: right;\n",
              "    }\n",
              "</style>\n",
              "<table border=\"1\" class=\"dataframe\">\n",
              "  <thead>\n",
              "    <tr style=\"text-align: right;\">\n",
              "      <th></th>\n",
              "      <th>windspeedKmph_x</th>\n",
              "      <th>winddirDegree_x</th>\n",
              "      <th>weatherCode_x</th>\n",
              "      <th>precipMM_x</th>\n",
              "      <th>visibility_x</th>\n",
              "      <th>pressure_x</th>\n",
              "      <th>cloudcover_x</th>\n",
              "      <th>DewPointF_x</th>\n",
              "      <th>WindGustKmph_x</th>\n",
              "      <th>tempF_x</th>\n",
              "      <th>WindChillF_x</th>\n",
              "      <th>humidity_x</th>\n",
              "      <th>DepTime</th>\n",
              "      <th>DepDel15</th>\n",
              "      <th>CRSDepTime</th>\n",
              "      <th>DepDelayMinutes</th>\n",
              "      <th>OriginAirportID</th>\n",
              "      <th>DestAirportID</th>\n",
              "      <th>ArrDel15</th>\n",
              "    </tr>\n",
              "  </thead>\n",
              "  <tbody>\n",
              "    <tr>\n",
              "      <th>381064</th>\n",
              "      <td>13</td>\n",
              "      <td>35</td>\n",
              "      <td>122</td>\n",
              "      <td>0.0</td>\n",
              "      <td>10</td>\n",
              "      <td>1026</td>\n",
              "      <td>69</td>\n",
              "      <td>48</td>\n",
              "      <td>15</td>\n",
              "      <td>61</td>\n",
              "      <td>59</td>\n",
              "      <td>65</td>\n",
              "      <td>1300.0</td>\n",
              "      <td>0.0</td>\n",
              "      <td>1250</td>\n",
              "      <td>0.0</td>\n",
              "      <td>11298</td>\n",
              "      <td>10397</td>\n",
              "      <td>0.0</td>\n",
              "    </tr>\n",
              "    <tr>\n",
              "      <th>790095</th>\n",
              "      <td>15</td>\n",
              "      <td>241</td>\n",
              "      <td>113</td>\n",
              "      <td>0.0</td>\n",
              "      <td>10</td>\n",
              "      <td>1001</td>\n",
              "      <td>0</td>\n",
              "      <td>28</td>\n",
              "      <td>22</td>\n",
              "      <td>80</td>\n",
              "      <td>82</td>\n",
              "      <td>14</td>\n",
              "      <td>700.0</td>\n",
              "      <td>0.0</td>\n",
              "      <td>710</td>\n",
              "      <td>0.0</td>\n",
              "      <td>12889</td>\n",
              "      <td>10397</td>\n",
              "      <td>0.0</td>\n",
              "    </tr>\n",
              "    <tr>\n",
              "      <th>668181</th>\n",
              "      <td>18</td>\n",
              "      <td>101</td>\n",
              "      <td>122</td>\n",
              "      <td>0.0</td>\n",
              "      <td>10</td>\n",
              "      <td>1018</td>\n",
              "      <td>100</td>\n",
              "      <td>49</td>\n",
              "      <td>21</td>\n",
              "      <td>68</td>\n",
              "      <td>68</td>\n",
              "      <td>52</td>\n",
              "      <td>1500.0</td>\n",
              "      <td>0.0</td>\n",
              "      <td>1430</td>\n",
              "      <td>8.0</td>\n",
              "      <td>12266</td>\n",
              "      <td>13930</td>\n",
              "      <td>0.0</td>\n",
              "    </tr>\n",
              "    <tr>\n",
              "      <th>733335</th>\n",
              "      <td>12</td>\n",
              "      <td>14</td>\n",
              "      <td>113</td>\n",
              "      <td>0.0</td>\n",
              "      <td>10</td>\n",
              "      <td>1018</td>\n",
              "      <td>0</td>\n",
              "      <td>66</td>\n",
              "      <td>14</td>\n",
              "      <td>74</td>\n",
              "      <td>74</td>\n",
              "      <td>75</td>\n",
              "      <td>800.0</td>\n",
              "      <td>0.0</td>\n",
              "      <td>805</td>\n",
              "      <td>0.0</td>\n",
              "      <td>12478</td>\n",
              "      <td>12892</td>\n",
              "      <td>0.0</td>\n",
              "    </tr>\n",
              "    <tr>\n",
              "      <th>1665843</th>\n",
              "      <td>3</td>\n",
              "      <td>162</td>\n",
              "      <td>119</td>\n",
              "      <td>0.1</td>\n",
              "      <td>10</td>\n",
              "      <td>1020</td>\n",
              "      <td>88</td>\n",
              "      <td>59</td>\n",
              "      <td>3</td>\n",
              "      <td>65</td>\n",
              "      <td>64</td>\n",
              "      <td>85</td>\n",
              "      <td>600.0</td>\n",
              "      <td>0.0</td>\n",
              "      <td>605</td>\n",
              "      <td>0.0</td>\n",
              "      <td>14747</td>\n",
              "      <td>14107</td>\n",
              "      <td>0.0</td>\n",
              "    </tr>\n",
              "    <tr>\n",
              "      <th>...</th>\n",
              "      <td>...</td>\n",
              "      <td>...</td>\n",
              "      <td>...</td>\n",
              "      <td>...</td>\n",
              "      <td>...</td>\n",
              "      <td>...</td>\n",
              "      <td>...</td>\n",
              "      <td>...</td>\n",
              "      <td>...</td>\n",
              "      <td>...</td>\n",
              "      <td>...</td>\n",
              "      <td>...</td>\n",
              "      <td>...</td>\n",
              "      <td>...</td>\n",
              "      <td>...</td>\n",
              "      <td>...</td>\n",
              "      <td>...</td>\n",
              "      <td>...</td>\n",
              "      <td>...</td>\n",
              "    </tr>\n",
              "    <tr>\n",
              "      <th>1497289</th>\n",
              "      <td>7</td>\n",
              "      <td>282</td>\n",
              "      <td>113</td>\n",
              "      <td>0.0</td>\n",
              "      <td>10</td>\n",
              "      <td>1019</td>\n",
              "      <td>0</td>\n",
              "      <td>39</td>\n",
              "      <td>8</td>\n",
              "      <td>65</td>\n",
              "      <td>66</td>\n",
              "      <td>34</td>\n",
              "      <td>1700.0</td>\n",
              "      <td>1.0</td>\n",
              "      <td>1620</td>\n",
              "      <td>48.0</td>\n",
              "      <td>14107</td>\n",
              "      <td>12266</td>\n",
              "      <td>1.0</td>\n",
              "    </tr>\n",
              "    <tr>\n",
              "      <th>3593</th>\n",
              "      <td>17</td>\n",
              "      <td>253</td>\n",
              "      <td>116</td>\n",
              "      <td>0.1</td>\n",
              "      <td>7</td>\n",
              "      <td>1014</td>\n",
              "      <td>51</td>\n",
              "      <td>69</td>\n",
              "      <td>22</td>\n",
              "      <td>88</td>\n",
              "      <td>88</td>\n",
              "      <td>53</td>\n",
              "      <td>2100.0</td>\n",
              "      <td>1.0</td>\n",
              "      <td>1959</td>\n",
              "      <td>63.0</td>\n",
              "      <td>10397</td>\n",
              "      <td>11057</td>\n",
              "      <td>1.0</td>\n",
              "    </tr>\n",
              "    <tr>\n",
              "      <th>1189510</th>\n",
              "      <td>18</td>\n",
              "      <td>72</td>\n",
              "      <td>113</td>\n",
              "      <td>0.0</td>\n",
              "      <td>10</td>\n",
              "      <td>1022</td>\n",
              "      <td>22</td>\n",
              "      <td>56</td>\n",
              "      <td>26</td>\n",
              "      <td>72</td>\n",
              "      <td>74</td>\n",
              "      <td>56</td>\n",
              "      <td>2000.0</td>\n",
              "      <td>1.0</td>\n",
              "      <td>1944</td>\n",
              "      <td>27.0</td>\n",
              "      <td>13204</td>\n",
              "      <td>12478</td>\n",
              "      <td>1.0</td>\n",
              "    </tr>\n",
              "    <tr>\n",
              "      <th>1305250</th>\n",
              "      <td>24</td>\n",
              "      <td>217</td>\n",
              "      <td>113</td>\n",
              "      <td>0.0</td>\n",
              "      <td>10</td>\n",
              "      <td>1016</td>\n",
              "      <td>1</td>\n",
              "      <td>73</td>\n",
              "      <td>27</td>\n",
              "      <td>88</td>\n",
              "      <td>90</td>\n",
              "      <td>54</td>\n",
              "      <td>1300.0</td>\n",
              "      <td>0.0</td>\n",
              "      <td>1245</td>\n",
              "      <td>7.0</td>\n",
              "      <td>13930</td>\n",
              "      <td>10397</td>\n",
              "      <td>1.0</td>\n",
              "    </tr>\n",
              "    <tr>\n",
              "      <th>1710828</th>\n",
              "      <td>17</td>\n",
              "      <td>165</td>\n",
              "      <td>308</td>\n",
              "      <td>4.8</td>\n",
              "      <td>7</td>\n",
              "      <td>1013</td>\n",
              "      <td>100</td>\n",
              "      <td>54</td>\n",
              "      <td>24</td>\n",
              "      <td>56</td>\n",
              "      <td>53</td>\n",
              "      <td>94</td>\n",
              "      <td>100.0</td>\n",
              "      <td>1.0</td>\n",
              "      <td>40</td>\n",
              "      <td>21.0</td>\n",
              "      <td>14771</td>\n",
              "      <td>11298</td>\n",
              "      <td>1.0</td>\n",
              "    </tr>\n",
              "  </tbody>\n",
              "</table>\n",
              "<p>2194272 rows × 19 columns</p>\n",
              "</div>"
            ],
            "text/plain": [
              "         windspeedKmph_x  winddirDegree_x  ...  DestAirportID  ArrDel15\n",
              "381064                13               35  ...          10397       0.0\n",
              "790095                15              241  ...          10397       0.0\n",
              "668181                18              101  ...          13930       0.0\n",
              "733335                12               14  ...          12892       0.0\n",
              "1665843                3              162  ...          14107       0.0\n",
              "...                  ...              ...  ...            ...       ...\n",
              "1497289                7              282  ...          12266       1.0\n",
              "3593                  17              253  ...          11057       1.0\n",
              "1189510               18               72  ...          12478       1.0\n",
              "1305250               24              217  ...          10397       1.0\n",
              "1710828               17              165  ...          11298       1.0\n",
              "\n",
              "[2194272 rows x 19 columns]"
            ]
          },
          "metadata": {
            "tags": []
          },
          "execution_count": 50
        }
      ]
    },
    {
      "cell_type": "code",
      "metadata": {
        "id": "Y1mjH6sL_mhB"
      },
      "source": [
        "X = upsampled[feature_cols]\n",
        "y = upsampled.ArrDel15"
      ],
      "execution_count": null,
      "outputs": []
    },
    {
      "cell_type": "code",
      "metadata": {
        "id": "_QHc1vY-AbWw",
        "colab": {
          "base_uri": "https://localhost:8080/",
          "height": 156
        },
        "outputId": "52524b94-4ea3-4e94-8e61-dcdb0e4769bb"
      },
      "source": [
        "X_train,X_test,y_train,y_test=train_test_split(X,y,test_size=0.25,random_state=0)\n",
        "logreg = LogisticRegression()\n",
        "logreg.fit(X_train,y_train)\n",
        "y_pred=logreg.predict(X_test)"
      ],
      "execution_count": null,
      "outputs": [
        {
          "output_type": "stream",
          "text": [
            "/usr/local/lib/python3.6/dist-packages/sklearn/linear_model/_logistic.py:940: ConvergenceWarning: lbfgs failed to converge (status=1):\n",
            "STOP: TOTAL NO. of ITERATIONS REACHED LIMIT.\n",
            "\n",
            "Increase the number of iterations (max_iter) or scale the data as shown in:\n",
            "    https://scikit-learn.org/stable/modules/preprocessing.html\n",
            "Please also refer to the documentation for alternative solver options:\n",
            "    https://scikit-learn.org/stable/modules/linear_model.html#logistic-regression\n",
            "  extra_warning_msg=_LOGISTIC_SOLVER_CONVERGENCE_MSG)\n"
          ],
          "name": "stderr"
        }
      ]
    },
    {
      "cell_type": "code",
      "metadata": {
        "id": "RPOtL9oDAhmq",
        "colab": {
          "base_uri": "https://localhost:8080/",
          "height": 112
        },
        "outputId": "86217478-1962-43c8-bd03-bb9b3555178b"
      },
      "source": [
        "cnf_matrix = metrics.confusion_matrix(y_test, y_pred)\n",
        "pd.DataFrame(cnf_matrix)"
      ],
      "execution_count": null,
      "outputs": [
        {
          "output_type": "execute_result",
          "data": {
            "text/html": [
              "<div>\n",
              "<style scoped>\n",
              "    .dataframe tbody tr th:only-of-type {\n",
              "        vertical-align: middle;\n",
              "    }\n",
              "\n",
              "    .dataframe tbody tr th {\n",
              "        vertical-align: top;\n",
              "    }\n",
              "\n",
              "    .dataframe thead th {\n",
              "        text-align: right;\n",
              "    }\n",
              "</style>\n",
              "<table border=\"1\" class=\"dataframe\">\n",
              "  <thead>\n",
              "    <tr style=\"text-align: right;\">\n",
              "      <th></th>\n",
              "      <th>0</th>\n",
              "      <th>1</th>\n",
              "    </tr>\n",
              "  </thead>\n",
              "  <tbody>\n",
              "    <tr>\n",
              "      <th>0</th>\n",
              "      <td>254777</td>\n",
              "      <td>19548</td>\n",
              "    </tr>\n",
              "    <tr>\n",
              "      <th>1</th>\n",
              "      <td>60983</td>\n",
              "      <td>213260</td>\n",
              "    </tr>\n",
              "  </tbody>\n",
              "</table>\n",
              "</div>"
            ],
            "text/plain": [
              "        0       1\n",
              "0  254777   19548\n",
              "1   60983  213260"
            ]
          },
          "metadata": {
            "tags": []
          },
          "execution_count": 53
        }
      ]
    },
    {
      "cell_type": "code",
      "metadata": {
        "id": "1_CAg67xAuwl",
        "colab": {
          "base_uri": "https://localhost:8080/",
          "height": 173
        },
        "outputId": "0c463674-f739-4e2b-d390-14d495139b0c"
      },
      "source": [
        "print(classification_report(y_test, y_pred))"
      ],
      "execution_count": null,
      "outputs": [
        {
          "output_type": "stream",
          "text": [
            "              precision    recall  f1-score   support\n",
            "\n",
            "         0.0       0.81      0.93      0.86    274325\n",
            "         1.0       0.92      0.78      0.84    274243\n",
            "\n",
            "    accuracy                           0.85    548568\n",
            "   macro avg       0.86      0.85      0.85    548568\n",
            "weighted avg       0.86      0.85      0.85    548568\n",
            "\n"
          ],
          "name": "stdout"
        }
      ]
    },
    {
      "cell_type": "code",
      "metadata": {
        "id": "D9_7LURRA0XF"
      },
      "source": [
        ""
      ],
      "execution_count": null,
      "outputs": []
    },
    {
      "cell_type": "markdown",
      "metadata": {
        "id": "8mGrAlxCCTjh"
      },
      "source": [
        "### **undersample - trial**"
      ]
    },
    {
      "cell_type": "code",
      "metadata": {
        "id": "NO4kjNgYCWYg"
      },
      "source": [
        "not_delayed_downsampled = resample(not_delayed,\n",
        "                                replace = False, # sample without replacement\n",
        "                                n_samples = len(delayed))"
      ],
      "execution_count": null,
      "outputs": []
    },
    {
      "cell_type": "code",
      "metadata": {
        "id": "YBCC0HjFVidb"
      },
      "source": [
        "downsampled = pd.concat([not_delayed_downsampled, delayed])"
      ],
      "execution_count": null,
      "outputs": []
    },
    {
      "cell_type": "code",
      "metadata": {
        "id": "lEPSle2ZVn3i",
        "colab": {
          "base_uri": "https://localhost:8080/",
          "height": 439
        },
        "outputId": "0b812aef-4492-4cdd-a144-369b2c5246a8"
      },
      "source": [
        "downsampled"
      ],
      "execution_count": null,
      "outputs": [
        {
          "output_type": "execute_result",
          "data": {
            "text/html": [
              "<div>\n",
              "<style scoped>\n",
              "    .dataframe tbody tr th:only-of-type {\n",
              "        vertical-align: middle;\n",
              "    }\n",
              "\n",
              "    .dataframe tbody tr th {\n",
              "        vertical-align: top;\n",
              "    }\n",
              "\n",
              "    .dataframe thead th {\n",
              "        text-align: right;\n",
              "    }\n",
              "</style>\n",
              "<table border=\"1\" class=\"dataframe\">\n",
              "  <thead>\n",
              "    <tr style=\"text-align: right;\">\n",
              "      <th></th>\n",
              "      <th>windspeedKmph_x</th>\n",
              "      <th>winddirDegree_x</th>\n",
              "      <th>weatherCode_x</th>\n",
              "      <th>precipMM_x</th>\n",
              "      <th>visibility_x</th>\n",
              "      <th>pressure_x</th>\n",
              "      <th>cloudcover_x</th>\n",
              "      <th>DewPointF_x</th>\n",
              "      <th>WindGustKmph_x</th>\n",
              "      <th>tempF_x</th>\n",
              "      <th>WindChillF_x</th>\n",
              "      <th>humidity_x</th>\n",
              "      <th>DepTime</th>\n",
              "      <th>DepDel15</th>\n",
              "      <th>CRSDepTime</th>\n",
              "      <th>DepDelayMinutes</th>\n",
              "      <th>OriginAirportID</th>\n",
              "      <th>DestAirportID</th>\n",
              "      <th>ArrDel15</th>\n",
              "    </tr>\n",
              "  </thead>\n",
              "  <tbody>\n",
              "    <tr>\n",
              "      <th>503063</th>\n",
              "      <td>11</td>\n",
              "      <td>97</td>\n",
              "      <td>113</td>\n",
              "      <td>0.0</td>\n",
              "      <td>10</td>\n",
              "      <td>1019</td>\n",
              "      <td>10</td>\n",
              "      <td>58</td>\n",
              "      <td>12</td>\n",
              "      <td>76</td>\n",
              "      <td>75</td>\n",
              "      <td>64</td>\n",
              "      <td>1100.0</td>\n",
              "      <td>1.0</td>\n",
              "      <td>1055</td>\n",
              "      <td>23.0</td>\n",
              "      <td>11618</td>\n",
              "      <td>10397</td>\n",
              "      <td>0.0</td>\n",
              "    </tr>\n",
              "    <tr>\n",
              "      <th>1128048</th>\n",
              "      <td>9</td>\n",
              "      <td>77</td>\n",
              "      <td>122</td>\n",
              "      <td>0.0</td>\n",
              "      <td>10</td>\n",
              "      <td>1017</td>\n",
              "      <td>72</td>\n",
              "      <td>63</td>\n",
              "      <td>13</td>\n",
              "      <td>70</td>\n",
              "      <td>70</td>\n",
              "      <td>83</td>\n",
              "      <td>800.0</td>\n",
              "      <td>0.0</td>\n",
              "      <td>820</td>\n",
              "      <td>2.0</td>\n",
              "      <td>13204</td>\n",
              "      <td>10397</td>\n",
              "      <td>0.0</td>\n",
              "    </tr>\n",
              "    <tr>\n",
              "      <th>813868</th>\n",
              "      <td>15</td>\n",
              "      <td>351</td>\n",
              "      <td>113</td>\n",
              "      <td>0.0</td>\n",
              "      <td>10</td>\n",
              "      <td>1022</td>\n",
              "      <td>0</td>\n",
              "      <td>20</td>\n",
              "      <td>18</td>\n",
              "      <td>61</td>\n",
              "      <td>63</td>\n",
              "      <td>39</td>\n",
              "      <td>600.0</td>\n",
              "      <td>0.0</td>\n",
              "      <td>615</td>\n",
              "      <td>0.0</td>\n",
              "      <td>12889</td>\n",
              "      <td>11298</td>\n",
              "      <td>0.0</td>\n",
              "    </tr>\n",
              "    <tr>\n",
              "      <th>1071647</th>\n",
              "      <td>5</td>\n",
              "      <td>131</td>\n",
              "      <td>113</td>\n",
              "      <td>0.0</td>\n",
              "      <td>10</td>\n",
              "      <td>1011</td>\n",
              "      <td>26</td>\n",
              "      <td>54</td>\n",
              "      <td>6</td>\n",
              "      <td>70</td>\n",
              "      <td>70</td>\n",
              "      <td>58</td>\n",
              "      <td>800.0</td>\n",
              "      <td>0.0</td>\n",
              "      <td>800</td>\n",
              "      <td>0.0</td>\n",
              "      <td>12892</td>\n",
              "      <td>14107</td>\n",
              "      <td>0.0</td>\n",
              "    </tr>\n",
              "    <tr>\n",
              "      <th>711177</th>\n",
              "      <td>36</td>\n",
              "      <td>170</td>\n",
              "      <td>122</td>\n",
              "      <td>0.0</td>\n",
              "      <td>9</td>\n",
              "      <td>1011</td>\n",
              "      <td>85</td>\n",
              "      <td>65</td>\n",
              "      <td>65</td>\n",
              "      <td>67</td>\n",
              "      <td>67</td>\n",
              "      <td>93</td>\n",
              "      <td>900.0</td>\n",
              "      <td>0.0</td>\n",
              "      <td>933</td>\n",
              "      <td>0.0</td>\n",
              "      <td>12478</td>\n",
              "      <td>12889</td>\n",
              "      <td>0.0</td>\n",
              "    </tr>\n",
              "    <tr>\n",
              "      <th>...</th>\n",
              "      <td>...</td>\n",
              "      <td>...</td>\n",
              "      <td>...</td>\n",
              "      <td>...</td>\n",
              "      <td>...</td>\n",
              "      <td>...</td>\n",
              "      <td>...</td>\n",
              "      <td>...</td>\n",
              "      <td>...</td>\n",
              "      <td>...</td>\n",
              "      <td>...</td>\n",
              "      <td>...</td>\n",
              "      <td>...</td>\n",
              "      <td>...</td>\n",
              "      <td>...</td>\n",
              "      <td>...</td>\n",
              "      <td>...</td>\n",
              "      <td>...</td>\n",
              "      <td>...</td>\n",
              "    </tr>\n",
              "    <tr>\n",
              "      <th>1711985</th>\n",
              "      <td>19</td>\n",
              "      <td>265</td>\n",
              "      <td>113</td>\n",
              "      <td>0.1</td>\n",
              "      <td>10</td>\n",
              "      <td>1015</td>\n",
              "      <td>20</td>\n",
              "      <td>55</td>\n",
              "      <td>20</td>\n",
              "      <td>65</td>\n",
              "      <td>64</td>\n",
              "      <td>76</td>\n",
              "      <td>1800.0</td>\n",
              "      <td>0.0</td>\n",
              "      <td>1735</td>\n",
              "      <td>10.0</td>\n",
              "      <td>14771</td>\n",
              "      <td>11298</td>\n",
              "      <td>1.0</td>\n",
              "    </tr>\n",
              "    <tr>\n",
              "      <th>1119439</th>\n",
              "      <td>9</td>\n",
              "      <td>185</td>\n",
              "      <td>113</td>\n",
              "      <td>0.0</td>\n",
              "      <td>10</td>\n",
              "      <td>1012</td>\n",
              "      <td>0</td>\n",
              "      <td>67</td>\n",
              "      <td>10</td>\n",
              "      <td>86</td>\n",
              "      <td>86</td>\n",
              "      <td>54</td>\n",
              "      <td>1100.0</td>\n",
              "      <td>0.0</td>\n",
              "      <td>1120</td>\n",
              "      <td>5.0</td>\n",
              "      <td>12892</td>\n",
              "      <td>14771</td>\n",
              "      <td>1.0</td>\n",
              "    </tr>\n",
              "    <tr>\n",
              "      <th>1062725</th>\n",
              "      <td>9</td>\n",
              "      <td>203</td>\n",
              "      <td>119</td>\n",
              "      <td>0.1</td>\n",
              "      <td>10</td>\n",
              "      <td>1012</td>\n",
              "      <td>71</td>\n",
              "      <td>62</td>\n",
              "      <td>10</td>\n",
              "      <td>67</td>\n",
              "      <td>66</td>\n",
              "      <td>86</td>\n",
              "      <td>2000.0</td>\n",
              "      <td>1.0</td>\n",
              "      <td>1855</td>\n",
              "      <td>34.0</td>\n",
              "      <td>12892</td>\n",
              "      <td>14107</td>\n",
              "      <td>1.0</td>\n",
              "    </tr>\n",
              "    <tr>\n",
              "      <th>1760023</th>\n",
              "      <td>14</td>\n",
              "      <td>274</td>\n",
              "      <td>116</td>\n",
              "      <td>0.0</td>\n",
              "      <td>10</td>\n",
              "      <td>1010</td>\n",
              "      <td>23</td>\n",
              "      <td>56</td>\n",
              "      <td>17</td>\n",
              "      <td>70</td>\n",
              "      <td>68</td>\n",
              "      <td>69</td>\n",
              "      <td>1700.0</td>\n",
              "      <td>1.0</td>\n",
              "      <td>1610</td>\n",
              "      <td>53.0</td>\n",
              "      <td>14771</td>\n",
              "      <td>12889</td>\n",
              "      <td>1.0</td>\n",
              "    </tr>\n",
              "    <tr>\n",
              "      <th>520137</th>\n",
              "      <td>16</td>\n",
              "      <td>205</td>\n",
              "      <td>116</td>\n",
              "      <td>0.1</td>\n",
              "      <td>10</td>\n",
              "      <td>1010</td>\n",
              "      <td>25</td>\n",
              "      <td>69</td>\n",
              "      <td>27</td>\n",
              "      <td>67</td>\n",
              "      <td>67</td>\n",
              "      <td>76</td>\n",
              "      <td>2300.0</td>\n",
              "      <td>1.0</td>\n",
              "      <td>2125</td>\n",
              "      <td>110.0</td>\n",
              "      <td>11618</td>\n",
              "      <td>11292</td>\n",
              "      <td>1.0</td>\n",
              "    </tr>\n",
              "  </tbody>\n",
              "</table>\n",
              "<p>582778 rows × 19 columns</p>\n",
              "</div>"
            ],
            "text/plain": [
              "         windspeedKmph_x  winddirDegree_x  ...  DestAirportID  ArrDel15\n",
              "503063                11               97  ...          10397       0.0\n",
              "1128048                9               77  ...          10397       0.0\n",
              "813868                15              351  ...          11298       0.0\n",
              "1071647                5              131  ...          14107       0.0\n",
              "711177                36              170  ...          12889       0.0\n",
              "...                  ...              ...  ...            ...       ...\n",
              "1711985               19              265  ...          11298       1.0\n",
              "1119439                9              185  ...          14771       1.0\n",
              "1062725                9              203  ...          14107       1.0\n",
              "1760023               14              274  ...          12889       1.0\n",
              "520137                16              205  ...          11292       1.0\n",
              "\n",
              "[582778 rows x 19 columns]"
            ]
          },
          "metadata": {
            "tags": []
          },
          "execution_count": 12
        }
      ]
    },
    {
      "cell_type": "code",
      "metadata": {
        "id": "781ZOM9aVqgW",
        "colab": {
          "base_uri": "https://localhost:8080/",
          "height": 68
        },
        "outputId": "5aa8bc60-4044-4eb4-f57c-05fd2bcc7206"
      },
      "source": [
        "downsampled.ArrDel15.value_counts()"
      ],
      "execution_count": null,
      "outputs": [
        {
          "output_type": "execute_result",
          "data": {
            "text/plain": [
              "1.0    291389\n",
              "0.0    291389\n",
              "Name: ArrDel15, dtype: int64"
            ]
          },
          "metadata": {
            "tags": []
          },
          "execution_count": 13
        }
      ]
    },
    {
      "cell_type": "code",
      "metadata": {
        "id": "bWGAXbk6V4nq",
        "colab": {
          "base_uri": "https://localhost:8080/",
          "height": 296
        },
        "outputId": "93cd823b-8dc8-460a-bcbf-8e7165b784ad"
      },
      "source": [
        "sns.countplot(x='ArrDel15',data=downsampled)"
      ],
      "execution_count": null,
      "outputs": [
        {
          "output_type": "execute_result",
          "data": {
            "text/plain": [
              "<matplotlib.axes._subplots.AxesSubplot at 0x7f741efe0fd0>"
            ]
          },
          "metadata": {
            "tags": []
          },
          "execution_count": 14
        },
        {
          "output_type": "display_data",
          "data": {
            "image/png": "[encoded data removed]",
            "text/plain": [
              "<Figure size 432x288 with 1 Axes>"
            ]
          },
          "metadata": {
            "tags": []
          }
        }
      ]
    },
    {
      "cell_type": "code",
      "metadata": {
        "id": "ngtL8i9hWHVp"
      },
      "source": [
        "X = downsampled[feature_cols]\n",
        "y = downsampled.ArrDel15"
      ],
      "execution_count": null,
      "outputs": []
    },
    {
      "cell_type": "code",
      "metadata": {
        "id": "j41H_BuxWkj3",
        "colab": {
          "base_uri": "https://localhost:8080/",
          "height": 153
        },
        "outputId": "bb5dd51e-6b65-42e0-f38c-44065a969d69"
      },
      "source": [
        "X_train,X_test,y_train,y_test=train_test_split(X,y,test_size=0.25,random_state=0)\n",
        "logreg = LogisticRegression()\n",
        "logreg.fit(X_train,y_train)\n",
        "y_pred=logreg.predict(X_test)"
      ],
      "execution_count": null,
      "outputs": [
        {
          "output_type": "stream",
          "text": [
            "/usr/local/lib/python3.6/dist-packages/sklearn/linear_model/_logistic.py:940: ConvergenceWarning: lbfgs failed to converge (status=1):\n",
            "STOP: TOTAL NO. of ITERATIONS REACHED LIMIT.\n",
            "\n",
            "Increase the number of iterations (max_iter) or scale the data as shown in:\n",
            "    https://scikit-learn.org/stable/modules/preprocessing.html\n",
            "Please also refer to the documentation for alternative solver options:\n",
            "    https://scikit-learn.org/stable/modules/linear_model.html#logistic-regression\n",
            "  extra_warning_msg=_LOGISTIC_SOLVER_CONVERGENCE_MSG)\n"
          ],
          "name": "stderr"
        }
      ]
    },
    {
      "cell_type": "code",
      "metadata": {
        "id": "SkaVlMiCWoYq",
        "colab": {
          "base_uri": "https://localhost:8080/",
          "height": 111
        },
        "outputId": "20fa4acc-f3a6-47b8-8ae1-d3675cb3a317"
      },
      "source": [
        "cnf_matrix = metrics.confusion_matrix(y_test, y_pred)\n",
        "pd.DataFrame(cnf_matrix)"
      ],
      "execution_count": null,
      "outputs": [
        {
          "output_type": "execute_result",
          "data": {
            "text/html": [
              "<div>\n",
              "<style scoped>\n",
              "    .dataframe tbody tr th:only-of-type {\n",
              "        vertical-align: middle;\n",
              "    }\n",
              "\n",
              "    .dataframe tbody tr th {\n",
              "        vertical-align: top;\n",
              "    }\n",
              "\n",
              "    .dataframe thead th {\n",
              "        text-align: right;\n",
              "    }\n",
              "</style>\n",
              "<table border=\"1\" class=\"dataframe\">\n",
              "  <thead>\n",
              "    <tr style=\"text-align: right;\">\n",
              "      <th></th>\n",
              "      <th>0</th>\n",
              "      <th>1</th>\n",
              "    </tr>\n",
              "  </thead>\n",
              "  <tbody>\n",
              "    <tr>\n",
              "      <th>0</th>\n",
              "      <td>67434</td>\n",
              "      <td>5208</td>\n",
              "    </tr>\n",
              "    <tr>\n",
              "      <th>1</th>\n",
              "      <td>16308</td>\n",
              "      <td>56745</td>\n",
              "    </tr>\n",
              "  </tbody>\n",
              "</table>\n",
              "</div>"
            ],
            "text/plain": [
              "       0      1\n",
              "0  67434   5208\n",
              "1  16308  56745"
            ]
          },
          "metadata": {
            "tags": []
          },
          "execution_count": 18
        }
      ]
    },
    {
      "cell_type": "code",
      "metadata": {
        "id": "CbFlw-4nW_uB"
      },
      "source": [
        "print(classification_report(y_test, y_pred))"
      ],
      "execution_count": null,
      "outputs": []
    },
    {
      "cell_type": "code",
      "metadata": {
        "id": "pW6C6C-wXIUU"
      },
      "source": [
        "X_test"
      ],
      "execution_count": null,
      "outputs": []
    },
    {
      "cell_type": "code",
      "metadata": {
        "id": "IGt1o8L201Xo"
      },
      "source": [
        ""
      ],
      "execution_count": null,
      "outputs": []
    }
  ]
}