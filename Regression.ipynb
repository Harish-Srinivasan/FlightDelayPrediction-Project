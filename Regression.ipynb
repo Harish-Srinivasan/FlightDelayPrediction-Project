{
  "nbformat": 4,
  "nbformat_minor": 0,
  "metadata": {
    "kernelspec": {
      "display_name": "Python 3",
      "language": "python",
      "name": "python3"
    },
    "language_info": {
      "codemirror_mode": {
        "name": "ipython",
        "version": 3
      },
      "file_extension": ".py",
      "mimetype": "text/x-python",
      "name": "python",
      "nbconvert_exporter": "python",
      "pygments_lexer": "ipython3",
      "version": "3.7.4"
    },
    "colab": {
      "name": "Regression.ipynb",
      "provenance": []
    }
  },
  "cells": [
    {
      "cell_type": "markdown",
      "metadata": {
        "id": "B5Rs3ttTJsd2"
      },
      "source": [
        "## Regression"
      ]
    },
    {
      "cell_type": "code",
      "metadata": {
        "id": "fIw3RwecJsd_"
      },
      "source": [
        "import pandas as pd\n",
        "from pandas import np\n",
        "import matplotlib.pyplot as plt\n",
        "import seaborn as sns\n",
        "from sklearn.model_selection import train_test_split\n",
        "from sklearn.linear_model import LinearRegression\n",
        "from sklearn.metrics import classification_report\n",
        "from sklearn.metrics import accuracy_score, r2_score\n",
        "from sklearn import metrics\n",
        "%matplotlib inline\n"
      ],
      "execution_count": null,
      "outputs": []
    },
    {
      "cell_type": "code",
      "metadata": {
        "id": "o7JImiavKUtw",
        "colab": {
          "base_uri": "https://localhost:8080/",
          "height": 124
        },
        "outputId": "7c00c5e1-d958-4ef3-b45a-6e0afc3eb9bc"
      },
      "source": [
        "from google.colab import drive\n",
        "drive.mount('/content/drive')"
      ],
      "execution_count": null,
      "outputs": [
        {
          "output_type": "stream",
          "text": [
            "Go to this URL in a browser: https://accounts.google.com/o/oauth2/auth?client_id=947318989803-6bn6qk8qdgf4n4g3pfee6491hc0brc4i.apps.googleusercontent.com&redirect_uri=urn%3aietf%3awg%3aoauth%3a2.0%3aoob&response_type=code&scope=email%20https%3a%2f%2fwww.googleapis.com%2fauth%2fdocs.test%20https%3a%2f%2fwww.googleapis.com%2fauth%2fdrive%20https%3a%2f%2fwww.googleapis.com%2fauth%2fdrive.photos.readonly%20https%3a%2f%2fwww.googleapis.com%2fauth%2fpeopleapi.readonly\n",
            "\n",
            "Enter your authorization code:\n",
            "··········\n",
            "Mounted at /content/drive\n"
          ],
          "name": "stdout"
        }
      ]
    },
    {
      "cell_type": "code",
      "metadata": {
        "id": "gaJ6oy1_JseV",
        "colab": {
          "base_uri": "https://localhost:8080/",
          "height": 72
        },
        "outputId": "87d0c2e9-2e08-4fd5-8d82-3d60515330be"
      },
      "source": [
        "dfmerge = pd.read_csv(\"/content/drive/My Drive/mergeddata.csv\",index_col=0)"
      ],
      "execution_count": null,
      "outputs": [
        {
          "output_type": "stream",
          "text": [
            "/usr/local/lib/python3.6/dist-packages/numpy/lib/arraysetops.py:568: FutureWarning: elementwise comparison failed; returning scalar instead, but in the future will perform elementwise comparison\n",
            "  mask |= (ar1 == a)\n"
          ],
          "name": "stderr"
        }
      ]
    },
    {
      "cell_type": "code",
      "metadata": {
        "id": "26aiTqrjJsek"
      },
      "source": [
        "dfmerge = dfmerge[dfmerge.ArrDelayMinutes>0]"
      ],
      "execution_count": null,
      "outputs": []
    },
    {
      "cell_type": "code",
      "metadata": {
        "id": "zW5Jb_J3Jseu",
        "colab": {
          "base_uri": "https://localhost:8080/",
          "height": 173
        },
        "outputId": "2dff7eaa-3076-4855-c9aa-35ba37521d52"
      },
      "source": [
        "dfmerge['ArrDelayMinutes'].describe()"
      ],
      "execution_count": null,
      "outputs": [
        {
          "output_type": "execute_result",
          "data": {
            "text/plain": [
              "count    700439.000000\n",
              "mean         37.695896\n",
              "std          60.455691\n",
              "min           1.000000\n",
              "25%           7.000000\n",
              "50%          17.000000\n",
              "75%          44.000000\n",
              "max        2142.000000\n",
              "Name: ArrDelayMinutes, dtype: float64"
            ]
          },
          "metadata": {
            "tags": []
          },
          "execution_count": 9
        }
      ]
    },
    {
      "cell_type": "code",
      "metadata": {
        "id": "wpr2zdO-Jse7"
      },
      "source": [
        "#regression using selected columns\n",
        "feature_cols = ['windspeedKmph_x', 'winddirDegree_x', 'weatherCode_x', 'precipMM_x', 'visibility_x',\n",
        "           'pressure_x', 'cloudcover_x', 'DewPointF_x', 'WindGustKmph_x', 'tempF_x',\n",
        "           'WindChillF_x', 'humidity_x',\"Year\", \"Quarter\", \"Month\", \"DayofMonth\",\n",
        "               \"DepTime\", \"DepDel15\", \"CRSDepTime\",\"DepDelayMinutes\", \n",
        "       \"OriginAirportID\", \"DestAirportID\"]\n",
        "X = dfmerge[feature_cols] #X value containing all data from feature columns\n",
        "y = dfmerge.ArrDelayMinutes #y value containing target variable of arrival delay period"
      ],
      "execution_count": null,
      "outputs": []
    },
    {
      "cell_type": "code",
      "metadata": {
        "id": "FqcSYz1pJsfI"
      },
      "source": [
        "# ss = y.iloc[:].values\n",
        "# print(len(ss[ss==0]))\n",
        "# print(len(ss[ss!=0]))"
      ],
      "execution_count": null,
      "outputs": []
    },
    {
      "cell_type": "code",
      "metadata": {
        "id": "zuN_ZEeMJsfl",
        "colab": {
          "base_uri": "https://localhost:8080/",
          "height": 34
        },
        "outputId": "e7c19625-d261-4da4-d6e5-bc1771b4b9a7"
      },
      "source": [
        "X_train, X_test, y_train, y_test = train_test_split(X, y, test_size=0.2, random_state=0)\n",
        "regressor = LinearRegression()  \n",
        "regressor.fit(X_train, y_train)"
      ],
      "execution_count": null,
      "outputs": [
        {
          "output_type": "execute_result",
          "data": {
            "text/plain": [
              "LinearRegression(copy_X=True, fit_intercept=True, n_jobs=None, normalize=False)"
            ]
          },
          "metadata": {
            "tags": []
          },
          "execution_count": 11
        }
      ]
    },
    {
      "cell_type": "code",
      "metadata": {
        "id": "Igwri8YkJsfu",
        "colab": {
          "base_uri": "https://localhost:8080/",
          "height": 739
        },
        "outputId": "e8c3f6ca-2574-4f76-b75e-6b45e4b0c0b3"
      },
      "source": [
        "coeff_df = pd.DataFrame(regressor.coef_, X.columns, columns=['Coefficient:ArrDelay'])  \n",
        "coeff_df"
      ],
      "execution_count": null,
      "outputs": [
        {
          "output_type": "execute_result",
          "data": {
            "text/html": [
              "<div>\n",
              "<style scoped>\n",
              "    .dataframe tbody tr th:only-of-type {\n",
              "        vertical-align: middle;\n",
              "    }\n",
              "\n",
              "    .dataframe tbody tr th {\n",
              "        vertical-align: top;\n",
              "    }\n",
              "\n",
              "    .dataframe thead th {\n",
              "        text-align: right;\n",
              "    }\n",
              "</style>\n",
              "<table border=\"1\" class=\"dataframe\">\n",
              "  <thead>\n",
              "    <tr style=\"text-align: right;\">\n",
              "      <th></th>\n",
              "      <th>Coefficient:ArrDelay</th>\n",
              "    </tr>\n",
              "  </thead>\n",
              "  <tbody>\n",
              "    <tr>\n",
              "      <th>windspeedKmph_x</th>\n",
              "      <td>0.035587</td>\n",
              "    </tr>\n",
              "    <tr>\n",
              "      <th>winddirDegree_x</th>\n",
              "      <td>-0.000554</td>\n",
              "    </tr>\n",
              "    <tr>\n",
              "      <th>weatherCode_x</th>\n",
              "      <td>0.009957</td>\n",
              "    </tr>\n",
              "    <tr>\n",
              "      <th>precipMM_x</th>\n",
              "      <td>0.164312</td>\n",
              "    </tr>\n",
              "    <tr>\n",
              "      <th>visibility_x</th>\n",
              "      <td>-0.093387</td>\n",
              "    </tr>\n",
              "    <tr>\n",
              "      <th>pressure_x</th>\n",
              "      <td>-0.089914</td>\n",
              "    </tr>\n",
              "    <tr>\n",
              "      <th>cloudcover_x</th>\n",
              "      <td>0.005697</td>\n",
              "    </tr>\n",
              "    <tr>\n",
              "      <th>DewPointF_x</th>\n",
              "      <td>0.040770</td>\n",
              "    </tr>\n",
              "    <tr>\n",
              "      <th>WindGustKmph_x</th>\n",
              "      <td>0.015050</td>\n",
              "    </tr>\n",
              "    <tr>\n",
              "      <th>tempF_x</th>\n",
              "      <td>0.146879</td>\n",
              "    </tr>\n",
              "    <tr>\n",
              "      <th>WindChillF_x</th>\n",
              "      <td>-0.159400</td>\n",
              "    </tr>\n",
              "    <tr>\n",
              "      <th>humidity_x</th>\n",
              "      <td>-0.027163</td>\n",
              "    </tr>\n",
              "    <tr>\n",
              "      <th>Year</th>\n",
              "      <td>0.627090</td>\n",
              "    </tr>\n",
              "    <tr>\n",
              "      <th>Quarter</th>\n",
              "      <td>-0.213836</td>\n",
              "    </tr>\n",
              "    <tr>\n",
              "      <th>Month</th>\n",
              "      <td>0.053702</td>\n",
              "    </tr>\n",
              "    <tr>\n",
              "      <th>DayofMonth</th>\n",
              "      <td>-0.007773</td>\n",
              "    </tr>\n",
              "    <tr>\n",
              "      <th>DepTime</th>\n",
              "      <td>0.001565</td>\n",
              "    </tr>\n",
              "    <tr>\n",
              "      <th>DepDel15</th>\n",
              "      <td>-12.157755</td>\n",
              "    </tr>\n",
              "    <tr>\n",
              "      <th>CRSDepTime</th>\n",
              "      <td>-0.002145</td>\n",
              "    </tr>\n",
              "    <tr>\n",
              "      <th>DepDelayMinutes</th>\n",
              "      <td>0.990296</td>\n",
              "    </tr>\n",
              "    <tr>\n",
              "      <th>OriginAirportID</th>\n",
              "      <td>0.000077</td>\n",
              "    </tr>\n",
              "    <tr>\n",
              "      <th>DestAirportID</th>\n",
              "      <td>0.000524</td>\n",
              "    </tr>\n",
              "  </tbody>\n",
              "</table>\n",
              "</div>"
            ],
            "text/plain": [
              "                 Coefficient:ArrDelay\n",
              "windspeedKmph_x              0.035587\n",
              "winddirDegree_x             -0.000554\n",
              "weatherCode_x                0.009957\n",
              "precipMM_x                   0.164312\n",
              "visibility_x                -0.093387\n",
              "pressure_x                  -0.089914\n",
              "cloudcover_x                 0.005697\n",
              "DewPointF_x                  0.040770\n",
              "WindGustKmph_x               0.015050\n",
              "tempF_x                      0.146879\n",
              "WindChillF_x                -0.159400\n",
              "humidity_x                  -0.027163\n",
              "Year                         0.627090\n",
              "Quarter                     -0.213836\n",
              "Month                        0.053702\n",
              "DayofMonth                  -0.007773\n",
              "DepTime                      0.001565\n",
              "DepDel15                   -12.157755\n",
              "CRSDepTime                  -0.002145\n",
              "DepDelayMinutes              0.990296\n",
              "OriginAirportID              0.000077\n",
              "DestAirportID                0.000524"
            ]
          },
          "metadata": {
            "tags": []
          },
          "execution_count": 12
        }
      ]
    },
    {
      "cell_type": "code",
      "metadata": {
        "id": "38aybdEeJsf6"
      },
      "source": [
        "y_pred = regressor.predict(X_test)\n",
        "preddf = pd.DataFrame({'Actual': y_test, 'Predicted': y_pred})\n",
        "preddf1 = preddf.head(25)"
      ],
      "execution_count": null,
      "outputs": []
    },
    {
      "cell_type": "code",
      "metadata": {
        "id": "IgVezsGAJsgD",
        "colab": {
          "base_uri": "https://localhost:8080/",
          "height": 834
        },
        "outputId": "d9d71ccb-752f-4a3b-cab6-9580889bac29"
      },
      "source": [
        "preddf1"
      ],
      "execution_count": null,
      "outputs": [
        {
          "output_type": "execute_result",
          "data": {
            "text/html": [
              "<div>\n",
              "<style scoped>\n",
              "    .dataframe tbody tr th:only-of-type {\n",
              "        vertical-align: middle;\n",
              "    }\n",
              "\n",
              "    .dataframe tbody tr th {\n",
              "        vertical-align: top;\n",
              "    }\n",
              "\n",
              "    .dataframe thead th {\n",
              "        text-align: right;\n",
              "    }\n",
              "</style>\n",
              "<table border=\"1\" class=\"dataframe\">\n",
              "  <thead>\n",
              "    <tr style=\"text-align: right;\">\n",
              "      <th></th>\n",
              "      <th>Actual</th>\n",
              "      <th>Predicted</th>\n",
              "    </tr>\n",
              "  </thead>\n",
              "  <tbody>\n",
              "    <tr>\n",
              "      <th>1248430</th>\n",
              "      <td>101.0</td>\n",
              "      <td>94.569381</td>\n",
              "    </tr>\n",
              "    <tr>\n",
              "      <th>357101</th>\n",
              "      <td>10.0</td>\n",
              "      <td>11.862228</td>\n",
              "    </tr>\n",
              "    <tr>\n",
              "      <th>527956</th>\n",
              "      <td>52.0</td>\n",
              "      <td>94.141797</td>\n",
              "    </tr>\n",
              "    <tr>\n",
              "      <th>908960</th>\n",
              "      <td>20.0</td>\n",
              "      <td>22.691540</td>\n",
              "    </tr>\n",
              "    <tr>\n",
              "      <th>1261467</th>\n",
              "      <td>37.0</td>\n",
              "      <td>43.066728</td>\n",
              "    </tr>\n",
              "    <tr>\n",
              "      <th>1799946</th>\n",
              "      <td>94.0</td>\n",
              "      <td>100.567990</td>\n",
              "    </tr>\n",
              "    <tr>\n",
              "      <th>503130</th>\n",
              "      <td>67.0</td>\n",
              "      <td>73.453584</td>\n",
              "    </tr>\n",
              "    <tr>\n",
              "      <th>1117956</th>\n",
              "      <td>4.0</td>\n",
              "      <td>16.534793</td>\n",
              "    </tr>\n",
              "    <tr>\n",
              "      <th>1058115</th>\n",
              "      <td>136.0</td>\n",
              "      <td>147.062790</td>\n",
              "    </tr>\n",
              "    <tr>\n",
              "      <th>411852</th>\n",
              "      <td>6.0</td>\n",
              "      <td>20.347469</td>\n",
              "    </tr>\n",
              "    <tr>\n",
              "      <th>1255526</th>\n",
              "      <td>53.0</td>\n",
              "      <td>42.642838</td>\n",
              "    </tr>\n",
              "    <tr>\n",
              "      <th>546595</th>\n",
              "      <td>95.0</td>\n",
              "      <td>62.553992</td>\n",
              "    </tr>\n",
              "    <tr>\n",
              "      <th>1253956</th>\n",
              "      <td>24.0</td>\n",
              "      <td>12.834287</td>\n",
              "    </tr>\n",
              "    <tr>\n",
              "      <th>476996</th>\n",
              "      <td>10.0</td>\n",
              "      <td>9.177589</td>\n",
              "    </tr>\n",
              "    <tr>\n",
              "      <th>791114</th>\n",
              "      <td>8.0</td>\n",
              "      <td>14.906879</td>\n",
              "    </tr>\n",
              "    <tr>\n",
              "      <th>94350</th>\n",
              "      <td>50.0</td>\n",
              "      <td>61.979000</td>\n",
              "    </tr>\n",
              "    <tr>\n",
              "      <th>1509204</th>\n",
              "      <td>3.0</td>\n",
              "      <td>8.862815</td>\n",
              "    </tr>\n",
              "    <tr>\n",
              "      <th>1328077</th>\n",
              "      <td>37.0</td>\n",
              "      <td>19.294582</td>\n",
              "    </tr>\n",
              "    <tr>\n",
              "      <th>1274768</th>\n",
              "      <td>31.0</td>\n",
              "      <td>20.214891</td>\n",
              "    </tr>\n",
              "    <tr>\n",
              "      <th>885080</th>\n",
              "      <td>2.0</td>\n",
              "      <td>17.060696</td>\n",
              "    </tr>\n",
              "    <tr>\n",
              "      <th>143669</th>\n",
              "      <td>22.0</td>\n",
              "      <td>11.627859</td>\n",
              "    </tr>\n",
              "    <tr>\n",
              "      <th>1663549</th>\n",
              "      <td>47.0</td>\n",
              "      <td>42.056152</td>\n",
              "    </tr>\n",
              "    <tr>\n",
              "      <th>1757774</th>\n",
              "      <td>182.0</td>\n",
              "      <td>165.271313</td>\n",
              "    </tr>\n",
              "    <tr>\n",
              "      <th>1238132</th>\n",
              "      <td>13.0</td>\n",
              "      <td>18.183605</td>\n",
              "    </tr>\n",
              "    <tr>\n",
              "      <th>1000106</th>\n",
              "      <td>5.0</td>\n",
              "      <td>38.716962</td>\n",
              "    </tr>\n",
              "  </tbody>\n",
              "</table>\n",
              "</div>"
            ],
            "text/plain": [
              "         Actual   Predicted\n",
              "1248430   101.0   94.569381\n",
              "357101     10.0   11.862228\n",
              "527956     52.0   94.141797\n",
              "908960     20.0   22.691540\n",
              "1261467    37.0   43.066728\n",
              "1799946    94.0  100.567990\n",
              "503130     67.0   73.453584\n",
              "1117956     4.0   16.534793\n",
              "1058115   136.0  147.062790\n",
              "411852      6.0   20.347469\n",
              "1255526    53.0   42.642838\n",
              "546595     95.0   62.553992\n",
              "1253956    24.0   12.834287\n",
              "476996     10.0    9.177589\n",
              "791114      8.0   14.906879\n",
              "94350      50.0   61.979000\n",
              "1509204     3.0    8.862815\n",
              "1328077    37.0   19.294582\n",
              "1274768    31.0   20.214891\n",
              "885080      2.0   17.060696\n",
              "143669     22.0   11.627859\n",
              "1663549    47.0   42.056152\n",
              "1757774   182.0  165.271313\n",
              "1238132    13.0   18.183605\n",
              "1000106     5.0   38.716962"
            ]
          },
          "metadata": {
            "tags": []
          },
          "execution_count": 14
        }
      ]
    },
    {
      "cell_type": "code",
      "metadata": {
        "id": "csvSYIkNJsgP",
        "colab": {
          "base_uri": "https://localhost:8080/",
          "height": 69
        },
        "outputId": "c6234f3f-4d76-4939-c7af-ead2101f5d0d"
      },
      "source": [
        "print('Mean Absolute Error:', metrics.mean_absolute_error(y_test, y_pred))  \n",
        "print('Mean Squared Error:', metrics.mean_squared_error(y_test, y_pred))  \n",
        "print('Root Mean Squared Error:', np.sqrt(metrics.mean_squared_error(y_test, y_pred)))"
      ],
      "execution_count": null,
      "outputs": [
        {
          "output_type": "stream",
          "text": [
            "Mean Absolute Error: 10.654298736012976\n",
            "Mean Squared Error: 247.91230222575382\n",
            "Root Mean Squared Error: 15.745231094707814\n"
          ],
          "name": "stdout"
        }
      ]
    },
    {
      "cell_type": "code",
      "metadata": {
        "id": "sPPVJJIsJsgV",
        "colab": {
          "base_uri": "https://localhost:8080/",
          "height": 34
        },
        "outputId": "9507a73f-1090-4bb5-f711-e65a3f23823f"
      },
      "source": [
        "print(regressor.score(X_test, y_test))"
      ],
      "execution_count": null,
      "outputs": [
        {
          "output_type": "stream",
          "text": [
            "0.9297349903825257\n"
          ],
          "name": "stdout"
        }
      ]
    },
    {
      "cell_type": "code",
      "metadata": {
        "id": "DjvO6olCQXSo"
      },
      "source": [
        "from sklearn.svm import SVR"
      ],
      "execution_count": null,
      "outputs": []
    },
    {
      "cell_type": "code",
      "metadata": {
        "id": "1miEIzqPQY2l"
      },
      "source": [
        "clf3 = SVR()"
      ],
      "execution_count": null,
      "outputs": []
    },
    {
      "cell_type": "code",
      "metadata": {
        "id": "GQgJGZYIQ5B_"
      },
      "source": [
        "clf3.fit(X_train, y_train)"
      ],
      "execution_count": null,
      "outputs": []
    },
    {
      "cell_type": "code",
      "metadata": {
        "id": "qKFAW5uHRCRx"
      },
      "source": [
        "y_pred3 = clf3.predict(X_test)\n",
        "print('Mean Absolute Error:', metrics.mean_absolute_error(y_test, y_pred3))  \n",
        "print('Mean Squared Error:', metrics.mean_squared_error(y_test, y_pred3))  \n",
        "print('Root Mean Squared Error:', np.sqrt(metrics.mean_squared_error(y_test, y_pred3)))"
      ],
      "execution_count": null,
      "outputs": []
    },
    {
      "cell_type": "code",
      "metadata": {
        "id": "2onMu7Q6RRU_"
      },
      "source": [
        "print(clf3.score(X_test, y_test))"
      ],
      "execution_count": null,
      "outputs": []
    },
    {
      "cell_type": "code",
      "metadata": {
        "id": "io5PuavEJsge"
      },
      "source": [
        "import statsmodels.api as sm"
      ],
      "execution_count": null,
      "outputs": []
    },
    {
      "cell_type": "code",
      "metadata": {
        "id": "1bumrHuTJsgl",
        "colab": {
          "base_uri": "https://localhost:8080/",
          "height": 72
        },
        "outputId": "87bd2dfc-2e04-496a-c97e-e0de12ff59b4"
      },
      "source": [
        "X = sm.add_constant(X)"
      ],
      "execution_count": null,
      "outputs": [
        {
          "output_type": "stream",
          "text": [
            "/usr/local/lib/python3.6/dist-packages/numpy/core/fromnumeric.py:2495: FutureWarning: Method .ptp is deprecated and will be removed in a future version. Use numpy.ptp instead.\n",
            "  return ptp(axis=axis, out=out, **kwargs)\n"
          ],
          "name": "stderr"
        }
      ]
    },
    {
      "cell_type": "code",
      "metadata": {
        "scrolled": false,
        "id": "fI2QPifsJsgs",
        "colab": {
          "base_uri": "https://localhost:8080/",
          "height": 851
        },
        "outputId": "e54d7e22-4c42-490f-e2a3-521d1d4bf621"
      },
      "source": [
        "model = sm.OLS(y, X)\n",
        "reg = model.fit()\n",
        "print(reg.summary())"
      ],
      "execution_count": null,
      "outputs": [
        {
          "output_type": "stream",
          "text": [
            "                            OLS Regression Results                            \n",
            "==============================================================================\n",
            "Dep. Variable:        ArrDelayMinutes   R-squared:                       0.933\n",
            "Model:                            OLS   Adj. R-squared:                  0.933\n",
            "Method:                 Least Squares   F-statistic:                 4.443e+05\n",
            "Date:                Fri, 14 Feb 2020   Prob (F-statistic):               0.00\n",
            "Time:                        14:48:05   Log-Likelihood:            -2.9196e+06\n",
            "No. Observations:              700439   AIC:                         5.839e+06\n",
            "Df Residuals:                  700416   BIC:                         5.840e+06\n",
            "Df Model:                          22                                         \n",
            "Covariance Type:            nonrobust                                         \n",
            "===================================================================================\n",
            "                      coef    std err          t      P>|t|      [0.025      0.975]\n",
            "-----------------------------------------------------------------------------------\n",
            "const           -1127.2344     77.461    -14.552      0.000   -1279.055    -975.414\n",
            "windspeedKmph_x     0.0333      0.007      4.734      0.000       0.019       0.047\n",
            "winddirDegree_x    -0.0006      0.000     -2.409      0.016      -0.001      -0.000\n",
            "weatherCode_x       0.0099      0.000     30.145      0.000       0.009       0.011\n",
            "precipMM_x          0.1559      0.020      7.904      0.000       0.117       0.195\n",
            "visibility_x       -0.0977      0.012     -8.095      0.000      -0.121      -0.074\n",
            "pressure_x         -0.0929      0.003    -26.911      0.000      -0.100      -0.086\n",
            "cloudcover_x        0.0053      0.001      8.477      0.000       0.004       0.007\n",
            "DewPointF_x         0.0416      0.004     10.400      0.000       0.034       0.049\n",
            "WindGustKmph_x      0.0164      0.005      3.236      0.001       0.006       0.026\n",
            "tempF_x             0.1425      0.010     14.548      0.000       0.123       0.162\n",
            "WindChillF_x       -0.1564      0.009    -17.154      0.000      -0.174      -0.139\n",
            "humidity_x         -0.0270      0.003    -10.465      0.000      -0.032      -0.022\n",
            "Year                0.6065      0.038     15.838      0.000       0.531       0.682\n",
            "Quarter            -0.2205      0.070     -3.148      0.002      -0.358      -0.083\n",
            "Month               0.0545      0.023      2.400      0.016       0.010       0.099\n",
            "DayofMonth         -0.0092      0.002     -4.300      0.000      -0.013      -0.005\n",
            "DepTime             0.0015   5.28e-05     29.029      0.000       0.001       0.002\n",
            "DepDel15          -12.1445      0.044   -274.223      0.000     -12.231     -12.058\n",
            "CRSDepTime         -0.0021   5.71e-05    -37.360      0.000      -0.002      -0.002\n",
            "DepDelayMinutes     0.9900      0.000   2795.640      0.000       0.989       0.991\n",
            "OriginAirportID  7.976e-05   1.42e-05      5.606      0.000    5.19e-05       0.000\n",
            "DestAirportID       0.0005   1.41e-05     36.774      0.000       0.000       0.001\n",
            "==============================================================================\n",
            "Omnibus:                   371645.411   Durbin-Watson:                   1.699\n",
            "Prob(Omnibus):                  0.000   Jarque-Bera (JB):          5610263.369\n",
            "Skew:                           2.215   Prob(JB):                         0.00\n",
            "Kurtosis:                      16.138   Cond. No.                     7.64e+07\n",
            "==============================================================================\n",
            "\n",
            "Warnings:\n",
            "[1] Standard Errors assume that the covariance matrix of the errors is correctly specified.\n",
            "[2] The condition number is large, 7.64e+07. This might indicate that there are\n",
            "strong multicollinearity or other numerical problems.\n"
          ],
          "name": "stdout"
        }
      ]
    },
    {
      "cell_type": "code",
      "metadata": {
        "id": "16XOcZxkJsg0",
        "colab": {
          "base_uri": "https://localhost:8080/",
          "height": 284
        },
        "outputId": "a870e767-854d-42d8-efd5-fc83e34bf63b"
      },
      "source": [
        "plt.scatter(y_test, y_pred)"
      ],
      "execution_count": null,
      "outputs": [
        {
          "output_type": "execute_result",
          "data": {
            "text/plain": [
              "<matplotlib.collections.PathCollection at 0x7fbfedd0d400>"
            ]
          },
          "metadata": {
            "tags": []
          },
          "execution_count": 20
        },
        {
          "output_type": "display_data",
          "data": {
            "image/png": "[encoded data removed]",
            "text/plain": [
              "<Figure size 432x288 with 1 Axes>"
            ]
          },
          "metadata": {
            "tags": []
          }
        }
      ]
    },
    {
      "cell_type": "markdown",
      "metadata": {
        "id": "MyW2YDZnUTtH"
      },
      "source": [
        "**XGB Regressor**"
      ]
    },
    {
      "cell_type": "code",
      "metadata": {
        "id": "TcW8bF68JshE"
      },
      "source": [
        "from sklearn import ensemble\n",
        "clf = ensemble.GradientBoostingRegressor()"
      ],
      "execution_count": null,
      "outputs": []
    },
    {
      "cell_type": "code",
      "metadata": {
        "id": "pz1qwPkxJshL",
        "colab": {
          "base_uri": "https://localhost:8080/",
          "height": 173
        },
        "outputId": "5aeab3f3-b9df-4c4d-c3a4-a727b3c3e560"
      },
      "source": [
        "clf.fit(X_train, y_train)"
      ],
      "execution_count": null,
      "outputs": [
        {
          "output_type": "execute_result",
          "data": {
            "text/plain": [
              "GradientBoostingRegressor(alpha=0.9, ccp_alpha=0.0, criterion='friedman_mse',\n",
              "                          init=None, learning_rate=0.1, loss='ls', max_depth=3,\n",
              "                          max_features=None, max_leaf_nodes=None,\n",
              "                          min_impurity_decrease=0.0, min_impurity_split=None,\n",
              "                          min_samples_leaf=1, min_samples_split=2,\n",
              "                          min_weight_fraction_leaf=0.0, n_estimators=100,\n",
              "                          n_iter_no_change=None, presort='deprecated',\n",
              "                          random_state=None, subsample=1.0, tol=0.0001,\n",
              "                          validation_fraction=0.1, verbose=0, warm_start=False)"
            ]
          },
          "metadata": {
            "tags": []
          },
          "execution_count": 22
        }
      ]
    },
    {
      "cell_type": "code",
      "metadata": {
        "id": "XD5yeAtdLEho"
      },
      "source": [
        "y_pred1 = clf.predict(X_test)"
      ],
      "execution_count": null,
      "outputs": []
    },
    {
      "cell_type": "code",
      "metadata": {
        "id": "qF0NwUQYL_MB",
        "colab": {
          "base_uri": "https://localhost:8080/",
          "height": 69
        },
        "outputId": "a4ce5e1d-2a2a-49ef-90a0-1ca4dd4f74f8"
      },
      "source": [
        "print('Mean Absolute Error:', metrics.mean_absolute_error(y_test, y_pred1))  \n",
        "print('Mean Squared Error:', metrics.mean_squared_error(y_test, y_pred1))  \n",
        "print('Root Mean Squared Error:', np.sqrt(metrics.mean_squared_error(y_test, y_pred1)))"
      ],
      "execution_count": null,
      "outputs": [
        {
          "output_type": "stream",
          "text": [
            "Mean Absolute Error: 10.375585848758886\n",
            "Mean Squared Error: 235.62490661631077\n",
            "Root Mean Squared Error: 15.350078391210605\n"
          ],
          "name": "stdout"
        }
      ]
    },
    {
      "cell_type": "code",
      "metadata": {
        "id": "qg35K1A_MFKX",
        "colab": {
          "base_uri": "https://localhost:8080/",
          "height": 34
        },
        "outputId": "19083f07-af2a-418b-af3f-99364b2b9073"
      },
      "source": [
        "print(clf.score(X_test, y_test))"
      ],
      "execution_count": null,
      "outputs": [
        {
          "output_type": "stream",
          "text": [
            "0.933217568547949\n"
          ],
          "name": "stdout"
        }
      ]
    },
    {
      "cell_type": "markdown",
      "metadata": {
        "id": "SI34v_cYUOZZ"
      },
      "source": [
        "**extra trees regressor**"
      ]
    },
    {
      "cell_type": "code",
      "metadata": {
        "id": "opl79RPeMJNO",
        "colab": {
          "base_uri": "https://localhost:8080/",
          "height": 139
        },
        "outputId": "79324adf-d7cd-4901-89d8-9d2d6b11b370"
      },
      "source": [
        "clf2 = ensemble.ExtraTreesRegressor()\n",
        "clf2.fit(X_train, y_train)"
      ],
      "execution_count": null,
      "outputs": [
        {
          "output_type": "execute_result",
          "data": {
            "text/plain": [
              "ExtraTreesRegressor(bootstrap=False, ccp_alpha=0.0, criterion='mse',\n",
              "                    max_depth=None, max_features='auto', max_leaf_nodes=None,\n",
              "                    max_samples=None, min_impurity_decrease=0.0,\n",
              "                    min_impurity_split=None, min_samples_leaf=1,\n",
              "                    min_samples_split=2, min_weight_fraction_leaf=0.0,\n",
              "                    n_estimators=100, n_jobs=None, oob_score=False,\n",
              "                    random_state=None, verbose=0, warm_start=False)"
            ]
          },
          "metadata": {
            "tags": []
          },
          "execution_count": 26
        }
      ]
    },
    {
      "cell_type": "code",
      "metadata": {
        "id": "oKW8CXGOMRzX"
      },
      "source": [
        "y_pred2 = clf2.predict(X_test)"
      ],
      "execution_count": null,
      "outputs": []
    },
    {
      "cell_type": "code",
      "metadata": {
        "id": "cSw7n28xObiC",
        "colab": {
          "base_uri": "https://localhost:8080/",
          "height": 69
        },
        "outputId": "14b81ff5-f891-4aa2-8e36-e02551dc3954"
      },
      "source": [
        "print('Mean Absolute Error:', metrics.mean_absolute_error(y_test, y_pred2))  \n",
        "print('Mean Squared Error:', metrics.mean_squared_error(y_test, y_pred2))  \n",
        "print('Root Mean Squared Error:', np.sqrt(metrics.mean_squared_error(y_test, y_pred2)))"
      ],
      "execution_count": null,
      "outputs": [
        {
          "output_type": "stream",
          "text": [
            "Mean Absolute Error: 10.528782955475608\n",
            "Mean Squared Error: 235.11870662238502\n",
            "Root Mean Squared Error: 15.33358101104843\n"
          ],
          "name": "stdout"
        }
      ]
    },
    {
      "cell_type": "code",
      "metadata": {
        "id": "RGkQPZXFOhBn",
        "colab": {
          "base_uri": "https://localhost:8080/",
          "height": 34
        },
        "outputId": "767d321e-b9ae-4cdd-8c48-983045732e33"
      },
      "source": [
        "print(clf2.score(X_test, y_test))"
      ],
      "execution_count": null,
      "outputs": [
        {
          "output_type": "stream",
          "text": [
            "0.9333610392314213\n"
          ],
          "name": "stdout"
        }
      ]
    },
    {
      "cell_type": "markdown",
      "metadata": {
        "id": "hC32-Dsdf2OD"
      },
      "source": [
        "### **pipeline architechture**"
      ]
    },
    {
      "cell_type": "code",
      "metadata": {
        "id": "5qeV-nx-Ok1O"
      },
      "source": [
        "#reading dataframe from classification notebook\n",
        "clfdf = pd.read_csv(\"/content/drive/My Drive/clfdataframe.csv\",index_col=0)"
      ],
      "execution_count": null,
      "outputs": []
    },
    {
      "cell_type": "code",
      "metadata": {
        "id": "9ZCabLlNgWLI",
        "colab": {
          "base_uri": "https://localhost:8080/",
          "height": 444
        },
        "outputId": "ce2ed23b-ec76-439e-a458-f552645297ca"
      },
      "source": [
        "#dataframe containing classifier ArrDel15 values along with feature values\n",
        "clfdf = clfdf.reset_index()\n",
        "clfdf"
      ],
      "execution_count": null,
      "outputs": [
        {
          "output_type": "execute_result",
          "data": {
            "text/html": [
              "<div>\n",
              "<style scoped>\n",
              "    .dataframe tbody tr th:only-of-type {\n",
              "        vertical-align: middle;\n",
              "    }\n",
              "\n",
              "    .dataframe tbody tr th {\n",
              "        vertical-align: top;\n",
              "    }\n",
              "\n",
              "    .dataframe thead th {\n",
              "        text-align: right;\n",
              "    }\n",
              "</style>\n",
              "<table border=\"1\" class=\"dataframe\">\n",
              "  <thead>\n",
              "    <tr style=\"text-align: right;\">\n",
              "      <th></th>\n",
              "      <th>index</th>\n",
              "      <th>windspeedKmph_x</th>\n",
              "      <th>winddirDegree_x</th>\n",
              "      <th>weatherCode_x</th>\n",
              "      <th>precipMM_x</th>\n",
              "      <th>visibility_x</th>\n",
              "      <th>pressure_x</th>\n",
              "      <th>cloudcover_x</th>\n",
              "      <th>DewPointF_x</th>\n",
              "      <th>WindGustKmph_x</th>\n",
              "      <th>tempF_x</th>\n",
              "      <th>WindChillF_x</th>\n",
              "      <th>humidity_x</th>\n",
              "      <th>DepTime</th>\n",
              "      <th>DepDel15</th>\n",
              "      <th>CRSDepTime</th>\n",
              "      <th>DepDelayMinutes</th>\n",
              "      <th>OriginAirportID</th>\n",
              "      <th>DestAirportID</th>\n",
              "      <th>ArrDel15</th>\n",
              "      <th>ArrDelayMinutes</th>\n",
              "      <th>Year</th>\n",
              "      <th>FlightDate</th>\n",
              "      <th>Month</th>\n",
              "      <th>DayofMonth</th>\n",
              "    </tr>\n",
              "  </thead>\n",
              "  <tbody>\n",
              "    <tr>\n",
              "      <th>0</th>\n",
              "      <td>1022499</td>\n",
              "      <td>16</td>\n",
              "      <td>247</td>\n",
              "      <td>113</td>\n",
              "      <td>0.0</td>\n",
              "      <td>10</td>\n",
              "      <td>1011</td>\n",
              "      <td>0</td>\n",
              "      <td>60</td>\n",
              "      <td>18</td>\n",
              "      <td>68</td>\n",
              "      <td>69</td>\n",
              "      <td>71</td>\n",
              "      <td>1900.0</td>\n",
              "      <td>1.0</td>\n",
              "      <td>1710</td>\n",
              "      <td>120.0</td>\n",
              "      <td>12892</td>\n",
              "      <td>12889</td>\n",
              "      <td>1.0</td>\n",
              "      <td>111.0</td>\n",
              "      <td>2017</td>\n",
              "      <td>2017-06-25</td>\n",
              "      <td>6</td>\n",
              "      <td>25</td>\n",
              "    </tr>\n",
              "    <tr>\n",
              "      <th>1</th>\n",
              "      <td>693032</td>\n",
              "      <td>25</td>\n",
              "      <td>85</td>\n",
              "      <td>113</td>\n",
              "      <td>0.0</td>\n",
              "      <td>10</td>\n",
              "      <td>1021</td>\n",
              "      <td>32</td>\n",
              "      <td>31</td>\n",
              "      <td>30</td>\n",
              "      <td>36</td>\n",
              "      <td>24</td>\n",
              "      <td>87</td>\n",
              "      <td>800.0</td>\n",
              "      <td>1.0</td>\n",
              "      <td>605</td>\n",
              "      <td>111.0</td>\n",
              "      <td>12478</td>\n",
              "      <td>10397</td>\n",
              "      <td>1.0</td>\n",
              "      <td>91.0</td>\n",
              "      <td>2017</td>\n",
              "      <td>2017-03-19</td>\n",
              "      <td>3</td>\n",
              "      <td>19</td>\n",
              "    </tr>\n",
              "    <tr>\n",
              "      <th>2</th>\n",
              "      <td>1101329</td>\n",
              "      <td>16</td>\n",
              "      <td>248</td>\n",
              "      <td>119</td>\n",
              "      <td>0.0</td>\n",
              "      <td>10</td>\n",
              "      <td>1016</td>\n",
              "      <td>68</td>\n",
              "      <td>59</td>\n",
              "      <td>18</td>\n",
              "      <td>64</td>\n",
              "      <td>63</td>\n",
              "      <td>87</td>\n",
              "      <td>1900.0</td>\n",
              "      <td>1.0</td>\n",
              "      <td>1730</td>\n",
              "      <td>75.0</td>\n",
              "      <td>12892</td>\n",
              "      <td>14771</td>\n",
              "      <td>1.0</td>\n",
              "      <td>61.0</td>\n",
              "      <td>2016</td>\n",
              "      <td>2016-06-13</td>\n",
              "      <td>6</td>\n",
              "      <td>13</td>\n",
              "    </tr>\n",
              "    <tr>\n",
              "      <th>3</th>\n",
              "      <td>901081</td>\n",
              "      <td>5</td>\n",
              "      <td>209</td>\n",
              "      <td>113</td>\n",
              "      <td>0.0</td>\n",
              "      <td>10</td>\n",
              "      <td>1014</td>\n",
              "      <td>15</td>\n",
              "      <td>47</td>\n",
              "      <td>9</td>\n",
              "      <td>71</td>\n",
              "      <td>71</td>\n",
              "      <td>48</td>\n",
              "      <td>2100.0</td>\n",
              "      <td>1.0</td>\n",
              "      <td>2015</td>\n",
              "      <td>32.0</td>\n",
              "      <td>12889</td>\n",
              "      <td>14771</td>\n",
              "      <td>1.0</td>\n",
              "      <td>27.0</td>\n",
              "      <td>2016</td>\n",
              "      <td>2016-04-12</td>\n",
              "      <td>4</td>\n",
              "      <td>12</td>\n",
              "    </tr>\n",
              "    <tr>\n",
              "      <th>4</th>\n",
              "      <td>1204838</td>\n",
              "      <td>8</td>\n",
              "      <td>187</td>\n",
              "      <td>122</td>\n",
              "      <td>0.2</td>\n",
              "      <td>6</td>\n",
              "      <td>1017</td>\n",
              "      <td>100</td>\n",
              "      <td>67</td>\n",
              "      <td>9</td>\n",
              "      <td>76</td>\n",
              "      <td>75</td>\n",
              "      <td>77</td>\n",
              "      <td>1300.0</td>\n",
              "      <td>1.0</td>\n",
              "      <td>1150</td>\n",
              "      <td>88.0</td>\n",
              "      <td>13204</td>\n",
              "      <td>13303</td>\n",
              "      <td>1.0</td>\n",
              "      <td>81.0</td>\n",
              "      <td>2016</td>\n",
              "      <td>2016-11-14</td>\n",
              "      <td>11</td>\n",
              "      <td>14</td>\n",
              "    </tr>\n",
              "    <tr>\n",
              "      <th>...</th>\n",
              "      <td>...</td>\n",
              "      <td>...</td>\n",
              "      <td>...</td>\n",
              "      <td>...</td>\n",
              "      <td>...</td>\n",
              "      <td>...</td>\n",
              "      <td>...</td>\n",
              "      <td>...</td>\n",
              "      <td>...</td>\n",
              "      <td>...</td>\n",
              "      <td>...</td>\n",
              "      <td>...</td>\n",
              "      <td>...</td>\n",
              "      <td>...</td>\n",
              "      <td>...</td>\n",
              "      <td>...</td>\n",
              "      <td>...</td>\n",
              "      <td>...</td>\n",
              "      <td>...</td>\n",
              "      <td>...</td>\n",
              "      <td>...</td>\n",
              "      <td>...</td>\n",
              "      <td>...</td>\n",
              "      <td>...</td>\n",
              "      <td>...</td>\n",
              "    </tr>\n",
              "    <tr>\n",
              "      <th>82328</th>\n",
              "      <td>1436525</td>\n",
              "      <td>18</td>\n",
              "      <td>253</td>\n",
              "      <td>113</td>\n",
              "      <td>0.0</td>\n",
              "      <td>10</td>\n",
              "      <td>1017</td>\n",
              "      <td>15</td>\n",
              "      <td>50</td>\n",
              "      <td>19</td>\n",
              "      <td>76</td>\n",
              "      <td>78</td>\n",
              "      <td>38</td>\n",
              "      <td>1600.0</td>\n",
              "      <td>1.0</td>\n",
              "      <td>1545</td>\n",
              "      <td>37.0</td>\n",
              "      <td>13930</td>\n",
              "      <td>14747</td>\n",
              "      <td>1.0</td>\n",
              "      <td>22.0</td>\n",
              "      <td>2017</td>\n",
              "      <td>2017-06-27</td>\n",
              "      <td>6</td>\n",
              "      <td>27</td>\n",
              "    </tr>\n",
              "    <tr>\n",
              "      <th>82329</th>\n",
              "      <td>687845</td>\n",
              "      <td>13</td>\n",
              "      <td>177</td>\n",
              "      <td>113</td>\n",
              "      <td>0.0</td>\n",
              "      <td>10</td>\n",
              "      <td>1010</td>\n",
              "      <td>67</td>\n",
              "      <td>52</td>\n",
              "      <td>18</td>\n",
              "      <td>77</td>\n",
              "      <td>78</td>\n",
              "      <td>39</td>\n",
              "      <td>1800.0</td>\n",
              "      <td>1.0</td>\n",
              "      <td>1431</td>\n",
              "      <td>183.0</td>\n",
              "      <td>12266</td>\n",
              "      <td>14771</td>\n",
              "      <td>1.0</td>\n",
              "      <td>174.0</td>\n",
              "      <td>2017</td>\n",
              "      <td>2017-04-24</td>\n",
              "      <td>4</td>\n",
              "      <td>24</td>\n",
              "    </tr>\n",
              "    <tr>\n",
              "      <th>82330</th>\n",
              "      <td>1298779</td>\n",
              "      <td>10</td>\n",
              "      <td>145</td>\n",
              "      <td>200</td>\n",
              "      <td>0.1</td>\n",
              "      <td>9</td>\n",
              "      <td>1014</td>\n",
              "      <td>48</td>\n",
              "      <td>68</td>\n",
              "      <td>12</td>\n",
              "      <td>77</td>\n",
              "      <td>77</td>\n",
              "      <td>74</td>\n",
              "      <td>2300.0</td>\n",
              "      <td>1.0</td>\n",
              "      <td>2138</td>\n",
              "      <td>81.0</td>\n",
              "      <td>13303</td>\n",
              "      <td>14771</td>\n",
              "      <td>1.0</td>\n",
              "      <td>90.0</td>\n",
              "      <td>2016</td>\n",
              "      <td>2016-04-14</td>\n",
              "      <td>4</td>\n",
              "      <td>14</td>\n",
              "    </tr>\n",
              "    <tr>\n",
              "      <th>82331</th>\n",
              "      <td>811027</td>\n",
              "      <td>4</td>\n",
              "      <td>100</td>\n",
              "      <td>113</td>\n",
              "      <td>0.0</td>\n",
              "      <td>10</td>\n",
              "      <td>1023</td>\n",
              "      <td>0</td>\n",
              "      <td>25</td>\n",
              "      <td>4</td>\n",
              "      <td>67</td>\n",
              "      <td>68</td>\n",
              "      <td>30</td>\n",
              "      <td>1200.0</td>\n",
              "      <td>1.0</td>\n",
              "      <td>745</td>\n",
              "      <td>249.0</td>\n",
              "      <td>12889</td>\n",
              "      <td>11298</td>\n",
              "      <td>1.0</td>\n",
              "      <td>238.0</td>\n",
              "      <td>2016</td>\n",
              "      <td>2016-02-25</td>\n",
              "      <td>2</td>\n",
              "      <td>25</td>\n",
              "    </tr>\n",
              "    <tr>\n",
              "      <th>82332</th>\n",
              "      <td>1341964</td>\n",
              "      <td>6</td>\n",
              "      <td>310</td>\n",
              "      <td>113</td>\n",
              "      <td>0.0</td>\n",
              "      <td>10</td>\n",
              "      <td>1015</td>\n",
              "      <td>0</td>\n",
              "      <td>64</td>\n",
              "      <td>8</td>\n",
              "      <td>76</td>\n",
              "      <td>78</td>\n",
              "      <td>74</td>\n",
              "      <td>2100.0</td>\n",
              "      <td>1.0</td>\n",
              "      <td>2020</td>\n",
              "      <td>16.0</td>\n",
              "      <td>13930</td>\n",
              "      <td>11298</td>\n",
              "      <td>1.0</td>\n",
              "      <td>27.0</td>\n",
              "      <td>2016</td>\n",
              "      <td>2016-07-25</td>\n",
              "      <td>7</td>\n",
              "      <td>25</td>\n",
              "    </tr>\n",
              "  </tbody>\n",
              "</table>\n",
              "<p>82333 rows × 25 columns</p>\n",
              "</div>"
            ],
            "text/plain": [
              "         index  windspeedKmph_x  winddirDegree_x  ...  FlightDate  Month  DayofMonth\n",
              "0      1022499               16              247  ...  2017-06-25      6          25\n",
              "1       693032               25               85  ...  2017-03-19      3          19\n",
              "2      1101329               16              248  ...  2016-06-13      6          13\n",
              "3       901081                5              209  ...  2016-04-12      4          12\n",
              "4      1204838                8              187  ...  2016-11-14     11          14\n",
              "...        ...              ...              ...  ...         ...    ...         ...\n",
              "82328  1436525               18              253  ...  2017-06-27      6          27\n",
              "82329   687845               13              177  ...  2017-04-24      4          24\n",
              "82330  1298779               10              145  ...  2016-04-14      4          14\n",
              "82331   811027                4              100  ...  2016-02-25      2          25\n",
              "82332  1341964                6              310  ...  2016-07-25      7          25\n",
              "\n",
              "[82333 rows x 25 columns]"
            ]
          },
          "metadata": {
            "tags": []
          },
          "execution_count": 13
        }
      ]
    },
    {
      "cell_type": "code",
      "metadata": {
        "id": "TfPVoxslhgFZ"
      },
      "source": [
        "#regression using selected features(weather data at the time of departure and flight details)\n",
        "feature_cols = ['windspeedKmph_x', 'winddirDegree_x', 'weatherCode_x', 'precipMM_x', 'visibility_x',\n",
        "           'pressure_x', 'cloudcover_x', 'DewPointF_x', 'WindGustKmph_x', 'tempF_x',\n",
        "           'WindChillF_x', 'humidity_x',\"Year\", \"Month\", \"DayofMonth\",\n",
        "              \"CRSDepTime\", \n",
        "       \"OriginAirportID\", \"DestAirportID\"]\n",
        "X = clfdf[feature_cols] #X value containing all data from feature columns\n",
        "y = clfdf.ArrDelayMinutes #y value containing target variable of arrival delay period"
      ],
      "execution_count": null,
      "outputs": []
    },
    {
      "cell_type": "code",
      "metadata": {
        "id": "4k59ziyra4_H",
        "colab": {
          "base_uri": "https://localhost:8080/",
          "height": 34
        },
        "outputId": "1196ba79-57f4-409b-af46-5a7884f0cad1"
      },
      "source": [
        "#peforming linear regression\n",
        "X_train, X_test, y_train, y_test = train_test_split(X, y, test_size=0.2, random_state=0)\n",
        "regressor1 = LinearRegression()  \n",
        "regressor1.fit(X_train, y_train)"
      ],
      "execution_count": null,
      "outputs": [
        {
          "output_type": "execute_result",
          "data": {
            "text/plain": [
              "LinearRegression(copy_X=True, fit_intercept=True, n_jobs=None, normalize=False)"
            ]
          },
          "metadata": {
            "tags": []
          },
          "execution_count": 15
        }
      ]
    },
    {
      "cell_type": "code",
      "metadata": {
        "id": "Gl9iISFldRLU",
        "colab": {
          "base_uri": "https://localhost:8080/",
          "height": 614
        },
        "outputId": "8a3f8ab3-2410-4e56-bd69-0b25298d423a"
      },
      "source": [
        "#assessing the degree to which each feature affects the arrival delay mins\n",
        "coeff_df1 = pd.DataFrame(regressor1.coef_, X.columns, columns=['Coefficient:ArrDelay'])  \n",
        "coeff_df1"
      ],
      "execution_count": null,
      "outputs": [
        {
          "output_type": "execute_result",
          "data": {
            "text/html": [
              "<div>\n",
              "<style scoped>\n",
              "    .dataframe tbody tr th:only-of-type {\n",
              "        vertical-align: middle;\n",
              "    }\n",
              "\n",
              "    .dataframe tbody tr th {\n",
              "        vertical-align: top;\n",
              "    }\n",
              "\n",
              "    .dataframe thead th {\n",
              "        text-align: right;\n",
              "    }\n",
              "</style>\n",
              "<table border=\"1\" class=\"dataframe\">\n",
              "  <thead>\n",
              "    <tr style=\"text-align: right;\">\n",
              "      <th></th>\n",
              "      <th>Coefficient:ArrDelay</th>\n",
              "    </tr>\n",
              "  </thead>\n",
              "  <tbody>\n",
              "    <tr>\n",
              "      <th>windspeedKmph_x</th>\n",
              "      <td>-1.192064</td>\n",
              "    </tr>\n",
              "    <tr>\n",
              "      <th>winddirDegree_x</th>\n",
              "      <td>0.001448</td>\n",
              "    </tr>\n",
              "    <tr>\n",
              "      <th>weatherCode_x</th>\n",
              "      <td>0.013066</td>\n",
              "    </tr>\n",
              "    <tr>\n",
              "      <th>precipMM_x</th>\n",
              "      <td>0.851120</td>\n",
              "    </tr>\n",
              "    <tr>\n",
              "      <th>visibility_x</th>\n",
              "      <td>-0.392135</td>\n",
              "    </tr>\n",
              "    <tr>\n",
              "      <th>pressure_x</th>\n",
              "      <td>-0.250042</td>\n",
              "    </tr>\n",
              "    <tr>\n",
              "      <th>cloudcover_x</th>\n",
              "      <td>-0.046276</td>\n",
              "    </tr>\n",
              "    <tr>\n",
              "      <th>DewPointF_x</th>\n",
              "      <td>0.255079</td>\n",
              "    </tr>\n",
              "    <tr>\n",
              "      <th>WindGustKmph_x</th>\n",
              "      <td>1.132939</td>\n",
              "    </tr>\n",
              "    <tr>\n",
              "      <th>tempF_x</th>\n",
              "      <td>-0.909762</td>\n",
              "    </tr>\n",
              "    <tr>\n",
              "      <th>WindChillF_x</th>\n",
              "      <td>0.679071</td>\n",
              "    </tr>\n",
              "    <tr>\n",
              "      <th>humidity_x</th>\n",
              "      <td>0.050548</td>\n",
              "    </tr>\n",
              "    <tr>\n",
              "      <th>Year</th>\n",
              "      <td>-0.520422</td>\n",
              "    </tr>\n",
              "    <tr>\n",
              "      <th>Month</th>\n",
              "      <td>-0.302331</td>\n",
              "    </tr>\n",
              "    <tr>\n",
              "      <th>DayofMonth</th>\n",
              "      <td>-0.034278</td>\n",
              "    </tr>\n",
              "    <tr>\n",
              "      <th>CRSDepTime</th>\n",
              "      <td>0.001276</td>\n",
              "    </tr>\n",
              "    <tr>\n",
              "      <th>OriginAirportID</th>\n",
              "      <td>-0.000502</td>\n",
              "    </tr>\n",
              "    <tr>\n",
              "      <th>DestAirportID</th>\n",
              "      <td>-0.001001</td>\n",
              "    </tr>\n",
              "  </tbody>\n",
              "</table>\n",
              "</div>"
            ],
            "text/plain": [
              "                 Coefficient:ArrDelay\n",
              "windspeedKmph_x             -1.192064\n",
              "winddirDegree_x              0.001448\n",
              "weatherCode_x                0.013066\n",
              "precipMM_x                   0.851120\n",
              "visibility_x                -0.392135\n",
              "pressure_x                  -0.250042\n",
              "cloudcover_x                -0.046276\n",
              "DewPointF_x                  0.255079\n",
              "WindGustKmph_x               1.132939\n",
              "tempF_x                     -0.909762\n",
              "WindChillF_x                 0.679071\n",
              "humidity_x                   0.050548\n",
              "Year                        -0.520422\n",
              "Month                       -0.302331\n",
              "DayofMonth                  -0.034278\n",
              "CRSDepTime                   0.001276\n",
              "OriginAirportID             -0.000502\n",
              "DestAirportID               -0.001001"
            ]
          },
          "metadata": {
            "tags": []
          },
          "execution_count": 16
        }
      ]
    },
    {
      "cell_type": "code",
      "metadata": {
        "id": "IvuRRF1Hdi2D"
      },
      "source": [
        "#showing actual vs predicted arrival delay minutes\n",
        "y_pred1 = regressor1.predict(X_test)\n",
        "preddf = pd.DataFrame({'Actual': y_test, 'Predicted': y_pred1})\n",
        "preddf1 = preddf.head(25)"
      ],
      "execution_count": null,
      "outputs": []
    },
    {
      "cell_type": "code",
      "metadata": {
        "id": "XA6IGF38dylk",
        "colab": {
          "base_uri": "https://localhost:8080/",
          "height": 834
        },
        "outputId": "8e05cf0c-6286-485f-d794-6fe3ad505df8"
      },
      "source": [
        "preddf1"
      ],
      "execution_count": null,
      "outputs": [
        {
          "output_type": "execute_result",
          "data": {
            "text/html": [
              "<div>\n",
              "<style scoped>\n",
              "    .dataframe tbody tr th:only-of-type {\n",
              "        vertical-align: middle;\n",
              "    }\n",
              "\n",
              "    .dataframe tbody tr th {\n",
              "        vertical-align: top;\n",
              "    }\n",
              "\n",
              "    .dataframe thead th {\n",
              "        text-align: right;\n",
              "    }\n",
              "</style>\n",
              "<table border=\"1\" class=\"dataframe\">\n",
              "  <thead>\n",
              "    <tr style=\"text-align: right;\">\n",
              "      <th></th>\n",
              "      <th>Actual</th>\n",
              "      <th>Predicted</th>\n",
              "    </tr>\n",
              "  </thead>\n",
              "  <tbody>\n",
              "    <tr>\n",
              "      <th>63163</th>\n",
              "      <td>35.0</td>\n",
              "      <td>71.156925</td>\n",
              "    </tr>\n",
              "    <tr>\n",
              "      <th>58717</th>\n",
              "      <td>7.0</td>\n",
              "      <td>76.610695</td>\n",
              "    </tr>\n",
              "    <tr>\n",
              "      <th>13372</th>\n",
              "      <td>17.0</td>\n",
              "      <td>59.893971</td>\n",
              "    </tr>\n",
              "    <tr>\n",
              "      <th>68133</th>\n",
              "      <td>26.0</td>\n",
              "      <td>99.840446</td>\n",
              "    </tr>\n",
              "    <tr>\n",
              "      <th>22681</th>\n",
              "      <td>23.0</td>\n",
              "      <td>58.529770</td>\n",
              "    </tr>\n",
              "    <tr>\n",
              "      <th>52263</th>\n",
              "      <td>55.0</td>\n",
              "      <td>76.389650</td>\n",
              "    </tr>\n",
              "    <tr>\n",
              "      <th>47567</th>\n",
              "      <td>164.0</td>\n",
              "      <td>69.131428</td>\n",
              "    </tr>\n",
              "    <tr>\n",
              "      <th>5208</th>\n",
              "      <td>3.0</td>\n",
              "      <td>67.639330</td>\n",
              "    </tr>\n",
              "    <tr>\n",
              "      <th>9114</th>\n",
              "      <td>23.0</td>\n",
              "      <td>48.701645</td>\n",
              "    </tr>\n",
              "    <tr>\n",
              "      <th>52089</th>\n",
              "      <td>54.0</td>\n",
              "      <td>55.880936</td>\n",
              "    </tr>\n",
              "    <tr>\n",
              "      <th>50091</th>\n",
              "      <td>299.0</td>\n",
              "      <td>52.425681</td>\n",
              "    </tr>\n",
              "    <tr>\n",
              "      <th>44701</th>\n",
              "      <td>98.0</td>\n",
              "      <td>60.533672</td>\n",
              "    </tr>\n",
              "    <tr>\n",
              "      <th>46441</th>\n",
              "      <td>31.0</td>\n",
              "      <td>50.520406</td>\n",
              "    </tr>\n",
              "    <tr>\n",
              "      <th>73638</th>\n",
              "      <td>58.0</td>\n",
              "      <td>55.735476</td>\n",
              "    </tr>\n",
              "    <tr>\n",
              "      <th>37609</th>\n",
              "      <td>77.0</td>\n",
              "      <td>67.139201</td>\n",
              "    </tr>\n",
              "    <tr>\n",
              "      <th>18970</th>\n",
              "      <td>39.0</td>\n",
              "      <td>61.081478</td>\n",
              "    </tr>\n",
              "    <tr>\n",
              "      <th>69563</th>\n",
              "      <td>86.0</td>\n",
              "      <td>73.631837</td>\n",
              "    </tr>\n",
              "    <tr>\n",
              "      <th>76149</th>\n",
              "      <td>93.0</td>\n",
              "      <td>70.159628</td>\n",
              "    </tr>\n",
              "    <tr>\n",
              "      <th>69520</th>\n",
              "      <td>6.0</td>\n",
              "      <td>65.175006</td>\n",
              "    </tr>\n",
              "    <tr>\n",
              "      <th>23894</th>\n",
              "      <td>129.0</td>\n",
              "      <td>77.673618</td>\n",
              "    </tr>\n",
              "    <tr>\n",
              "      <th>55363</th>\n",
              "      <td>35.0</td>\n",
              "      <td>61.570731</td>\n",
              "    </tr>\n",
              "    <tr>\n",
              "      <th>445</th>\n",
              "      <td>109.0</td>\n",
              "      <td>63.147959</td>\n",
              "    </tr>\n",
              "    <tr>\n",
              "      <th>10699</th>\n",
              "      <td>149.0</td>\n",
              "      <td>69.789454</td>\n",
              "    </tr>\n",
              "    <tr>\n",
              "      <th>40506</th>\n",
              "      <td>69.0</td>\n",
              "      <td>59.722392</td>\n",
              "    </tr>\n",
              "    <tr>\n",
              "      <th>51656</th>\n",
              "      <td>95.0</td>\n",
              "      <td>74.069328</td>\n",
              "    </tr>\n",
              "  </tbody>\n",
              "</table>\n",
              "</div>"
            ],
            "text/plain": [
              "       Actual  Predicted\n",
              "63163    35.0  71.156925\n",
              "58717     7.0  76.610695\n",
              "13372    17.0  59.893971\n",
              "68133    26.0  99.840446\n",
              "22681    23.0  58.529770\n",
              "52263    55.0  76.389650\n",
              "47567   164.0  69.131428\n",
              "5208      3.0  67.639330\n",
              "9114     23.0  48.701645\n",
              "52089    54.0  55.880936\n",
              "50091   299.0  52.425681\n",
              "44701    98.0  60.533672\n",
              "46441    31.0  50.520406\n",
              "73638    58.0  55.735476\n",
              "37609    77.0  67.139201\n",
              "18970    39.0  61.081478\n",
              "69563    86.0  73.631837\n",
              "76149    93.0  70.159628\n",
              "69520     6.0  65.175006\n",
              "23894   129.0  77.673618\n",
              "55363    35.0  61.570731\n",
              "445     109.0  63.147959\n",
              "10699   149.0  69.789454\n",
              "40506    69.0  59.722392\n",
              "51656    95.0  74.069328"
            ]
          },
          "metadata": {
            "tags": []
          },
          "execution_count": 18
        }
      ]
    },
    {
      "cell_type": "code",
      "metadata": {
        "id": "Pcl6393IodiR",
        "colab": {
          "base_uri": "https://localhost:8080/",
          "height": 69
        },
        "outputId": "777a7105-d1f4-4059-94ab-4f799f2cd5ce"
      },
      "source": [
        "#weather and flight data only\n",
        "print('Mean Absolute Error:', metrics.mean_absolute_error(y_test, y_pred1))  \n",
        "print('Mean Squared Error:', metrics.mean_squared_error(y_test, y_pred1))  \n",
        "print('Root Mean Squared Error:', np.sqrt(metrics.mean_squared_error(y_test, y_pred1)))"
      ],
      "execution_count": null,
      "outputs": [
        {
          "output_type": "stream",
          "text": [
            "Mean Absolute Error: 48.32936852615533\n",
            "Mean Squared Error: 6097.349012745235\n",
            "Root Mean Squared Error: 78.08552370795265\n"
          ],
          "name": "stdout"
        }
      ]
    },
    {
      "cell_type": "code",
      "metadata": {
        "id": "0Nl4WpvHokXS",
        "colab": {
          "base_uri": "https://localhost:8080/",
          "height": 34
        },
        "outputId": "2534aa24-3faf-48fb-a327-6c8c6af31c27"
      },
      "source": [
        "#weather and flight data only\n",
        "print(regressor1.score(X_test, y_test))"
      ],
      "execution_count": null,
      "outputs": [
        {
          "output_type": "stream",
          "text": [
            "0.008215618377402811\n"
          ],
          "name": "stdout"
        }
      ]
    },
    {
      "cell_type": "markdown",
      "metadata": {
        "id": "xnYVWpWqT5j5"
      },
      "source": [
        "**pipeline metrics considering weather + flight + departure details**"
      ]
    },
    {
      "cell_type": "code",
      "metadata": {
        "id": "L998KszOd1E3",
        "colab": {
          "base_uri": "https://localhost:8080/",
          "height": 69
        },
        "outputId": "c3d2fc2d-a684-4fc7-a14c-39a64dcd5713"
      },
      "source": [
        "print('Mean Absolute Error:', metrics.mean_absolute_error(y_test, y_pred1))  \n",
        "print('Mean Squared Error:', metrics.mean_squared_error(y_test, y_pred1))  \n",
        "print('Root Mean Squared Error:', np.sqrt(metrics.mean_squared_error(y_test, y_pred1)))"
      ],
      "execution_count": null,
      "outputs": [
        {
          "output_type": "stream",
          "text": [
            "Mean Absolute Error: 12.58383267337579\n",
            "Mean Squared Error: 325.0536186940057\n",
            "Root Mean Squared Error: 18.02924343099304\n"
          ],
          "name": "stdout"
        }
      ]
    },
    {
      "cell_type": "code",
      "metadata": {
        "id": "MRypai6_d8AG",
        "colab": {
          "base_uri": "https://localhost:8080/",
          "height": 34
        },
        "outputId": "be11daef-fd85-465b-fdc6-63fbe2281a4c"
      },
      "source": [
        "print(regressor1.score(X_test, y_test))"
      ],
      "execution_count": null,
      "outputs": [
        {
          "output_type": "stream",
          "text": [
            "0.9471273332825877\n"
          ],
          "name": "stdout"
        }
      ]
    },
    {
      "cell_type": "code",
      "metadata": {
        "id": "2qgCpKSCeHCz",
        "colab": {
          "base_uri": "https://localhost:8080/",
          "height": 173
        },
        "outputId": "af6f5b36-a25f-4f52-bcec-e42c8a822454"
      },
      "source": [
        "clf.fit(X_train, y_train)"
      ],
      "execution_count": null,
      "outputs": [
        {
          "output_type": "execute_result",
          "data": {
            "text/plain": [
              "GradientBoostingRegressor(alpha=0.9, ccp_alpha=0.0, criterion='friedman_mse',\n",
              "                          init=None, learning_rate=0.1, loss='ls', max_depth=3,\n",
              "                          max_features=None, max_leaf_nodes=None,\n",
              "                          min_impurity_decrease=0.0, min_impurity_split=None,\n",
              "                          min_samples_leaf=1, min_samples_split=2,\n",
              "                          min_weight_fraction_leaf=0.0, n_estimators=100,\n",
              "                          n_iter_no_change=None, presort='deprecated',\n",
              "                          random_state=None, subsample=1.0, tol=0.0001,\n",
              "                          validation_fraction=0.1, verbose=0, warm_start=False)"
            ]
          },
          "metadata": {
            "tags": []
          },
          "execution_count": 47
        }
      ]
    },
    {
      "cell_type": "code",
      "metadata": {
        "id": "yxyweWthel5e"
      },
      "source": [
        "y_pred1 = clf.predict(X_test)"
      ],
      "execution_count": null,
      "outputs": []
    },
    {
      "cell_type": "code",
      "metadata": {
        "id": "w6h0eoQZeywI",
        "colab": {
          "base_uri": "https://localhost:8080/",
          "height": 69
        },
        "outputId": "d07bc985-6913-4e0c-c3d9-1d3b8df3f621"
      },
      "source": [
        "print('Mean Absolute Error:', metrics.mean_absolute_error(y_test, y_pred1))  \n",
        "print('Mean Squared Error:', metrics.mean_squared_error(y_test, y_pred1))  \n",
        "print('Root Mean Squared Error:', np.sqrt(metrics.mean_squared_error(y_test, y_pred1)))"
      ],
      "execution_count": null,
      "outputs": [
        {
          "output_type": "stream",
          "text": [
            "Mean Absolute Error: 12.322019898362987\n",
            "Mean Squared Error: 311.78801267814845\n",
            "Root Mean Squared Error: 17.657520003617396\n"
          ],
          "name": "stdout"
        }
      ]
    },
    {
      "cell_type": "code",
      "metadata": {
        "id": "qQIlpEeme2nA",
        "colab": {
          "base_uri": "https://localhost:8080/",
          "height": 34
        },
        "outputId": "45f106d9-40eb-449a-ee5f-9b5052b2e69d"
      },
      "source": [
        "print(clf.score(X_test, y_test))"
      ],
      "execution_count": null,
      "outputs": [
        {
          "output_type": "stream",
          "text": [
            "0.9492850941113978\n"
          ],
          "name": "stdout"
        }
      ]
    },
    {
      "cell_type": "code",
      "metadata": {
        "id": "tRWZ8V1me6c_",
        "colab": {
          "base_uri": "https://localhost:8080/",
          "height": 139
        },
        "outputId": "de064dcd-69a7-4989-b6f5-f240b7659b16"
      },
      "source": [
        "clf2 = ensemble.ExtraTreesRegressor()\n",
        "clf2.fit(X_train, y_train)"
      ],
      "execution_count": null,
      "outputs": [
        {
          "output_type": "execute_result",
          "data": {
            "text/plain": [
              "ExtraTreesRegressor(bootstrap=False, ccp_alpha=0.0, criterion='mse',\n",
              "                    max_depth=None, max_features='auto', max_leaf_nodes=None,\n",
              "                    max_samples=None, min_impurity_decrease=0.0,\n",
              "                    min_impurity_split=None, min_samples_leaf=1,\n",
              "                    min_samples_split=2, min_weight_fraction_leaf=0.0,\n",
              "                    n_estimators=100, n_jobs=None, oob_score=False,\n",
              "                    random_state=None, verbose=0, warm_start=False)"
            ]
          },
          "metadata": {
            "tags": []
          },
          "execution_count": 51
        }
      ]
    },
    {
      "cell_type": "code",
      "metadata": {
        "id": "5Kqh4nMkfL1l"
      },
      "source": [
        "y_pred1 = clf2.predict(X_test)"
      ],
      "execution_count": null,
      "outputs": []
    },
    {
      "cell_type": "code",
      "metadata": {
        "id": "lbjgfqbdfTPx",
        "colab": {
          "base_uri": "https://localhost:8080/",
          "height": 69
        },
        "outputId": "56f65aef-4c80-48ac-edc6-5192dd4b8eb8"
      },
      "source": [
        "print('Mean Absolute Error:', metrics.mean_absolute_error(y_test, y_pred1))  \n",
        "print('Mean Squared Error:', metrics.mean_squared_error(y_test, y_pred1))  \n",
        "print('Root Mean Squared Error:', np.sqrt(metrics.mean_squared_error(y_test, y_pred1)))"
      ],
      "execution_count": null,
      "outputs": [
        {
          "output_type": "stream",
          "text": [
            "Mean Absolute Error: 12.939425821339649\n",
            "Mean Squared Error: 333.00107207293377\n",
            "Root Mean Squared Error: 18.248316965488456\n"
          ],
          "name": "stdout"
        }
      ]
    },
    {
      "cell_type": "code",
      "metadata": {
        "id": "bWCEW3YvfYf6",
        "colab": {
          "base_uri": "https://localhost:8080/",
          "height": 34
        },
        "outputId": "10788a90-4956-4e9c-853c-eb4082a777ad"
      },
      "source": [
        "print(clf2.score(X_test, y_test))"
      ],
      "execution_count": null,
      "outputs": [
        {
          "output_type": "stream",
          "text": [
            "0.9458346140830768\n"
          ],
          "name": "stdout"
        }
      ]
    }
  ]
}